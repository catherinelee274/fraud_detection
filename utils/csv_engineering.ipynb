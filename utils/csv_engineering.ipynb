{
 "cells": [
  {
   "cell_type": "markdown",
   "metadata": {},
   "source": [
    "Lets pull the first 10,000,000 records in the training set and compute general statistics on them "
   ]
  },
  {
   "cell_type": "code",
   "execution_count": 2,
   "metadata": {},
   "outputs": [],
   "source": [
    "# Pulling the first 10,000,000 records from the training set into a separate csv\n",
    "\n",
    "with open(\"data/train.csv\",\"r\") as csvfile, \\\n",
    "    open(\"data/train_subset.csv\",\"w\") as outfile:\n",
    "    out_size = round(1e7) + 1\n",
    "    for i in range(out_size):\n",
    "        outfile.write(csvfile.readline())\n",
    "        if i < out_size-1:\n",
    "            outfile.write(\"\\n\")\n",
    "        \n",
    "        \n",
    "        "
   ]
  }
 ],
 "metadata": {
  "kernelspec": {
   "display_name": "Python 3",
   "language": "python",
   "name": "python3"
  },
  "language_info": {
   "codemirror_mode": {
    "name": "ipython",
    "version": 3
   },
   "file_extension": ".py",
   "mimetype": "text/x-python",
   "name": "python",
   "nbconvert_exporter": "python",
   "pygments_lexer": "ipython3",
   "version": "3.6.7"
  }
 },
 "nbformat": 4,
 "nbformat_minor": 2
}
