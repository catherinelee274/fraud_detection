{
 "cells": [
  {
   "cell_type": "markdown",
   "metadata": {},
   "source": [
    "# Adtracking Fraud Detection"
   ]
  },
  {
   "cell_type": "markdown",
   "metadata": {},
   "source": [
    "by Kyle O'Brien, Catherine Lee, Amit Saxena "
   ]
  },
  {
   "cell_type": "markdown",
   "metadata": {},
   "source": [
    "Data is in \"data/\" and includes the training and testing csv files.\n",
    "Evaluation metrics will include looking at R^2 and a confusion matrix. Other things to try, CNN (Resnet, inceptionv3)"
   ]
  },
  {
   "cell_type": "code",
   "execution_count": 1,
   "metadata": {},
   "outputs": [
    {
     "name": "stderr",
     "output_type": "stream",
     "text": [
      "Using TensorFlow backend.\n"
     ]
    }
   ],
   "source": [
    "import numpy as np         # linear algebra\n",
    "import sklearn as sk       # machine learning\n",
    "import pandas as pd        # reading in data files, data cleaning\n",
    "import matplotlib.pyplot as plt   # for plotting\n",
    "import seaborn as sns      # visualization tool\n",
    "import tensorflow as tf\n",
    "import keras"
   ]
  },
  {
   "cell_type": "markdown",
   "metadata": {},
   "source": [
    "Train_sample: 100,000 randomly-selected rows of training data (because the full training data takes too long)"
   ]
  },
  {
   "cell_type": "code",
   "execution_count": 2,
   "metadata": {},
   "outputs": [
    {
     "data": {
      "text/html": [
       "<div>\n",
       "<style scoped>\n",
       "    .dataframe tbody tr th:only-of-type {\n",
       "        vertical-align: middle;\n",
       "    }\n",
       "\n",
       "    .dataframe tbody tr th {\n",
       "        vertical-align: top;\n",
       "    }\n",
       "\n",
       "    .dataframe thead th {\n",
       "        text-align: right;\n",
       "    }\n",
       "</style>\n",
       "<table border=\"1\" class=\"dataframe\">\n",
       "  <thead>\n",
       "    <tr style=\"text-align: right;\">\n",
       "      <th></th>\n",
       "      <th>ip</th>\n",
       "      <th>app</th>\n",
       "      <th>device</th>\n",
       "      <th>os</th>\n",
       "      <th>channel</th>\n",
       "      <th>click_time</th>\n",
       "      <th>attributed_time</th>\n",
       "      <th>is_attributed</th>\n",
       "    </tr>\n",
       "  </thead>\n",
       "  <tbody>\n",
       "    <tr>\n",
       "      <th>0</th>\n",
       "      <td>83252</td>\n",
       "      <td>3</td>\n",
       "      <td>1</td>\n",
       "      <td>16</td>\n",
       "      <td>379</td>\n",
       "      <td>2017-11-06 15:42:19</td>\n",
       "      <td>NaN</td>\n",
       "      <td>0</td>\n",
       "    </tr>\n",
       "    <tr>\n",
       "      <th>1</th>\n",
       "      <td>106590</td>\n",
       "      <td>3</td>\n",
       "      <td>1</td>\n",
       "      <td>25</td>\n",
       "      <td>379</td>\n",
       "      <td>2017-11-06 15:43:23</td>\n",
       "      <td>NaN</td>\n",
       "      <td>0</td>\n",
       "    </tr>\n",
       "    <tr>\n",
       "      <th>2</th>\n",
       "      <td>147164</td>\n",
       "      <td>14</td>\n",
       "      <td>1</td>\n",
       "      <td>28</td>\n",
       "      <td>134</td>\n",
       "      <td>2017-11-06 16:00:00</td>\n",
       "      <td>NaN</td>\n",
       "      <td>0</td>\n",
       "    </tr>\n",
       "    <tr>\n",
       "      <th>3</th>\n",
       "      <td>39782</td>\n",
       "      <td>2</td>\n",
       "      <td>1</td>\n",
       "      <td>10</td>\n",
       "      <td>205</td>\n",
       "      <td>2017-11-06 16:00:00</td>\n",
       "      <td>NaN</td>\n",
       "      <td>0</td>\n",
       "    </tr>\n",
       "    <tr>\n",
       "      <th>4</th>\n",
       "      <td>121646</td>\n",
       "      <td>23</td>\n",
       "      <td>1</td>\n",
       "      <td>13</td>\n",
       "      <td>153</td>\n",
       "      <td>2017-11-06 16:00:00</td>\n",
       "      <td>NaN</td>\n",
       "      <td>0</td>\n",
       "    </tr>\n",
       "  </tbody>\n",
       "</table>\n",
       "</div>"
      ],
      "text/plain": [
       "       ip  app  device  os  channel           click_time attributed_time  \\\n",
       "0   83252    3       1  16      379  2017-11-06 15:42:19             NaN   \n",
       "1  106590    3       1  25      379  2017-11-06 15:43:23             NaN   \n",
       "2  147164   14       1  28      134  2017-11-06 16:00:00             NaN   \n",
       "3   39782    2       1  10      205  2017-11-06 16:00:00             NaN   \n",
       "4  121646   23       1  13      153  2017-11-06 16:00:00             NaN   \n",
       "\n",
       "   is_attributed  \n",
       "0              0  \n",
       "1              0  \n",
       "2              0  \n",
       "3              0  \n",
       "4              0  "
      ]
     },
     "execution_count": 2,
     "metadata": {},
     "output_type": "execute_result"
    }
   ],
   "source": [
    "#load data in \n",
    "\n",
    "data = pd.read_csv(\"data/equalized_train.csv\")\n",
    "\n",
    "data.head()\n"
   ]
  },
  {
   "cell_type": "code",
   "execution_count": 3,
   "metadata": {
    "scrolled": true
   },
   "outputs": [
    {
     "name": "stdout",
     "output_type": "stream",
     "text": [
      "<class 'pandas.core.frame.DataFrame'>\n",
      "RangeIndex: 91473 entries, 0 to 91472\n",
      "Data columns (total 8 columns):\n",
      "ip                 91473 non-null int64\n",
      "app                91473 non-null int64\n",
      "device             91473 non-null int64\n",
      "os                 91473 non-null int64\n",
      "channel            91473 non-null int64\n",
      "click_time         91473 non-null object\n",
      "attributed_time    41473 non-null object\n",
      "is_attributed      91473 non-null int64\n",
      "dtypes: int64(6), object(2)\n",
      "memory usage: 5.6+ MB\n"
     ]
    }
   ],
   "source": [
    "data.info()\n"
   ]
  },
  {
   "cell_type": "markdown",
   "metadata": {},
   "source": [
    "Dropping attributed_time because many null values"
   ]
  },
  {
   "cell_type": "markdown",
   "metadata": {},
   "source": [
    "# Feature Engineering for Date and Time"
   ]
  },
  {
   "cell_type": "code",
   "execution_count": 4,
   "metadata": {},
   "outputs": [],
   "source": [
    "# Parsed `click_time` feature to seconds since epoch\n",
    "# Stored new column in `click_time_epoch`\n",
    "from datetime import datetime, timezone\n",
    "\n",
    "def epoch_distance(iso):\n",
    "    dt = datetime.strptime(iso,\"%Y-%m-%d %H:%M:%S\")\n",
    "    dt.replace(tzinfo=timezone.utc)\n",
    "    return dt.timestamp()\n",
    "\n",
    "#convert click_time to seconds since epoch\n",
    "data['click_time_epoch'] =  data['click_time'].map(epoch_distance)"
   ]
  },
  {
   "cell_type": "code",
   "execution_count": 5,
   "metadata": {},
   "outputs": [],
   "source": [
    "def day_seconds(timestamp):\n",
    "    dt = datetime.fromtimestamp(timestamp,timezone.utc)\n",
    "    return dt.hour*3600 + dt.minute*60 + dt.second\n",
    "\n",
    "def day_minutes(timestamp):\n",
    "    return round(day_seconds(timestamp) / 60)\n",
    "    \n",
    "\n",
    "# parsed `click_time` feature to seconds of the current day\n",
    "# stored new column in `click_time_secs`\n",
    "data['click_time_secs'] =  data['click_time_epoch'].map(day_seconds)\n",
    "\n",
    "# parsed `click_time` feature to minutes of the current day\n",
    "# stored new column in `click_time_mins`\n",
    "data['click_time_mins'] =  data['click_time_epoch'].map(day_minutes)"
   ]
  },
  {
   "cell_type": "code",
   "execution_count": 6,
   "metadata": {},
   "outputs": [
    {
     "name": "stdout",
     "output_type": "stream",
     "text": [
      "<class 'pandas.core.frame.DataFrame'>\n",
      "RangeIndex: 91473 entries, 0 to 91472\n",
      "Data columns (total 11 columns):\n",
      "ip                  91473 non-null int64\n",
      "app                 91473 non-null int64\n",
      "device              91473 non-null int64\n",
      "os                  91473 non-null int64\n",
      "channel             91473 non-null int64\n",
      "click_time          91473 non-null object\n",
      "attributed_time     41473 non-null object\n",
      "is_attributed       91473 non-null int64\n",
      "click_time_epoch    91473 non-null float64\n",
      "click_time_secs     91473 non-null int64\n",
      "click_time_mins     91473 non-null int64\n",
      "dtypes: float64(1), int64(8), object(2)\n",
      "memory usage: 7.7+ MB\n"
     ]
    }
   ],
   "source": [
    "data.info()\n"
   ]
  },
  {
   "cell_type": "code",
   "execution_count": 7,
   "metadata": {},
   "outputs": [
    {
     "data": {
      "text/html": [
       "<div>\n",
       "<style scoped>\n",
       "    .dataframe tbody tr th:only-of-type {\n",
       "        vertical-align: middle;\n",
       "    }\n",
       "\n",
       "    .dataframe tbody tr th {\n",
       "        vertical-align: top;\n",
       "    }\n",
       "\n",
       "    .dataframe thead th {\n",
       "        text-align: right;\n",
       "    }\n",
       "</style>\n",
       "<table border=\"1\" class=\"dataframe\">\n",
       "  <thead>\n",
       "    <tr style=\"text-align: right;\">\n",
       "      <th></th>\n",
       "      <th>ip</th>\n",
       "      <th>app</th>\n",
       "      <th>device</th>\n",
       "      <th>os</th>\n",
       "      <th>channel</th>\n",
       "      <th>click_time</th>\n",
       "      <th>attributed_time</th>\n",
       "      <th>is_attributed</th>\n",
       "      <th>click_time_epoch</th>\n",
       "      <th>click_time_secs</th>\n",
       "      <th>click_time_mins</th>\n",
       "    </tr>\n",
       "  </thead>\n",
       "  <tbody>\n",
       "    <tr>\n",
       "      <th>0</th>\n",
       "      <td>83252</td>\n",
       "      <td>3</td>\n",
       "      <td>1</td>\n",
       "      <td>16</td>\n",
       "      <td>379</td>\n",
       "      <td>2017-11-06 15:42:19</td>\n",
       "      <td>NaN</td>\n",
       "      <td>0</td>\n",
       "      <td>1.509983e+09</td>\n",
       "      <td>56539</td>\n",
       "      <td>942</td>\n",
       "    </tr>\n",
       "    <tr>\n",
       "      <th>1</th>\n",
       "      <td>106590</td>\n",
       "      <td>3</td>\n",
       "      <td>1</td>\n",
       "      <td>25</td>\n",
       "      <td>379</td>\n",
       "      <td>2017-11-06 15:43:23</td>\n",
       "      <td>NaN</td>\n",
       "      <td>0</td>\n",
       "      <td>1.509983e+09</td>\n",
       "      <td>56603</td>\n",
       "      <td>943</td>\n",
       "    </tr>\n",
       "    <tr>\n",
       "      <th>2</th>\n",
       "      <td>147164</td>\n",
       "      <td>14</td>\n",
       "      <td>1</td>\n",
       "      <td>28</td>\n",
       "      <td>134</td>\n",
       "      <td>2017-11-06 16:00:00</td>\n",
       "      <td>NaN</td>\n",
       "      <td>0</td>\n",
       "      <td>1.509984e+09</td>\n",
       "      <td>57600</td>\n",
       "      <td>960</td>\n",
       "    </tr>\n",
       "    <tr>\n",
       "      <th>3</th>\n",
       "      <td>39782</td>\n",
       "      <td>2</td>\n",
       "      <td>1</td>\n",
       "      <td>10</td>\n",
       "      <td>205</td>\n",
       "      <td>2017-11-06 16:00:00</td>\n",
       "      <td>NaN</td>\n",
       "      <td>0</td>\n",
       "      <td>1.509984e+09</td>\n",
       "      <td>57600</td>\n",
       "      <td>960</td>\n",
       "    </tr>\n",
       "    <tr>\n",
       "      <th>4</th>\n",
       "      <td>121646</td>\n",
       "      <td>23</td>\n",
       "      <td>1</td>\n",
       "      <td>13</td>\n",
       "      <td>153</td>\n",
       "      <td>2017-11-06 16:00:00</td>\n",
       "      <td>NaN</td>\n",
       "      <td>0</td>\n",
       "      <td>1.509984e+09</td>\n",
       "      <td>57600</td>\n",
       "      <td>960</td>\n",
       "    </tr>\n",
       "  </tbody>\n",
       "</table>\n",
       "</div>"
      ],
      "text/plain": [
       "       ip  app  device  os  channel           click_time attributed_time  \\\n",
       "0   83252    3       1  16      379  2017-11-06 15:42:19             NaN   \n",
       "1  106590    3       1  25      379  2017-11-06 15:43:23             NaN   \n",
       "2  147164   14       1  28      134  2017-11-06 16:00:00             NaN   \n",
       "3   39782    2       1  10      205  2017-11-06 16:00:00             NaN   \n",
       "4  121646   23       1  13      153  2017-11-06 16:00:00             NaN   \n",
       "\n",
       "   is_attributed  click_time_epoch  click_time_secs  click_time_mins  \n",
       "0              0      1.509983e+09            56539              942  \n",
       "1              0      1.509983e+09            56603              943  \n",
       "2              0      1.509984e+09            57600              960  \n",
       "3              0      1.509984e+09            57600              960  \n",
       "4              0      1.509984e+09            57600              960  "
      ]
     },
     "execution_count": 7,
     "metadata": {},
     "output_type": "execute_result"
    }
   ],
   "source": [
    "data.head()"
   ]
  },
  {
   "cell_type": "code",
   "execution_count": null,
   "metadata": {},
   "outputs": [],
   "source": []
  },
  {
   "cell_type": "markdown",
   "metadata": {},
   "source": [
    "# Recursive Feature Elimination"
   ]
  },
  {
   "cell_type": "markdown",
   "metadata": {},
   "source": [
    "# Understanding our Dataset"
   ]
  },
  {
   "cell_type": "code",
   "execution_count": 85,
   "metadata": {},
   "outputs": [],
   "source": [
    "#data = data.drop(columns=['attributed_time'])\n",
    "#data.info()"
   ]
  },
  {
   "cell_type": "code",
   "execution_count": 86,
   "metadata": {},
   "outputs": [
    {
     "data": {
      "text/plain": [
       "count    91473.000000\n",
       "mean         0.453391\n",
       "std          0.497826\n",
       "min          0.000000\n",
       "25%          0.000000\n",
       "50%          0.000000\n",
       "75%          1.000000\n",
       "max          1.000000\n",
       "Name: is_attributed, dtype: float64"
      ]
     },
     "execution_count": 86,
     "metadata": {},
     "output_type": "execute_result"
    }
   ],
   "source": [
    "data['is_attributed'].describe()"
   ]
  },
  {
   "cell_type": "code",
   "execution_count": 87,
   "metadata": {},
   "outputs": [
    {
     "name": "stdout",
     "output_type": "stream",
     "text": [
      "is_attributed\n",
      "0    50000\n",
      "1    41473\n",
      "dtype: int64\n"
     ]
    }
   ],
   "source": [
    "#plotx = data['attributed_time']\n",
    "#ploty = data['is_attributed']\n",
    "\n",
    "#plt.scatter(plotx,ploty)\n",
    "import pandas\n",
    "class_counts = data.groupby('is_attributed').size()\n",
    "print(class_counts)"
   ]
  },
  {
   "cell_type": "markdown",
   "metadata": {},
   "source": [
    "This confirms that we have a major imbalance in our data. This is incentivising our model to guess 0 for overthing and it would still receive a 99% accuracy"
   ]
  },
  {
   "cell_type": "markdown",
   "metadata": {},
   "source": [
    "# Logistic Regression"
   ]
  },
  {
   "cell_type": "code",
   "execution_count": 88,
   "metadata": {},
   "outputs": [],
   "source": [
    "X = data[['app', 'device', 'os', 'channel']]\n",
    "y = data['is_attributed']"
   ]
  },
  {
   "cell_type": "code",
   "execution_count": 89,
   "metadata": {},
   "outputs": [],
   "source": [
    "from sklearn.model_selection import train_test_split\n",
    "X_train, X_test, y_train, y_test = train_test_split(X, y, test_size = 0.2, random_state=0)"
   ]
  },
  {
   "cell_type": "code",
   "execution_count": 90,
   "metadata": {},
   "outputs": [
    {
     "data": {
      "text/html": [
       "<div>\n",
       "<style scoped>\n",
       "    .dataframe tbody tr th:only-of-type {\n",
       "        vertical-align: middle;\n",
       "    }\n",
       "\n",
       "    .dataframe tbody tr th {\n",
       "        vertical-align: top;\n",
       "    }\n",
       "\n",
       "    .dataframe thead th {\n",
       "        text-align: right;\n",
       "    }\n",
       "</style>\n",
       "<table border=\"1\" class=\"dataframe\">\n",
       "  <thead>\n",
       "    <tr style=\"text-align: right;\">\n",
       "      <th></th>\n",
       "      <th>app</th>\n",
       "      <th>device</th>\n",
       "      <th>os</th>\n",
       "      <th>channel</th>\n",
       "    </tr>\n",
       "  </thead>\n",
       "  <tbody>\n",
       "    <tr>\n",
       "      <th>22243</th>\n",
       "      <td>2</td>\n",
       "      <td>1</td>\n",
       "      <td>20</td>\n",
       "      <td>477</td>\n",
       "    </tr>\n",
       "    <tr>\n",
       "      <th>58933</th>\n",
       "      <td>105</td>\n",
       "      <td>1</td>\n",
       "      <td>17</td>\n",
       "      <td>451</td>\n",
       "    </tr>\n",
       "    <tr>\n",
       "      <th>50574</th>\n",
       "      <td>18</td>\n",
       "      <td>3032</td>\n",
       "      <td>607</td>\n",
       "      <td>107</td>\n",
       "    </tr>\n",
       "    <tr>\n",
       "      <th>63812</th>\n",
       "      <td>11</td>\n",
       "      <td>1</td>\n",
       "      <td>13</td>\n",
       "      <td>325</td>\n",
       "    </tr>\n",
       "    <tr>\n",
       "      <th>52847</th>\n",
       "      <td>116</td>\n",
       "      <td>1</td>\n",
       "      <td>41</td>\n",
       "      <td>101</td>\n",
       "    </tr>\n",
       "  </tbody>\n",
       "</table>\n",
       "</div>"
      ],
      "text/plain": [
       "       app  device   os  channel\n",
       "22243    2       1   20      477\n",
       "58933  105       1   17      451\n",
       "50574   18    3032  607      107\n",
       "63812   11       1   13      325\n",
       "52847  116       1   41      101"
      ]
     },
     "execution_count": 90,
     "metadata": {},
     "output_type": "execute_result"
    }
   ],
   "source": [
    "X_train.head()"
   ]
  },
  {
   "cell_type": "code",
   "execution_count": 91,
   "metadata": {},
   "outputs": [
    {
     "data": {
      "text/plain": [
       "22243    0\n",
       "58933    1\n",
       "50574    0\n",
       "63812    1\n",
       "52847    1\n",
       "Name: is_attributed, dtype: int64"
      ]
     },
     "execution_count": 91,
     "metadata": {},
     "output_type": "execute_result"
    }
   ],
   "source": [
    "y_train.head()"
   ]
  },
  {
   "cell_type": "code",
   "execution_count": 92,
   "metadata": {},
   "outputs": [],
   "source": [
    "from sklearn.linear_model import LogisticRegression\n",
    "logreg = LogisticRegression()"
   ]
  },
  {
   "cell_type": "code",
   "execution_count": 93,
   "metadata": {},
   "outputs": [
    {
     "name": "stderr",
     "output_type": "stream",
     "text": [
      "/usr/local/lib/python3.7/site-packages/sklearn/linear_model/logistic.py:433: FutureWarning: Default solver will be changed to 'lbfgs' in 0.22. Specify a solver to silence this warning.\n",
      "  FutureWarning)\n"
     ]
    },
    {
     "data": {
      "text/plain": [
       "LogisticRegression(C=1.0, class_weight=None, dual=False, fit_intercept=True,\n",
       "          intercept_scaling=1, max_iter=100, multi_class='warn',\n",
       "          n_jobs=None, penalty='l2', random_state=None, solver='warn',\n",
       "          tol=0.0001, verbose=0, warm_start=False)"
      ]
     },
     "execution_count": 93,
     "metadata": {},
     "output_type": "execute_result"
    }
   ],
   "source": [
    "logreg.fit(X_train, y_train)\n"
   ]
  },
  {
   "cell_type": "code",
   "execution_count": 94,
   "metadata": {},
   "outputs": [],
   "source": [
    "predictions = logreg.predict(X_test)"
   ]
  },
  {
   "cell_type": "markdown",
   "metadata": {},
   "source": [
    "Seems a little strange that we would get such high accuracy. This might have to do with the fact that we are using R^2 to measure the goodness of our model. There might be an imbalance in the test set of which clicks are 0 or 1, so we should try precision and recall. (Longterm with full training data, try to keep an equal number of classes)"
   ]
  },
  {
   "cell_type": "code",
   "execution_count": 95,
   "metadata": {},
   "outputs": [
    {
     "name": "stdout",
     "output_type": "stream",
     "text": [
      "Logistic Regression Accuracy 0.6349822355834928\n"
     ]
    }
   ],
   "source": [
    "logreg_score = logreg.score(X_test, y_test)\n",
    "print(\"Logistic Regression Accuracy\", logreg_score)"
   ]
  },
  {
   "cell_type": "markdown",
   "metadata": {},
   "source": [
    "# Random forest"
   ]
  },
  {
   "cell_type": "code",
   "execution_count": 96,
   "metadata": {},
   "outputs": [
    {
     "name": "stderr",
     "output_type": "stream",
     "text": [
      "/usr/local/lib/python3.7/site-packages/sklearn/ensemble/forest.py:246: FutureWarning: The default value of n_estimators will change from 10 in version 0.20 to 100 in 0.22.\n",
      "  \"10 in version 0.20 to 100 in 0.22.\", FutureWarning)\n"
     ]
    },
    {
     "name": "stdout",
     "output_type": "stream",
     "text": [
      "Random Forest accuracy: 0.933588412134463\n"
     ]
    }
   ],
   "source": [
    "from sklearn.ensemble import RandomForestClassifier\n",
    "RandomForest = RandomForestClassifier()\n",
    "RandomForest.fit(X_train,y_train)\n",
    "rf_score = RandomForest.score(X_test,y_test)\n",
    "print(\"Random Forest accuracy:\", rf_score)"
   ]
  },
  {
   "cell_type": "code",
   "execution_count": 97,
   "metadata": {},
   "outputs": [
    {
     "name": "stdout",
     "output_type": "stream",
     "text": [
      "              precision    recall  f1-score   support\n",
      "\n",
      "           0       0.91      0.97      0.94      9971\n",
      "           1       0.96      0.89      0.92      8324\n",
      "\n",
      "   micro avg       0.93      0.93      0.93     18295\n",
      "   macro avg       0.94      0.93      0.93     18295\n",
      "weighted avg       0.94      0.93      0.93     18295\n",
      "\n"
     ]
    }
   ],
   "source": [
    "# Precision Recall Score\n",
    "from sklearn.metrics import classification_report\n",
    "\n",
    "y_pred = RandomForest.predict(X_test)\n",
    "\n",
    "print(classification_report(y_test, y_pred))"
   ]
  },
  {
   "cell_type": "markdown",
   "metadata": {},
   "source": [
    "# Support Vector Machine"
   ]
  },
  {
   "cell_type": "code",
   "execution_count": 98,
   "metadata": {},
   "outputs": [],
   "source": [
    "from sklearn.svm import LinearSVC "
   ]
  },
  {
   "cell_type": "code",
   "execution_count": 99,
   "metadata": {},
   "outputs": [],
   "source": [
    "lSVC = LinearSVC()"
   ]
  },
  {
   "cell_type": "code",
   "execution_count": 100,
   "metadata": {},
   "outputs": [
    {
     "name": "stdout",
     "output_type": "stream",
     "text": [
      "SVM accuracy: 0.4994260726974583\n"
     ]
    },
    {
     "name": "stderr",
     "output_type": "stream",
     "text": [
      "/usr/local/lib/python3.7/site-packages/sklearn/svm/base.py:931: ConvergenceWarning: Liblinear failed to converge, increase the number of iterations.\n",
      "  \"the number of iterations.\", ConvergenceWarning)\n"
     ]
    }
   ],
   "source": [
    "lSVC.fit(X_train,y_train)\n",
    "svm_score = lSVC.score(X_test,y_test)\n",
    "print(\"SVM accuracy:\", svm_score)"
   ]
  },
  {
   "cell_type": "markdown",
   "metadata": {},
   "source": [
    "# Decision Tree"
   ]
  },
  {
   "cell_type": "code",
   "execution_count": 101,
   "metadata": {},
   "outputs": [
    {
     "name": "stdout",
     "output_type": "stream",
     "text": [
      "Decision Tree Accuracy: 0.9352282044274391\n"
     ]
    }
   ],
   "source": [
    "from sklearn import tree\n",
    "dtc = tree.DecisionTreeClassifier()\n",
    "\n",
    "dtc = dtc.fit(X_train,y_train)\n",
    "dtc_score =  dtc.score(X_test,y_test)\n",
    "print(\"Decision Tree Accuracy:\", dtc_score)"
   ]
  },
  {
   "cell_type": "code",
   "execution_count": 102,
   "metadata": {},
   "outputs": [
    {
     "name": "stdout",
     "output_type": "stream",
     "text": [
      "              precision    recall  f1-score   support\n",
      "\n",
      "           0       0.91      0.97      0.94      9971\n",
      "           1       0.96      0.89      0.93      8324\n",
      "\n",
      "   micro avg       0.94      0.94      0.94     18295\n",
      "   macro avg       0.94      0.93      0.93     18295\n",
      "weighted avg       0.94      0.94      0.93     18295\n",
      "\n"
     ]
    }
   ],
   "source": [
    "# Precision Recall Score\n",
    "from sklearn.metrics import classification_report\n",
    "\n",
    "y_pred = dtc.predict(X_test)\n",
    "\n",
    "print(classification_report(y_test, y_pred))"
   ]
  },
  {
   "cell_type": "code",
   "execution_count": 103,
   "metadata": {},
   "outputs": [
    {
     "name": "stdout",
     "output_type": "stream",
     "text": [
      "[[9689  282]\n",
      " [ 903 7421]]\n"
     ]
    }
   ],
   "source": [
    "# Confusion Matrix\n",
    "\n",
    "#In Progress\n",
    "\n",
    "from sklearn.metrics import confusion_matrix\n",
    "\n",
    "print(confusion_matrix(y_test, y_pred))\n",
    "#plt.title(\"Confusion Matrix\")\n",
    "\n",
    "#plt.colorbar()\n",
    "#tick_marks = np.arange(2)\n"
   ]
  },
  {
   "cell_type": "markdown",
   "metadata": {},
   "source": [
    "# KNN"
   ]
  },
  {
   "cell_type": "code",
   "execution_count": 104,
   "metadata": {},
   "outputs": [],
   "source": [
    "from sklearn import neighbors\n",
    "\n",
    "knn = neighbors.KNeighborsClassifier()\n",
    "knn.fit(X_train, y_train)\n",
    "Y_pred = knn.predict(X_test)\n",
    "knn_score = knn.score(X_test, y_test)\n"
   ]
  },
  {
   "cell_type": "markdown",
   "metadata": {},
   "source": [
    "# Gaussian Naive Bayes"
   ]
  },
  {
   "cell_type": "code",
   "execution_count": 105,
   "metadata": {},
   "outputs": [],
   "source": [
    "from sklearn.naive_bayes import GaussianNB\n",
    "gaussian = GaussianNB()\n",
    "gaussian.fit(X_train, y_train)\n",
    "Y_pred = gaussian.predict(X_test)\n",
    "gaussian_score = gaussian.score(X_test, y_test) "
   ]
  },
  {
   "cell_type": "markdown",
   "metadata": {},
   "source": [
    "# SGD"
   ]
  },
  {
   "cell_type": "code",
   "execution_count": 106,
   "metadata": {},
   "outputs": [
    {
     "name": "stderr",
     "output_type": "stream",
     "text": [
      "/usr/local/lib/python3.7/site-packages/sklearn/linear_model/stochastic_gradient.py:166: FutureWarning: max_iter and tol parameters have been added in SGDClassifier in 0.19. If both are left unset, they default to max_iter=5 and tol=None. If tol is not None, max_iter defaults to max_iter=1000. From 0.21, default max_iter will be 1000, and default tol will be 1e-3.\n",
      "  FutureWarning)\n"
     ]
    }
   ],
   "source": [
    "from sklearn.linear_model import SGDClassifier\n",
    "\n",
    "sgd = SGDClassifier()\n",
    "sgd.fit(X_train, y_train)\n",
    "Y_pred = sgd.predict(X_test)\n",
    "sgd_score = sgd.score(X_test, y_test) "
   ]
  },
  {
   "cell_type": "markdown",
   "metadata": {},
   "source": [
    "# Perceptron"
   ]
  },
  {
   "cell_type": "code",
   "execution_count": 107,
   "metadata": {},
   "outputs": [
    {
     "name": "stderr",
     "output_type": "stream",
     "text": [
      "/usr/local/lib/python3.7/site-packages/sklearn/linear_model/stochastic_gradient.py:166: FutureWarning: max_iter and tol parameters have been added in Perceptron in 0.19. If both are left unset, they default to max_iter=5 and tol=None. If tol is not None, max_iter defaults to max_iter=1000. From 0.21, default max_iter will be 1000, and default tol will be 1e-3.\n",
      "  FutureWarning)\n"
     ]
    }
   ],
   "source": [
    "from sklearn.linear_model import Perceptron\n",
    "\n",
    "perceptron = Perceptron()\n",
    "perceptron.fit(X_train, y_train)\n",
    "Y_pred = perceptron.predict(X_test)\n",
    "perc_score = perceptron.score(X_test, y_test)\n"
   ]
  },
  {
   "cell_type": "markdown",
   "metadata": {},
   "source": [
    "# XGBoost"
   ]
  },
  {
   "cell_type": "code",
   "execution_count": 109,
   "metadata": {},
   "outputs": [],
   "source": [
    "import xgboost as xgb\n",
    "\n",
    "XGB = xgb.XGBClassifier()\n",
    "XGB.fit(X_train, y_train)\n",
    "Y_pred = XGB.predict(X_test)\n",
    "XGB_score = XGB.score(X_test,y_test)\n"
   ]
  },
  {
   "cell_type": "markdown",
   "metadata": {},
   "source": [
    "# Gradient Boosted Trees"
   ]
  },
  {
   "cell_type": "code",
   "execution_count": 125,
   "metadata": {},
   "outputs": [],
   "source": [
    "from sklearn.ensemble import GradientBoostingClassifier\n",
    "gbt = GradientBoostingClassifier()\n",
    "gbt = gbt.fit(X_train, y_train)\n",
    "gbt_acc = gbt.score(X_test, y_test)"
   ]
  },
  {
   "cell_type": "markdown",
   "metadata": {},
   "source": [
    "# Voting Classifier/ Ensemble Learning"
   ]
  },
  {
   "cell_type": "code",
   "execution_count": null,
   "metadata": {},
   "outputs": [],
   "source": [
    "from sklearn.ensemble import VotingClassifier\n",
    "\n",
    "#dictionary of our models\n",
    "model1 = xgb.XGBClassifier()\n",
    "model2 = tree.DecisionTreeClassifier()\n",
    "model3 = RandomForestClassifier() \n",
    "estimators=[(‘xgboost’, model1), (‘decisiontree’, model2), (‘randomforest’, model3)]\n",
    "\n",
    "#create our voting classifier, inputting our models\n",
    "ensemble = VotingClassifier(estimators, voting=’hard’)"
   ]
  },
  {
   "cell_type": "markdown",
   "metadata": {},
   "source": [
    "# Adaboost"
   ]
  },
  {
   "cell_type": "code",
   "execution_count": 115,
   "metadata": {},
   "outputs": [],
   "source": [
    "from sklearn.ensemble import AdaBoostClassifier\n",
    "\n",
    "adaboost = AdaBoostClassifier(n_estimators=100).fit(X_train,y_train)\n",
    "adaboost_acc = adaboost.score(X_test,y_test)"
   ]
  },
  {
   "cell_type": "markdown",
   "metadata": {},
   "source": [
    "# Bagging Classifer"
   ]
  },
  {
   "cell_type": "code",
   "execution_count": 127,
   "metadata": {},
   "outputs": [],
   "source": [
    "from sklearn.ensemble import BaggingClassifier\n",
    "bag = BaggingClassifier()\n",
    "bag = bag.fit(X_train,y_train)\n",
    "bag_acc = bag.score(X_test,y_test)"
   ]
  },
  {
   "cell_type": "markdown",
   "metadata": {},
   "source": [
    "# Extra Trees Classifier"
   ]
  },
  {
   "cell_type": "code",
   "execution_count": null,
   "metadata": {},
   "outputs": [],
   "source": [
    "from sklearn.ensemble import ExtraTreesClassifier\n",
    "xtrees = ExtraTreesClassifier.fit(X_train,y_train)\n",
    "xtrees_acc = xtrees.score(X_test,y_test)"
   ]
  },
  {
   "cell_type": "markdown",
   "metadata": {},
   "source": [
    "# Which model do we use?"
   ]
  },
  {
   "cell_type": "code",
   "execution_count": 128,
   "metadata": {},
   "outputs": [
    {
     "data": {
      "text/html": [
       "<div>\n",
       "<style scoped>\n",
       "    .dataframe tbody tr th:only-of-type {\n",
       "        vertical-align: middle;\n",
       "    }\n",
       "\n",
       "    .dataframe tbody tr th {\n",
       "        vertical-align: top;\n",
       "    }\n",
       "\n",
       "    .dataframe thead th {\n",
       "        text-align: right;\n",
       "    }\n",
       "</style>\n",
       "<table border=\"1\" class=\"dataframe\">\n",
       "  <thead>\n",
       "    <tr style=\"text-align: right;\">\n",
       "      <th></th>\n",
       "      <th>Model</th>\n",
       "      <th>Score</th>\n",
       "    </tr>\n",
       "  </thead>\n",
       "  <tbody>\n",
       "    <tr>\n",
       "      <th>4</th>\n",
       "      <td>Decision Tree</td>\n",
       "      <td>0.935228</td>\n",
       "    </tr>\n",
       "    <tr>\n",
       "      <th>12</th>\n",
       "      <td>Bagging Classifier</td>\n",
       "      <td>0.933698</td>\n",
       "    </tr>\n",
       "    <tr>\n",
       "      <th>2</th>\n",
       "      <td>Random Forest</td>\n",
       "      <td>0.933588</td>\n",
       "    </tr>\n",
       "    <tr>\n",
       "      <th>10</th>\n",
       "      <td>Gradient Boosted Trees</td>\n",
       "      <td>0.924460</td>\n",
       "    </tr>\n",
       "    <tr>\n",
       "      <th>5</th>\n",
       "      <td>K Nearest Neighbors</td>\n",
       "      <td>0.921235</td>\n",
       "    </tr>\n",
       "    <tr>\n",
       "      <th>9</th>\n",
       "      <td>XGBoost</td>\n",
       "      <td>0.921181</td>\n",
       "    </tr>\n",
       "    <tr>\n",
       "      <th>11</th>\n",
       "      <td>Adaboost</td>\n",
       "      <td>0.914949</td>\n",
       "    </tr>\n",
       "    <tr>\n",
       "      <th>6</th>\n",
       "      <td>Gaussian Naive Bayes</td>\n",
       "      <td>0.688385</td>\n",
       "    </tr>\n",
       "    <tr>\n",
       "      <th>1</th>\n",
       "      <td>Logistic Regression</td>\n",
       "      <td>0.634982</td>\n",
       "    </tr>\n",
       "    <tr>\n",
       "      <th>7</th>\n",
       "      <td>Stochastic Gradient Descent</td>\n",
       "      <td>0.615742</td>\n",
       "    </tr>\n",
       "    <tr>\n",
       "      <th>8</th>\n",
       "      <td>Perceptron</td>\n",
       "      <td>0.612845</td>\n",
       "    </tr>\n",
       "    <tr>\n",
       "      <th>0</th>\n",
       "      <td>Support Vector Machines</td>\n",
       "      <td>0.499426</td>\n",
       "    </tr>\n",
       "    <tr>\n",
       "      <th>3</th>\n",
       "      <td>Linear SVC</td>\n",
       "      <td>0.499426</td>\n",
       "    </tr>\n",
       "  </tbody>\n",
       "</table>\n",
       "</div>"
      ],
      "text/plain": [
       "                          Model     Score\n",
       "4                 Decision Tree  0.935228\n",
       "12           Bagging Classifier  0.933698\n",
       "2                 Random Forest  0.933588\n",
       "10       Gradient Boosted Trees  0.924460\n",
       "5           K Nearest Neighbors  0.921235\n",
       "9                       XGBoost  0.921181\n",
       "11                     Adaboost  0.914949\n",
       "6          Gaussian Naive Bayes  0.688385\n",
       "1           Logistic Regression  0.634982\n",
       "7   Stochastic Gradient Descent  0.615742\n",
       "8                    Perceptron  0.612845\n",
       "0       Support Vector Machines  0.499426\n",
       "3                    Linear SVC  0.499426"
      ]
     },
     "execution_count": 128,
     "metadata": {},
     "output_type": "execute_result"
    }
   ],
   "source": [
    "models = pd.DataFrame({\n",
    "    'Model': ['Support Vector Machines', 'Logistic Regression', \n",
    "              'Random Forest', 'Linear SVC', \n",
    "              'Decision Tree', 'K Nearest Neighbors', \n",
    "              'Gaussian Naive Bayes', 'Stochastic Gradient Descent', \n",
    "              'Perceptron', 'XGBoost', 'Gradient Boosted Trees', 'Adaboost', 'Bagging Classifier'],\n",
    "    'Score': [svm_score, logreg_score, rf_score, svm_score, dtc_score, \n",
    "              knn_score, gaussian_score, sgd_score, perc_score, \n",
    "              XGB_score, gbt_acc, adaboost_acc, bag_acc]})\n",
    "models.sort_values(by='Score', ascending=False)"
   ]
  },
  {
   "cell_type": "markdown",
   "metadata": {},
   "source": [
    "# Neural Network"
   ]
  },
  {
   "cell_type": "code",
   "execution_count": 65,
   "metadata": {},
   "outputs": [
    {
     "name": "stdout",
     "output_type": "stream",
     "text": [
      "Train on 49029 samples, validate on 24149 samples\n",
      "Epoch 1/300\n",
      "49029/49029 [==============================] - 5s 110us/step - loss: 0.5590 - acc: 0.6965 - val_loss: 0.5139 - val_acc: 0.7342\n",
      "Epoch 2/300\n",
      "49029/49029 [==============================] - 4s 78us/step - loss: 0.5006 - acc: 0.7707 - val_loss: 0.4792 - val_acc: 0.8164\n",
      "Epoch 3/300\n",
      "49029/49029 [==============================] - 4s 78us/step - loss: 0.4607 - acc: 0.8067 - val_loss: 0.4379 - val_acc: 0.8120\n",
      "Epoch 4/300\n",
      "49029/49029 [==============================] - 4s 78us/step - loss: 0.4272 - acc: 0.8247 - val_loss: 0.4006 - val_acc: 0.8413\n",
      "Epoch 5/300\n",
      "49029/49029 [==============================] - 4s 80us/step - loss: 0.3878 - acc: 0.8536 - val_loss: 0.3764 - val_acc: 0.8513\n",
      "Epoch 6/300\n",
      "49029/49029 [==============================] - 4s 88us/step - loss: 0.3601 - acc: 0.8679 - val_loss: 0.3415 - val_acc: 0.8700\n",
      "Epoch 7/300\n",
      "49029/49029 [==============================] - 4s 89us/step - loss: 0.3423 - acc: 0.8710 - val_loss: 0.3295 - val_acc: 0.8763\n",
      "Epoch 8/300\n",
      "49029/49029 [==============================] - 5s 96us/step - loss: 0.3338 - acc: 0.8741 - val_loss: 0.3221 - val_acc: 0.8815\n",
      "Epoch 9/300\n",
      "49029/49029 [==============================] - 4s 84us/step - loss: 0.3258 - acc: 0.8787 - val_loss: 0.3125 - val_acc: 0.8822\n",
      "Epoch 10/300\n",
      "49029/49029 [==============================] - 4s 91us/step - loss: 0.3185 - acc: 0.8815 - val_loss: 0.3074 - val_acc: 0.8797\n",
      "Epoch 11/300\n",
      "49029/49029 [==============================] - 5s 97us/step - loss: 0.3137 - acc: 0.8839 - val_loss: 0.3044 - val_acc: 0.8917\n",
      "Epoch 12/300\n",
      "49029/49029 [==============================] - 5s 102us/step - loss: 0.3093 - acc: 0.8864 - val_loss: 0.3016 - val_acc: 0.8844\n",
      "Epoch 13/300\n",
      "49029/49029 [==============================] - 5s 98us/step - loss: 0.3063 - acc: 0.8876 - val_loss: 0.2926 - val_acc: 0.8961\n",
      "Epoch 14/300\n",
      "49029/49029 [==============================] - 4s 83us/step - loss: 0.3023 - acc: 0.8911 - val_loss: 0.2886 - val_acc: 0.8992\n",
      "Epoch 15/300\n",
      "49029/49029 [==============================] - 4s 79us/step - loss: 0.2975 - acc: 0.8941 - val_loss: 0.2821 - val_acc: 0.8970\n",
      "Epoch 16/300\n",
      "49029/49029 [==============================] - 4s 79us/step - loss: 0.2932 - acc: 0.8959 - val_loss: 0.2836 - val_acc: 0.9006\n",
      "Epoch 17/300\n",
      "49029/49029 [==============================] - 5s 109us/step - loss: 0.2893 - acc: 0.8987 - val_loss: 0.2746 - val_acc: 0.9039\n",
      "Epoch 18/300\n",
      "49029/49029 [==============================] - 4s 84us/step - loss: 0.2878 - acc: 0.9003 - val_loss: 0.3049 - val_acc: 0.8911\n",
      "Epoch 19/300\n",
      "49029/49029 [==============================] - 4s 77us/step - loss: 0.2858 - acc: 0.9008 - val_loss: 0.2762 - val_acc: 0.9055\n",
      "Epoch 20/300\n",
      "49029/49029 [==============================] - 4s 74us/step - loss: 0.2843 - acc: 0.9007 - val_loss: 0.2711 - val_acc: 0.9051\n",
      "Epoch 21/300\n",
      "49029/49029 [==============================] - 4s 78us/step - loss: 0.2836 - acc: 0.9005 - val_loss: 0.2704 - val_acc: 0.9064\n",
      "Epoch 22/300\n",
      "49029/49029 [==============================] - 4s 72us/step - loss: 0.2809 - acc: 0.9025 - val_loss: 0.2719 - val_acc: 0.9055\n",
      "Epoch 23/300\n",
      "49029/49029 [==============================] - 4s 74us/step - loss: 0.2807 - acc: 0.9028 - val_loss: 0.2790 - val_acc: 0.9012\n",
      "Epoch 24/300\n",
      "49029/49029 [==============================] - 3s 70us/step - loss: 0.2825 - acc: 0.9013 - val_loss: 0.2672 - val_acc: 0.9089\n",
      "Epoch 25/300\n",
      "49029/49029 [==============================] - 4s 72us/step - loss: 0.2797 - acc: 0.9037 - val_loss: 0.2680 - val_acc: 0.9082\n",
      "Epoch 26/300\n",
      "49029/49029 [==============================] - 3s 70us/step - loss: 0.2792 - acc: 0.9033 - val_loss: 0.2808 - val_acc: 0.9039\n",
      "Epoch 27/300\n",
      "49029/49029 [==============================] - 3s 69us/step - loss: 0.2776 - acc: 0.9040 - val_loss: 0.2674 - val_acc: 0.9075\n",
      "Epoch 28/300\n",
      "49029/49029 [==============================] - 3s 70us/step - loss: 0.2762 - acc: 0.9034 - val_loss: 0.2822 - val_acc: 0.8979\n",
      "Epoch 29/300\n",
      "49029/49029 [==============================] - 3s 69us/step - loss: 0.2775 - acc: 0.9041 - val_loss: 0.2710 - val_acc: 0.9026\n",
      "Epoch 30/300\n",
      "49029/49029 [==============================] - 3s 69us/step - loss: 0.2771 - acc: 0.9037 - val_loss: 0.2675 - val_acc: 0.9104\n",
      "Epoch 31/300\n",
      "49029/49029 [==============================] - 3s 69us/step - loss: 0.2749 - acc: 0.9048 - val_loss: 0.2699 - val_acc: 0.9041\n",
      "Epoch 32/300\n",
      "49029/49029 [==============================] - 3s 69us/step - loss: 0.2756 - acc: 0.9040 - val_loss: 0.2629 - val_acc: 0.9073\n",
      "Epoch 33/300\n",
      "49029/49029 [==============================] - 3s 69us/step - loss: 0.2750 - acc: 0.9047 - val_loss: 0.2787 - val_acc: 0.9041\n",
      "Epoch 34/300\n",
      "49029/49029 [==============================] - 3s 70us/step - loss: 0.2738 - acc: 0.9044 - val_loss: 0.2683 - val_acc: 0.9033\n",
      "Epoch 35/300\n",
      "49029/49029 [==============================] - 3s 70us/step - loss: 0.2731 - acc: 0.9046 - val_loss: 0.2625 - val_acc: 0.9091\n",
      "Epoch 36/300\n",
      "49029/49029 [==============================] - 3s 70us/step - loss: 0.2726 - acc: 0.9049 - val_loss: 0.2641 - val_acc: 0.9077\n",
      "Epoch 37/300\n",
      "49029/49029 [==============================] - 3s 69us/step - loss: 0.2727 - acc: 0.9047 - val_loss: 0.2626 - val_acc: 0.9104\n",
      "Epoch 38/300\n",
      "49029/49029 [==============================] - 3s 69us/step - loss: 0.2724 - acc: 0.9039 - val_loss: 0.2597 - val_acc: 0.9089\n",
      "Epoch 39/300\n",
      "49029/49029 [==============================] - 3s 70us/step - loss: 0.2713 - acc: 0.9048 - val_loss: 0.2644 - val_acc: 0.9099\n",
      "Epoch 40/300\n",
      "49029/49029 [==============================] - 3s 69us/step - loss: 0.2707 - acc: 0.9049 - val_loss: 0.2641 - val_acc: 0.9063\n",
      "Epoch 41/300\n",
      "49029/49029 [==============================] - 3s 69us/step - loss: 0.2699 - acc: 0.9059 - val_loss: 0.2659 - val_acc: 0.9061\n",
      "Epoch 42/300\n",
      "49029/49029 [==============================] - 3s 69us/step - loss: 0.2696 - acc: 0.9060 - val_loss: 0.2743 - val_acc: 0.9115\n",
      "Epoch 43/300\n",
      "49029/49029 [==============================] - 3s 69us/step - loss: 0.2683 - acc: 0.9062 - val_loss: 0.2636 - val_acc: 0.9060\n",
      "Epoch 44/300\n",
      "49029/49029 [==============================] - 3s 70us/step - loss: 0.2686 - acc: 0.9064 - val_loss: 0.2588 - val_acc: 0.9091\n",
      "Epoch 45/300\n",
      "49029/49029 [==============================] - 3s 69us/step - loss: 0.2690 - acc: 0.9055 - val_loss: 0.2588 - val_acc: 0.9083\n",
      "Epoch 46/300\n",
      "49029/49029 [==============================] - 3s 70us/step - loss: 0.2680 - acc: 0.9056 - val_loss: 0.2693 - val_acc: 0.9106\n",
      "Epoch 47/300\n",
      "49029/49029 [==============================] - 3s 69us/step - loss: 0.2665 - acc: 0.9062 - val_loss: 0.2590 - val_acc: 0.9079\n",
      "Epoch 48/300\n",
      "49029/49029 [==============================] - 3s 69us/step - loss: 0.2672 - acc: 0.9066 - val_loss: 0.2611 - val_acc: 0.9089\n",
      "Epoch 49/300\n",
      "49029/49029 [==============================] - 3s 71us/step - loss: 0.2682 - acc: 0.9063 - val_loss: 0.2562 - val_acc: 0.9095\n",
      "Epoch 50/300\n",
      "49029/49029 [==============================] - 4s 78us/step - loss: 0.2667 - acc: 0.9064 - val_loss: 0.2602 - val_acc: 0.9116\n",
      "Epoch 51/300\n",
      "49029/49029 [==============================] - 4s 77us/step - loss: 0.2666 - acc: 0.9064 - val_loss: 0.2609 - val_acc: 0.9074\n",
      "Epoch 52/300\n",
      "49029/49029 [==============================] - 4s 72us/step - loss: 0.2657 - acc: 0.9068 - val_loss: 0.2566 - val_acc: 0.9090\n",
      "Epoch 53/300\n",
      "49029/49029 [==============================] - 3s 69us/step - loss: 0.2661 - acc: 0.9072 - val_loss: 0.2606 - val_acc: 0.9062\n",
      "Epoch 54/300\n",
      "49029/49029 [==============================] - 4s 75us/step - loss: 0.2660 - acc: 0.9058 - val_loss: 0.2629 - val_acc: 0.9019\n",
      "Epoch 55/300\n",
      "49029/49029 [==============================] - 3s 71us/step - loss: 0.2651 - acc: 0.9071 - val_loss: 0.2556 - val_acc: 0.9077\n",
      "Epoch 56/300\n",
      "49029/49029 [==============================] - 4s 73us/step - loss: 0.2647 - acc: 0.9068 - val_loss: 0.2652 - val_acc: 0.9033\n",
      "Epoch 57/300\n",
      "49029/49029 [==============================] - 3s 69us/step - loss: 0.2657 - acc: 0.9070 - val_loss: 0.2554 - val_acc: 0.9097\n",
      "Epoch 58/300\n",
      "49029/49029 [==============================] - 4s 75us/step - loss: 0.2638 - acc: 0.9074 - val_loss: 0.2551 - val_acc: 0.9110\n",
      "Epoch 59/300\n",
      "49029/49029 [==============================] - 4s 78us/step - loss: 0.2629 - acc: 0.9079 - val_loss: 0.2526 - val_acc: 0.9099\n",
      "Epoch 60/300\n",
      "49029/49029 [==============================] - 5s 102us/step - loss: 0.2630 - acc: 0.9075 - val_loss: 0.3213 - val_acc: 0.8689\n",
      "Epoch 61/300\n",
      "49029/49029 [==============================] - 7s 141us/step - loss: 0.2634 - acc: 0.9076 - val_loss: 0.2681 - val_acc: 0.8985\n",
      "Epoch 62/300\n",
      "49029/49029 [==============================] - 5s 109us/step - loss: 0.2633 - acc: 0.9072 - val_loss: 0.2569 - val_acc: 0.9085\n",
      "Epoch 63/300\n",
      "49029/49029 [==============================] - 6s 112us/step - loss: 0.2618 - acc: 0.9075 - val_loss: 0.2530 - val_acc: 0.9105\n",
      "Epoch 64/300\n",
      "49029/49029 [==============================] - 5s 94us/step - loss: 0.2626 - acc: 0.9070 - val_loss: 0.2542 - val_acc: 0.9088\n",
      "Epoch 65/300\n",
      "49029/49029 [==============================] - 6s 127us/step - loss: 0.2614 - acc: 0.9075 - val_loss: 0.2542 - val_acc: 0.9129\n",
      "Epoch 66/300\n",
      "49029/49029 [==============================] - 6s 121us/step - loss: 0.2613 - acc: 0.9080 - val_loss: 0.2633 - val_acc: 0.9040\n",
      "Epoch 67/300\n",
      "49029/49029 [==============================] - 4s 77us/step - loss: 0.2606 - acc: 0.9074 - val_loss: 0.2536 - val_acc: 0.9086\n",
      "Epoch 68/300\n",
      "49029/49029 [==============================] - 4s 78us/step - loss: 0.2620 - acc: 0.9079 - val_loss: 0.2501 - val_acc: 0.9091\n",
      "Epoch 69/300\n",
      "49029/49029 [==============================] - 4s 74us/step - loss: 0.2594 - acc: 0.9088 - val_loss: 0.2512 - val_acc: 0.9100\n",
      "Epoch 70/300\n",
      "49029/49029 [==============================] - 4s 72us/step - loss: 0.2606 - acc: 0.9077 - val_loss: 0.2533 - val_acc: 0.9079\n",
      "Epoch 71/300\n",
      "49029/49029 [==============================] - 4s 72us/step - loss: 0.2591 - acc: 0.9083 - val_loss: 0.2780 - val_acc: 0.9026\n",
      "Epoch 72/300\n",
      "49029/49029 [==============================] - 3s 70us/step - loss: 0.2599 - acc: 0.9085 - val_loss: 0.2495 - val_acc: 0.9101\n",
      "Epoch 73/300\n",
      "49029/49029 [==============================] - 3s 71us/step - loss: 0.2589 - acc: 0.9081 - val_loss: 0.2496 - val_acc: 0.9101\n",
      "Epoch 74/300\n",
      "49029/49029 [==============================] - 4s 82us/step - loss: 0.2587 - acc: 0.9084 - val_loss: 0.2516 - val_acc: 0.9101\n",
      "Epoch 75/300\n",
      "49029/49029 [==============================] - 5s 103us/step - loss: 0.2605 - acc: 0.9072 - val_loss: 0.2508 - val_acc: 0.9108\n",
      "Epoch 76/300\n",
      "49029/49029 [==============================] - 4s 79us/step - loss: 0.2594 - acc: 0.9082 - val_loss: 0.2527 - val_acc: 0.9113\n",
      "Epoch 77/300\n",
      "49029/49029 [==============================] - 3s 69us/step - loss: 0.2578 - acc: 0.9087 - val_loss: 0.2545 - val_acc: 0.9050\n",
      "Epoch 78/300\n",
      "49029/49029 [==============================] - 4s 83us/step - loss: 0.2578 - acc: 0.9086 - val_loss: 0.2497 - val_acc: 0.9077\n",
      "Epoch 79/300\n",
      "49029/49029 [==============================] - 4s 78us/step - loss: 0.2582 - acc: 0.9079 - val_loss: 0.2545 - val_acc: 0.9118\n",
      "Epoch 80/300\n",
      "49029/49029 [==============================] - 4s 74us/step - loss: 0.2570 - acc: 0.9086 - val_loss: 0.2483 - val_acc: 0.9120\n",
      "Epoch 81/300\n",
      "49029/49029 [==============================] - 4s 76us/step - loss: 0.2564 - acc: 0.9095 - val_loss: 0.2486 - val_acc: 0.9121\n",
      "Epoch 82/300\n",
      "49029/49029 [==============================] - 4s 83us/step - loss: 0.2558 - acc: 0.9093 - val_loss: 0.2483 - val_acc: 0.9110\n",
      "Epoch 83/300\n",
      "49029/49029 [==============================] - 4s 74us/step - loss: 0.2559 - acc: 0.9099 - val_loss: 0.2525 - val_acc: 0.9062\n",
      "Epoch 84/300\n",
      "49029/49029 [==============================] - 4s 74us/step - loss: 0.2558 - acc: 0.9093 - val_loss: 0.2493 - val_acc: 0.9135\n",
      "Epoch 85/300\n",
      "49029/49029 [==============================] - 4s 87us/step - loss: 0.2569 - acc: 0.9094 - val_loss: 0.2470 - val_acc: 0.9109\n",
      "Epoch 86/300\n",
      "49029/49029 [==============================] - 3s 70us/step - loss: 0.2560 - acc: 0.9087 - val_loss: 0.2498 - val_acc: 0.9142\n",
      "Epoch 87/300\n",
      "49029/49029 [==============================] - 3s 71us/step - loss: 0.2557 - acc: 0.9101 - val_loss: 0.2521 - val_acc: 0.9147\n",
      "Epoch 88/300\n",
      "49029/49029 [==============================] - 4s 79us/step - loss: 0.2555 - acc: 0.9096 - val_loss: 0.2530 - val_acc: 0.9100\n",
      "Epoch 89/300\n",
      "49029/49029 [==============================] - 4s 85us/step - loss: 0.2552 - acc: 0.9096 - val_loss: 0.2489 - val_acc: 0.9111 ETA: 0s - loss: 0.2559 -\n",
      "Epoch 90/300\n",
      "49029/49029 [==============================] - 4s 78us/step - loss: 0.2561 - acc: 0.9094 - val_loss: 0.2472 - val_acc: 0.9121\n",
      "Epoch 91/300\n",
      "49029/49029 [==============================] - 4s 89us/step - loss: 0.2551 - acc: 0.9105 - val_loss: 0.2464 - val_acc: 0.9112\n",
      "Epoch 92/300\n",
      "49029/49029 [==============================] - 6s 130us/step - loss: 0.2547 - acc: 0.9105 - val_loss: 0.2518 - val_acc: 0.9114\n",
      "Epoch 93/300\n",
      "49029/49029 [==============================] - 4s 79us/step - loss: 0.2536 - acc: 0.9100 - val_loss: 0.2485 - val_acc: 0.9113\n",
      "Epoch 94/300\n",
      "49029/49029 [==============================] - 4s 73us/step - loss: 0.2538 - acc: 0.9103 - val_loss: 0.2489 - val_acc: 0.9144\n",
      "Epoch 95/300\n",
      "49029/49029 [==============================] - 4s 74us/step - loss: 0.2543 - acc: 0.9098 - val_loss: 0.2470 - val_acc: 0.9116\n",
      "Epoch 96/300\n",
      "49029/49029 [==============================] - 4s 77us/step - loss: 0.2541 - acc: 0.9105 - val_loss: 0.2465 - val_acc: 0.9133\n",
      "Epoch 97/300\n",
      "49029/49029 [==============================] - 4s 72us/step - loss: 0.2535 - acc: 0.9099 - val_loss: 0.2458 - val_acc: 0.9132\n",
      "Epoch 98/300\n",
      "49029/49029 [==============================] - 3s 71us/step - loss: 0.2536 - acc: 0.9104 - val_loss: 0.2454 - val_acc: 0.9135\n",
      "Epoch 99/300\n",
      "49029/49029 [==============================] - 4s 72us/step - loss: 0.2535 - acc: 0.9101 - val_loss: 0.2511 - val_acc: 0.9132\n",
      "Epoch 100/300\n",
      "49029/49029 [==============================] - 3s 71us/step - loss: 0.2527 - acc: 0.9104 - val_loss: 0.2458 - val_acc: 0.9124\n",
      "Epoch 101/300\n",
      "49029/49029 [==============================] - 4s 72us/step - loss: 0.2523 - acc: 0.9098 - val_loss: 0.2497 - val_acc: 0.9126\n",
      "Epoch 102/300\n",
      "49029/49029 [==============================] - 4s 73us/step - loss: 0.2529 - acc: 0.9100 - val_loss: 0.2429 - val_acc: 0.9128\n",
      "Epoch 103/300\n",
      "49029/49029 [==============================] - 4s 75us/step - loss: 0.2528 - acc: 0.9102 - val_loss: 0.2483 - val_acc: 0.9132\n",
      "Epoch 104/300\n",
      "49029/49029 [==============================] - 3s 70us/step - loss: 0.2528 - acc: 0.9108 - val_loss: 0.2458 - val_acc: 0.9130\n",
      "Epoch 105/300\n",
      "49029/49029 [==============================] - 3s 70us/step - loss: 0.2521 - acc: 0.9113 - val_loss: 0.2486 - val_acc: 0.9109\n",
      "Epoch 106/300\n",
      "49029/49029 [==============================] - 3s 70us/step - loss: 0.2524 - acc: 0.9107 - val_loss: 0.2507 - val_acc: 0.9114\n",
      "Epoch 107/300\n",
      "49029/49029 [==============================] - 3s 70us/step - loss: 0.2522 - acc: 0.9108 - val_loss: 0.2456 - val_acc: 0.9120\n",
      "Epoch 108/300\n",
      "49029/49029 [==============================] - 3s 70us/step - loss: 0.2516 - acc: 0.9105 - val_loss: 0.2433 - val_acc: 0.9125\n",
      "Epoch 109/300\n",
      "49029/49029 [==============================] - 3s 70us/step - loss: 0.2517 - acc: 0.9115 - val_loss: 0.2464 - val_acc: 0.9120\n",
      "Epoch 110/300\n",
      "49029/49029 [==============================] - 3s 70us/step - loss: 0.2515 - acc: 0.9103 - val_loss: 0.2438 - val_acc: 0.9131\n",
      "Epoch 111/300\n",
      "49029/49029 [==============================] - 3s 69us/step - loss: 0.2505 - acc: 0.9110 - val_loss: 0.2459 - val_acc: 0.9123\n",
      "Epoch 112/300\n",
      "49029/49029 [==============================] - 3s 70us/step - loss: 0.2513 - acc: 0.9115 - val_loss: 0.2501 - val_acc: 0.9136\n",
      "Epoch 113/300\n",
      "49029/49029 [==============================] - 3s 69us/step - loss: 0.2509 - acc: 0.9109 - val_loss: 0.2475 - val_acc: 0.9134\n",
      "Epoch 114/300\n",
      "49029/49029 [==============================] - 3s 70us/step - loss: 0.2515 - acc: 0.9115 - val_loss: 0.2502 - val_acc: 0.9106\n",
      "Epoch 115/300\n",
      "49029/49029 [==============================] - 3s 70us/step - loss: 0.2516 - acc: 0.9103 - val_loss: 0.2452 - val_acc: 0.9150\n",
      "Epoch 116/300\n",
      "49029/49029 [==============================] - 3s 69us/step - loss: 0.2511 - acc: 0.9108 - val_loss: 0.2446 - val_acc: 0.9130\n",
      "Epoch 117/300\n"
     ]
    },
    {
     "name": "stdout",
     "output_type": "stream",
     "text": [
      "49029/49029 [==============================] - 3s 69us/step - loss: 0.2511 - acc: 0.9113 - val_loss: 0.2455 - val_acc: 0.9107\n",
      "Epoch 118/300\n",
      "49029/49029 [==============================] - 3s 69us/step - loss: 0.2503 - acc: 0.9114 - val_loss: 0.2432 - val_acc: 0.9129\n",
      "Epoch 119/300\n",
      "49029/49029 [==============================] - 3s 69us/step - loss: 0.2500 - acc: 0.9112 - val_loss: 0.2558 - val_acc: 0.9130\n",
      "Epoch 120/300\n",
      "49029/49029 [==============================] - 3s 70us/step - loss: 0.2511 - acc: 0.9110 - val_loss: 0.2449 - val_acc: 0.9139\n",
      "Epoch 121/300\n",
      "49029/49029 [==============================] - 3s 69us/step - loss: 0.2500 - acc: 0.9120 - val_loss: 0.2487 - val_acc: 0.9121\n",
      "Epoch 122/300\n",
      "49029/49029 [==============================] - 3s 70us/step - loss: 0.2496 - acc: 0.9112 - val_loss: 0.2400 - val_acc: 0.9128\n",
      "Epoch 123/300\n",
      "49029/49029 [==============================] - 3s 69us/step - loss: 0.2504 - acc: 0.9111 - val_loss: 0.2436 - val_acc: 0.9125\n",
      "Epoch 124/300\n",
      "49029/49029 [==============================] - 3s 69us/step - loss: 0.2502 - acc: 0.9110 - val_loss: 0.2441 - val_acc: 0.9134\n",
      "Epoch 125/300\n",
      "49029/49029 [==============================] - 3s 70us/step - loss: 0.2503 - acc: 0.9115 - val_loss: 0.2450 - val_acc: 0.9135\n",
      "Epoch 126/300\n",
      "49029/49029 [==============================] - 3s 69us/step - loss: 0.2496 - acc: 0.9114 - val_loss: 0.2422 - val_acc: 0.9106\n",
      "Epoch 127/300\n",
      "49029/49029 [==============================] - 3s 69us/step - loss: 0.2490 - acc: 0.9110 - val_loss: 0.2546 - val_acc: 0.9068\n",
      "Epoch 128/300\n",
      "49029/49029 [==============================] - 3s 69us/step - loss: 0.2494 - acc: 0.9120 - val_loss: 0.2414 - val_acc: 0.9134\n",
      "Epoch 129/300\n",
      "49029/49029 [==============================] - 3s 69us/step - loss: 0.2479 - acc: 0.9117 - val_loss: 0.2466 - val_acc: 0.9140\n",
      "Epoch 130/300\n",
      "49029/49029 [==============================] - 3s 69us/step - loss: 0.2490 - acc: 0.9120 - val_loss: 0.2438 - val_acc: 0.9137\n",
      "Epoch 131/300\n",
      "49029/49029 [==============================] - 3s 69us/step - loss: 0.2493 - acc: 0.9121 - val_loss: 0.2459 - val_acc: 0.9132\n",
      "Epoch 132/300\n",
      "49029/49029 [==============================] - 3s 70us/step - loss: 0.2496 - acc: 0.9111 - val_loss: 0.2428 - val_acc: 0.9132\n",
      "Epoch 133/300\n",
      "49029/49029 [==============================] - 3s 69us/step - loss: 0.2492 - acc: 0.9113 - val_loss: 0.2459 - val_acc: 0.9130\n",
      "Epoch 134/300\n",
      "49029/49029 [==============================] - 3s 68us/step - loss: 0.2484 - acc: 0.9113 - val_loss: 0.2422 - val_acc: 0.9115\n",
      "Epoch 135/300\n",
      "49029/49029 [==============================] - 3s 70us/step - loss: 0.2484 - acc: 0.9116 - val_loss: 0.2434 - val_acc: 0.9110\n",
      "Epoch 136/300\n",
      "49029/49029 [==============================] - 3s 69us/step - loss: 0.2475 - acc: 0.9119 - val_loss: 0.2432 - val_acc: 0.9101\n",
      "Epoch 137/300\n",
      "49029/49029 [==============================] - 3s 69us/step - loss: 0.2486 - acc: 0.9117 - val_loss: 0.2459 - val_acc: 0.9129\n",
      "Epoch 138/300\n",
      "49029/49029 [==============================] - 3s 69us/step - loss: 0.2486 - acc: 0.9114 - val_loss: 0.2414 - val_acc: 0.9119\n",
      "Epoch 139/300\n",
      "49029/49029 [==============================] - 3s 70us/step - loss: 0.2481 - acc: 0.9123 - val_loss: 0.2417 - val_acc: 0.9132\n",
      "Epoch 140/300\n",
      "49029/49029 [==============================] - 3s 69us/step - loss: 0.2482 - acc: 0.9120 - val_loss: 0.2406 - val_acc: 0.9134\n",
      "Epoch 141/300\n",
      "49029/49029 [==============================] - 3s 66us/step - loss: 0.2482 - acc: 0.9117 - val_loss: 0.2396 - val_acc: 0.9147\n",
      "Epoch 142/300\n",
      "49029/49029 [==============================] - 3s 70us/step - loss: 0.2467 - acc: 0.9122 - val_loss: 0.2402 - val_acc: 0.9138\n",
      "Epoch 143/300\n",
      "49029/49029 [==============================] - 3s 68us/step - loss: 0.2474 - acc: 0.9119 - val_loss: 0.2471 - val_acc: 0.9122\n",
      "Epoch 144/300\n",
      "49029/49029 [==============================] - 3s 70us/step - loss: 0.2476 - acc: 0.9116 - val_loss: 0.2435 - val_acc: 0.9134\n",
      "Epoch 145/300\n",
      "49029/49029 [==============================] - 3s 69us/step - loss: 0.2464 - acc: 0.9116 - val_loss: 0.2403 - val_acc: 0.9139\n",
      "Epoch 146/300\n",
      "49029/49029 [==============================] - 3s 69us/step - loss: 0.2478 - acc: 0.9118 - val_loss: 0.2413 - val_acc: 0.9136\n",
      "Epoch 147/300\n",
      "49029/49029 [==============================] - 3s 69us/step - loss: 0.2458 - acc: 0.9123 - val_loss: 0.2426 - val_acc: 0.9139\n",
      "Epoch 148/300\n",
      "49029/49029 [==============================] - 3s 69us/step - loss: 0.2475 - acc: 0.9116 - val_loss: 0.2420 - val_acc: 0.9145\n",
      "Epoch 149/300\n",
      "49029/49029 [==============================] - 3s 69us/step - loss: 0.2462 - acc: 0.9123 - val_loss: 0.2429 - val_acc: 0.9144\n",
      "Epoch 150/300\n",
      "49029/49029 [==============================] - 3s 70us/step - loss: 0.2462 - acc: 0.9115 - val_loss: 0.2456 - val_acc: 0.9110\n",
      "Epoch 151/300\n",
      "49029/49029 [==============================] - 3s 69us/step - loss: 0.2466 - acc: 0.9119 - val_loss: 0.2396 - val_acc: 0.9144\n",
      "Epoch 152/300\n",
      "49029/49029 [==============================] - 3s 69us/step - loss: 0.2461 - acc: 0.9121 - val_loss: 0.2378 - val_acc: 0.9154\n",
      "Epoch 153/300\n",
      "49029/49029 [==============================] - 3s 70us/step - loss: 0.2459 - acc: 0.9124 - val_loss: 0.2401 - val_acc: 0.9158\n",
      "Epoch 154/300\n",
      "49029/49029 [==============================] - 3s 69us/step - loss: 0.2461 - acc: 0.9127 - val_loss: 0.2438 - val_acc: 0.9159\n",
      "Epoch 155/300\n",
      "49029/49029 [==============================] - 3s 69us/step - loss: 0.2462 - acc: 0.9121 - val_loss: 0.2434 - val_acc: 0.9119\n",
      "Epoch 156/300\n",
      "49029/49029 [==============================] - 3s 69us/step - loss: 0.2461 - acc: 0.9120 - val_loss: 0.2440 - val_acc: 0.9115\n",
      "Epoch 157/300\n",
      "49029/49029 [==============================] - 3s 70us/step - loss: 0.2464 - acc: 0.9120 - val_loss: 0.2414 - val_acc: 0.9134\n",
      "Epoch 158/300\n",
      "49029/49029 [==============================] - 3s 70us/step - loss: 0.2453 - acc: 0.9124 - val_loss: 0.2392 - val_acc: 0.9116\n",
      "Epoch 159/300\n",
      "49029/49029 [==============================] - 4s 77us/step - loss: 0.2459 - acc: 0.9121 - val_loss: 0.2414 - val_acc: 0.9132\n",
      "Epoch 160/300\n",
      "49029/49029 [==============================] - 4s 73us/step - loss: 0.2456 - acc: 0.9123 - val_loss: 0.2510 - val_acc: 0.9108\n",
      "Epoch 161/300\n",
      "49029/49029 [==============================] - 3s 70us/step - loss: 0.2450 - acc: 0.9124 - val_loss: 0.2456 - val_acc: 0.9113\n",
      "Epoch 162/300\n",
      "49029/49029 [==============================] - 3s 70us/step - loss: 0.2456 - acc: 0.9123 - val_loss: 0.2428 - val_acc: 0.9129\n",
      "Epoch 163/300\n",
      "49029/49029 [==============================] - 3s 69us/step - loss: 0.2456 - acc: 0.9126 - val_loss: 0.2382 - val_acc: 0.9133\n",
      "Epoch 164/300\n",
      "49029/49029 [==============================] - 3s 69us/step - loss: 0.2448 - acc: 0.9128 - val_loss: 0.2461 - val_acc: 0.9146\n",
      "Epoch 165/300\n",
      "49029/49029 [==============================] - 3s 69us/step - loss: 0.2454 - acc: 0.9120 - val_loss: 0.2411 - val_acc: 0.9166\n",
      "Epoch 166/300\n",
      "49029/49029 [==============================] - 3s 69us/step - loss: 0.2438 - acc: 0.9127 - val_loss: 0.2407 - val_acc: 0.9130\n",
      "Epoch 167/300\n",
      "49029/49029 [==============================] - 3s 69us/step - loss: 0.2450 - acc: 0.9126 - val_loss: 0.2438 - val_acc: 0.9155\n",
      "Epoch 168/300\n",
      "49029/49029 [==============================] - 3s 69us/step - loss: 0.2441 - acc: 0.9123 - val_loss: 0.2383 - val_acc: 0.9114\n",
      "Epoch 169/300\n",
      "49029/49029 [==============================] - 3s 69us/step - loss: 0.2448 - acc: 0.9124 - val_loss: 0.2430 - val_acc: 0.9154\n",
      "Epoch 170/300\n",
      "49029/49029 [==============================] - 3s 70us/step - loss: 0.2448 - acc: 0.9123 - val_loss: 0.2388 - val_acc: 0.9137\n",
      "Epoch 171/300\n",
      "49029/49029 [==============================] - 3s 69us/step - loss: 0.2441 - acc: 0.9126 - val_loss: 0.2458 - val_acc: 0.9019\n",
      "Epoch 172/300\n",
      "49029/49029 [==============================] - 3s 69us/step - loss: 0.2448 - acc: 0.9130 - val_loss: 0.2418 - val_acc: 0.9126\n",
      "Epoch 173/300\n",
      "49029/49029 [==============================] - 3s 70us/step - loss: 0.2451 - acc: 0.9119 - val_loss: 0.2377 - val_acc: 0.9166\n",
      "Epoch 174/300\n",
      "49029/49029 [==============================] - 3s 69us/step - loss: 0.2438 - acc: 0.9125 - val_loss: 0.2392 - val_acc: 0.9148\n",
      "Epoch 175/300\n",
      "49029/49029 [==============================] - 3s 69us/step - loss: 0.2438 - acc: 0.9131 - val_loss: 0.2405 - val_acc: 0.9144\n",
      "Epoch 176/300\n",
      "49029/49029 [==============================] - 3s 69us/step - loss: 0.2457 - acc: 0.9118 - val_loss: 0.2401 - val_acc: 0.9154\n",
      "Epoch 177/300\n",
      "49029/49029 [==============================] - 3s 70us/step - loss: 0.2437 - acc: 0.9129 - val_loss: 0.2400 - val_acc: 0.9148\n",
      "Epoch 178/300\n",
      "49029/49029 [==============================] - 3s 70us/step - loss: 0.2447 - acc: 0.9130 - val_loss: 0.2406 - val_acc: 0.9145\n",
      "Epoch 179/300\n",
      "49029/49029 [==============================] - 3s 71us/step - loss: 0.2447 - acc: 0.9121 - val_loss: 0.2409 - val_acc: 0.9101\n",
      "Epoch 180/300\n",
      "49029/49029 [==============================] - 3s 71us/step - loss: 0.2436 - acc: 0.9132 - val_loss: 0.2354 - val_acc: 0.9159\n",
      "Epoch 181/300\n",
      "49029/49029 [==============================] - 3s 70us/step - loss: 0.2435 - acc: 0.9127 - val_loss: 0.2376 - val_acc: 0.9148\n",
      "Epoch 182/300\n",
      "49029/49029 [==============================] - 3s 70us/step - loss: 0.2441 - acc: 0.9120 - val_loss: 0.2417 - val_acc: 0.9133\n",
      "Epoch 183/300\n",
      "49029/49029 [==============================] - 3s 68us/step - loss: 0.2429 - acc: 0.9132 - val_loss: 0.2371 - val_acc: 0.9185\n",
      "Epoch 184/300\n",
      "49029/49029 [==============================] - 3s 69us/step - loss: 0.2428 - acc: 0.9130 - val_loss: 0.2395 - val_acc: 0.9157\n",
      "Epoch 185/300\n",
      "49029/49029 [==============================] - 3s 70us/step - loss: 0.2479 - acc: 0.9124 - val_loss: 0.2557 - val_acc: 0.9102\n",
      "Epoch 186/300\n",
      "49029/49029 [==============================] - 3s 69us/step - loss: 0.2437 - acc: 0.9131 - val_loss: 0.2430 - val_acc: 0.9136\n",
      "Epoch 187/300\n",
      "49029/49029 [==============================] - 3s 69us/step - loss: 0.2423 - acc: 0.9133 - val_loss: 0.2359 - val_acc: 0.9150\n",
      "Epoch 188/300\n",
      "49029/49029 [==============================] - 3s 70us/step - loss: 0.2430 - acc: 0.9137 - val_loss: 0.2419 - val_acc: 0.9119\n",
      "Epoch 189/300\n",
      "49029/49029 [==============================] - 3s 69us/step - loss: 0.2435 - acc: 0.9127 - val_loss: 0.2418 - val_acc: 0.9140\n",
      "Epoch 190/300\n",
      "49029/49029 [==============================] - 3s 70us/step - loss: 0.2428 - acc: 0.9141 - val_loss: 0.2391 - val_acc: 0.9181\n",
      "Epoch 191/300\n",
      "49029/49029 [==============================] - 3s 70us/step - loss: 0.2438 - acc: 0.9144 - val_loss: 0.2423 - val_acc: 0.9146\n",
      "Epoch 192/300\n",
      "49029/49029 [==============================] - 3s 70us/step - loss: 0.2427 - acc: 0.9136 - val_loss: 0.2366 - val_acc: 0.9188\n",
      "Epoch 193/300\n",
      "49029/49029 [==============================] - 3s 69us/step - loss: 0.2423 - acc: 0.9134 - val_loss: 0.2360 - val_acc: 0.9174\n",
      "Epoch 194/300\n",
      "49029/49029 [==============================] - 3s 69us/step - loss: 0.2427 - acc: 0.9139 - val_loss: 0.2395 - val_acc: 0.9151\n",
      "Epoch 195/300\n",
      "49029/49029 [==============================] - 3s 70us/step - loss: 0.2424 - acc: 0.9139 - val_loss: 0.2391 - val_acc: 0.9126\n",
      "Epoch 196/300\n",
      "49029/49029 [==============================] - 3s 69us/step - loss: 0.2421 - acc: 0.9146 - val_loss: 0.2411 - val_acc: 0.9160\n",
      "Epoch 197/300\n",
      "49029/49029 [==============================] - 3s 70us/step - loss: 0.2410 - acc: 0.9140 - val_loss: 0.2394 - val_acc: 0.9151\n",
      "Epoch 198/300\n",
      "49029/49029 [==============================] - 3s 70us/step - loss: 0.2436 - acc: 0.9147 - val_loss: 0.2411 - val_acc: 0.9153\n",
      "Epoch 199/300\n",
      "49029/49029 [==============================] - 3s 69us/step - loss: 0.2421 - acc: 0.9145 - val_loss: 0.2363 - val_acc: 0.9132\n",
      "Epoch 200/300\n",
      "49029/49029 [==============================] - 3s 69us/step - loss: 0.2432 - acc: 0.9140 - val_loss: 0.2363 - val_acc: 0.9146\n",
      "Epoch 201/300\n",
      "49029/49029 [==============================] - 3s 70us/step - loss: 0.2429 - acc: 0.9137 - val_loss: 0.2393 - val_acc: 0.9126\n",
      "Epoch 202/300\n",
      "49029/49029 [==============================] - 3s 70us/step - loss: 0.2421 - acc: 0.9147 - val_loss: 0.2403 - val_acc: 0.9131\n",
      "Epoch 203/300\n",
      "49029/49029 [==============================] - 3s 70us/step - loss: 0.2410 - acc: 0.9138 - val_loss: 0.2386 - val_acc: 0.9167\n",
      "Epoch 204/300\n",
      "49029/49029 [==============================] - 3s 70us/step - loss: 0.2417 - acc: 0.9143 - val_loss: 0.2462 - val_acc: 0.9140\n",
      "Epoch 205/300\n",
      "49029/49029 [==============================] - 3s 70us/step - loss: 0.2415 - acc: 0.9139 - val_loss: 0.2378 - val_acc: 0.9138\n",
      "Epoch 206/300\n",
      "49029/49029 [==============================] - 3s 70us/step - loss: 0.2413 - acc: 0.9139 - val_loss: 0.2364 - val_acc: 0.9174\n",
      "Epoch 207/300\n",
      "49029/49029 [==============================] - 3s 68us/step - loss: 0.2419 - acc: 0.9139 - val_loss: 0.2411 - val_acc: 0.9116\n",
      "Epoch 208/300\n",
      "49029/49029 [==============================] - 4s 75us/step - loss: 0.2414 - acc: 0.9148 - val_loss: 0.2393 - val_acc: 0.9160\n",
      "Epoch 209/300\n",
      "49029/49029 [==============================] - 3s 69us/step - loss: 0.2417 - acc: 0.9146 - val_loss: 0.2373 - val_acc: 0.9162\n",
      "Epoch 210/300\n",
      "49029/49029 [==============================] - 3s 70us/step - loss: 0.2415 - acc: 0.9147 - val_loss: 0.2377 - val_acc: 0.9156\n",
      "Epoch 211/300\n",
      "49029/49029 [==============================] - 3s 69us/step - loss: 0.2410 - acc: 0.9142 - val_loss: 0.2369 - val_acc: 0.9154\n",
      "Epoch 212/300\n",
      "49029/49029 [==============================] - 3s 70us/step - loss: 0.2414 - acc: 0.9144 - val_loss: 0.2441 - val_acc: 0.9118\n",
      "Epoch 213/300\n",
      "49029/49029 [==============================] - 4s 72us/step - loss: 0.2419 - acc: 0.9144 - val_loss: 0.2384 - val_acc: 0.9153\n",
      "Epoch 214/300\n",
      "49029/49029 [==============================] - 3s 70us/step - loss: 0.2425 - acc: 0.9140 - val_loss: 0.2420 - val_acc: 0.9148\n",
      "Epoch 215/300\n",
      "49029/49029 [==============================] - 4s 75us/step - loss: 0.2411 - acc: 0.9146 - val_loss: 0.2436 - val_acc: 0.9135\n",
      "Epoch 216/300\n",
      "49029/49029 [==============================] - 3s 70us/step - loss: 0.2408 - acc: 0.9150 - val_loss: 0.2372 - val_acc: 0.9157\n",
      "Epoch 217/300\n",
      "49029/49029 [==============================] - 3s 70us/step - loss: 0.2410 - acc: 0.9158 - val_loss: 0.2398 - val_acc: 0.9165\n",
      "Epoch 218/300\n",
      "49029/49029 [==============================] - 3s 70us/step - loss: 0.2411 - acc: 0.9143 - val_loss: 0.2512 - val_acc: 0.9143\n",
      "Epoch 219/300\n",
      "49029/49029 [==============================] - 3s 69us/step - loss: 0.2405 - acc: 0.9146 - val_loss: 0.2348 - val_acc: 0.9190\n",
      "Epoch 220/300\n",
      "49029/49029 [==============================] - 3s 70us/step - loss: 0.2408 - acc: 0.9142 - val_loss: 0.2362 - val_acc: 0.9175\n",
      "Epoch 221/300\n",
      "49029/49029 [==============================] - 3s 69us/step - loss: 0.2409 - acc: 0.9144 - val_loss: 0.2351 - val_acc: 0.9177\n",
      "Epoch 222/300\n",
      "49029/49029 [==============================] - 3s 69us/step - loss: 0.2404 - acc: 0.9151 - val_loss: 0.2373 - val_acc: 0.9146\n",
      "Epoch 223/300\n",
      "49029/49029 [==============================] - 3s 70us/step - loss: 0.2404 - acc: 0.9148 - val_loss: 0.2356 - val_acc: 0.9172\n",
      "Epoch 224/300\n",
      "49029/49029 [==============================] - 3s 70us/step - loss: 0.2408 - acc: 0.9154 - val_loss: 0.2386 - val_acc: 0.9144\n",
      "Epoch 225/300\n",
      "49029/49029 [==============================] - 3s 69us/step - loss: 0.2402 - acc: 0.9151 - val_loss: 0.2346 - val_acc: 0.9195\n",
      "Epoch 226/300\n",
      "49029/49029 [==============================] - 3s 70us/step - loss: 0.2409 - acc: 0.9148 - val_loss: 0.2350 - val_acc: 0.9188\n",
      "Epoch 227/300\n",
      "49029/49029 [==============================] - 3s 69us/step - loss: 0.2407 - acc: 0.9149 - val_loss: 0.2335 - val_acc: 0.9193\n",
      "Epoch 228/300\n",
      "49029/49029 [==============================] - 3s 69us/step - loss: 0.2402 - acc: 0.9151 - val_loss: 0.2414 - val_acc: 0.9155\n",
      "Epoch 229/300\n",
      "49029/49029 [==============================] - 3s 70us/step - loss: 0.2397 - acc: 0.9156 - val_loss: 0.2654 - val_acc: 0.9102\n",
      "Epoch 230/300\n",
      "49029/49029 [==============================] - 3s 70us/step - loss: 0.2408 - acc: 0.9152 - val_loss: 0.2338 - val_acc: 0.9176\n",
      "Epoch 231/300\n",
      "49029/49029 [==============================] - 3s 69us/step - loss: 0.2396 - acc: 0.9151 - val_loss: 0.2382 - val_acc: 0.9149\n",
      "Epoch 232/300\n",
      "49029/49029 [==============================] - 3s 70us/step - loss: 0.2401 - acc: 0.9155 - val_loss: 0.2358 - val_acc: 0.9163\n",
      "Epoch 233/300\n"
     ]
    },
    {
     "name": "stdout",
     "output_type": "stream",
     "text": [
      "49029/49029 [==============================] - 3s 70us/step - loss: 0.2401 - acc: 0.9153 - val_loss: 0.2341 - val_acc: 0.9169\n",
      "Epoch 234/300\n",
      "49029/49029 [==============================] - 3s 70us/step - loss: 0.2403 - acc: 0.9150 - val_loss: 0.2367 - val_acc: 0.9188\n",
      "Epoch 235/300\n",
      "49029/49029 [==============================] - 3s 70us/step - loss: 0.2397 - acc: 0.9152 - val_loss: 0.2363 - val_acc: 0.9167\n",
      "Epoch 236/300\n",
      "49029/49029 [==============================] - 3s 69us/step - loss: 0.2402 - acc: 0.9155 - val_loss: 0.2341 - val_acc: 0.9176\n",
      "Epoch 237/300\n",
      "49029/49029 [==============================] - 3s 70us/step - loss: 0.2410 - acc: 0.9143 - val_loss: 0.2360 - val_acc: 0.9165\n",
      "Epoch 238/300\n",
      "49029/49029 [==============================] - 3s 69us/step - loss: 0.2396 - acc: 0.9154 - val_loss: 0.2367 - val_acc: 0.9160\n",
      "Epoch 239/300\n",
      "49029/49029 [==============================] - 3s 69us/step - loss: 0.2398 - acc: 0.9152 - val_loss: 0.2356 - val_acc: 0.9189\n",
      "Epoch 240/300\n",
      "49029/49029 [==============================] - 3s 70us/step - loss: 0.2396 - acc: 0.9150 - val_loss: 0.2404 - val_acc: 0.9129\n",
      "Epoch 241/300\n",
      "49029/49029 [==============================] - 3s 69us/step - loss: 0.2400 - acc: 0.9148 - val_loss: 0.2360 - val_acc: 0.9125\n",
      "Epoch 242/300\n",
      "49029/49029 [==============================] - 3s 70us/step - loss: 0.2401 - acc: 0.9153 - val_loss: 0.2382 - val_acc: 0.9177\n",
      "Epoch 243/300\n",
      "49029/49029 [==============================] - 3s 69us/step - loss: 0.2388 - acc: 0.9157 - val_loss: 0.2320 - val_acc: 0.9181\n",
      "Epoch 244/300\n",
      "49029/49029 [==============================] - 3s 69us/step - loss: 0.2398 - acc: 0.9148 - val_loss: 0.2438 - val_acc: 0.9188\n",
      "Epoch 245/300\n",
      "49029/49029 [==============================] - 3s 70us/step - loss: 0.2413 - acc: 0.9145 - val_loss: 0.2344 - val_acc: 0.9188\n",
      "Epoch 246/300\n",
      "49029/49029 [==============================] - 3s 69us/step - loss: 0.2396 - acc: 0.9155 - val_loss: 0.2346 - val_acc: 0.9152\n",
      "Epoch 247/300\n",
      "49029/49029 [==============================] - 4s 79us/step - loss: 0.2383 - acc: 0.9166 - val_loss: 0.2350 - val_acc: 0.9172\n",
      "Epoch 248/300\n",
      "49029/49029 [==============================] - 3s 69us/step - loss: 0.2389 - acc: 0.9157 - val_loss: 0.2372 - val_acc: 0.9176\n",
      "Epoch 249/300\n",
      "49029/49029 [==============================] - 3s 69us/step - loss: 0.2390 - acc: 0.9160 - val_loss: 0.2334 - val_acc: 0.9186\n",
      "Epoch 250/300\n",
      "49029/49029 [==============================] - 3s 69us/step - loss: 0.2402 - acc: 0.9155 - val_loss: 0.2403 - val_acc: 0.9138\n",
      "Epoch 251/300\n",
      "49029/49029 [==============================] - 3s 70us/step - loss: 0.2386 - acc: 0.9159 - val_loss: 0.2378 - val_acc: 0.9134\n",
      "Epoch 252/300\n",
      "49029/49029 [==============================] - 3s 68us/step - loss: 0.2383 - acc: 0.9154 - val_loss: 0.2361 - val_acc: 0.9151\n",
      "Epoch 253/300\n",
      "49029/49029 [==============================] - 3s 69us/step - loss: 0.2388 - acc: 0.9167 - val_loss: 0.2359 - val_acc: 0.9170\n",
      "Epoch 254/300\n",
      "49029/49029 [==============================] - 3s 69us/step - loss: 0.2388 - acc: 0.9157 - val_loss: 0.2335 - val_acc: 0.9190\n",
      "Epoch 255/300\n",
      "49029/49029 [==============================] - 3s 71us/step - loss: 0.2388 - acc: 0.9163 - val_loss: 0.2373 - val_acc: 0.9133\n",
      "Epoch 256/300\n",
      "49029/49029 [==============================] - 3s 70us/step - loss: 0.2387 - acc: 0.9159 - val_loss: 0.2386 - val_acc: 0.9155\n",
      "Epoch 257/300\n",
      "49029/49029 [==============================] - 3s 69us/step - loss: 0.2381 - acc: 0.9155 - val_loss: 0.2336 - val_acc: 0.9190\n",
      "Epoch 258/300\n",
      "49029/49029 [==============================] - 3s 69us/step - loss: 0.2385 - acc: 0.9156 - val_loss: 0.2354 - val_acc: 0.9186\n",
      "Epoch 259/300\n",
      "49029/49029 [==============================] - 3s 70us/step - loss: 0.2388 - acc: 0.9158 - val_loss: 0.2388 - val_acc: 0.9104\n",
      "Epoch 260/300\n",
      "49029/49029 [==============================] - 3s 70us/step - loss: 0.2383 - acc: 0.9153 - val_loss: 0.2393 - val_acc: 0.9130\n",
      "Epoch 261/300\n",
      "49029/49029 [==============================] - 3s 69us/step - loss: 0.2368 - acc: 0.9156 - val_loss: 0.2329 - val_acc: 0.9184\n",
      "Epoch 262/300\n",
      "49029/49029 [==============================] - 3s 69us/step - loss: 0.2373 - acc: 0.9156 - val_loss: 0.2353 - val_acc: 0.9165\n",
      "Epoch 263/300\n",
      "49029/49029 [==============================] - 3s 69us/step - loss: 0.2374 - acc: 0.9159 - val_loss: 0.2356 - val_acc: 0.9176\n",
      "Epoch 264/300\n",
      "49029/49029 [==============================] - 3s 69us/step - loss: 0.2367 - acc: 0.9162 - val_loss: 0.2399 - val_acc: 0.9140\n",
      "Epoch 265/300\n",
      "49029/49029 [==============================] - 3s 70us/step - loss: 0.2372 - acc: 0.9158 - val_loss: 0.2378 - val_acc: 0.9137\n",
      "Epoch 266/300\n",
      "49029/49029 [==============================] - 3s 71us/step - loss: 0.2381 - acc: 0.9154 - val_loss: 0.2333 - val_acc: 0.9201\n",
      "Epoch 267/300\n",
      "49029/49029 [==============================] - 4s 72us/step - loss: 0.2370 - acc: 0.9157 - val_loss: 0.2336 - val_acc: 0.9194\n",
      "Epoch 268/300\n",
      "49029/49029 [==============================] - 4s 73us/step - loss: 0.2362 - acc: 0.9159 - val_loss: 0.2340 - val_acc: 0.9188\n",
      "Epoch 269/300\n",
      "49029/49029 [==============================] - 3s 69us/step - loss: 0.2363 - acc: 0.9154 - val_loss: 0.2361 - val_acc: 0.9164\n",
      "Epoch 270/300\n",
      "49029/49029 [==============================] - 3s 69us/step - loss: 0.2358 - acc: 0.9163 - val_loss: 0.2324 - val_acc: 0.9188\n",
      "Epoch 271/300\n",
      "49029/49029 [==============================] - 3s 69us/step - loss: 0.2352 - acc: 0.9167 - val_loss: 0.2328 - val_acc: 0.9174\n",
      "Epoch 272/300\n",
      "49029/49029 [==============================] - 3s 69us/step - loss: 0.2352 - acc: 0.9161 - val_loss: 0.2332 - val_acc: 0.9189\n",
      "Epoch 273/300\n",
      "49029/49029 [==============================] - 3s 69us/step - loss: 0.2359 - acc: 0.9160 - val_loss: 0.2331 - val_acc: 0.9180\n",
      "Epoch 274/300\n",
      "49029/49029 [==============================] - 3s 69us/step - loss: 0.2354 - acc: 0.9158 - val_loss: 0.2349 - val_acc: 0.9182\n",
      "Epoch 275/300\n",
      "49029/49029 [==============================] - 3s 69us/step - loss: 0.2355 - acc: 0.9164 - val_loss: 0.2319 - val_acc: 0.9178\n",
      "Epoch 276/300\n",
      "49029/49029 [==============================] - 3s 69us/step - loss: 0.2350 - acc: 0.9168 - val_loss: 0.2399 - val_acc: 0.9127\n",
      "Epoch 277/300\n",
      "49029/49029 [==============================] - 3s 69us/step - loss: 0.2356 - acc: 0.9156 - val_loss: 0.2366 - val_acc: 0.9158\n",
      "Epoch 278/300\n",
      "49029/49029 [==============================] - 3s 69us/step - loss: 0.2355 - acc: 0.9162 - val_loss: 0.2329 - val_acc: 0.9159\n",
      "Epoch 279/300\n",
      "49029/49029 [==============================] - 3s 68us/step - loss: 0.2355 - acc: 0.9157 - val_loss: 0.2338 - val_acc: 0.9161\n",
      "Epoch 280/300\n",
      "49029/49029 [==============================] - 3s 69us/step - loss: 0.2357 - acc: 0.9160 - val_loss: 0.2295 - val_acc: 0.9185\n",
      "Epoch 281/300\n",
      "49029/49029 [==============================] - 3s 69us/step - loss: 0.2342 - acc: 0.9170 - val_loss: 0.2365 - val_acc: 0.9149\n",
      "Epoch 282/300\n",
      "49029/49029 [==============================] - 3s 70us/step - loss: 0.2347 - acc: 0.9160 - val_loss: 0.2312 - val_acc: 0.9173\n",
      "Epoch 283/300\n",
      "49029/49029 [==============================] - 3s 69us/step - loss: 0.2356 - acc: 0.9170 - val_loss: 0.2321 - val_acc: 0.9161\n",
      "Epoch 284/300\n",
      "49029/49029 [==============================] - 3s 69us/step - loss: 0.2351 - acc: 0.9160 - val_loss: 0.2307 - val_acc: 0.9182\n",
      "Epoch 285/300\n",
      "49029/49029 [==============================] - 3s 69us/step - loss: 0.2351 - acc: 0.9155 - val_loss: 0.2307 - val_acc: 0.9202\n",
      "Epoch 286/300\n",
      "49029/49029 [==============================] - 3s 69us/step - loss: 0.2348 - acc: 0.9164 - val_loss: 0.2312 - val_acc: 0.9187\n",
      "Epoch 287/300\n",
      "49029/49029 [==============================] - 3s 69us/step - loss: 0.2342 - acc: 0.9164 - val_loss: 0.2343 - val_acc: 0.9185\n",
      "Epoch 288/300\n",
      "49029/49029 [==============================] - 3s 69us/step - loss: 0.2349 - acc: 0.9167 - val_loss: 0.2314 - val_acc: 0.9200\n",
      "Epoch 289/300\n",
      "49029/49029 [==============================] - 3s 69us/step - loss: 0.2354 - acc: 0.9167 - val_loss: 0.2358 - val_acc: 0.9150\n",
      "Epoch 290/300\n",
      "49029/49029 [==============================] - 3s 69us/step - loss: 0.2367 - acc: 0.9158 - val_loss: 0.2338 - val_acc: 0.9165\n",
      "Epoch 291/300\n",
      "49029/49029 [==============================] - 3s 69us/step - loss: 0.2369 - acc: 0.9160 - val_loss: 0.2297 - val_acc: 0.9195\n",
      "Epoch 292/300\n",
      "49029/49029 [==============================] - 3s 69us/step - loss: 0.2347 - acc: 0.9161 - val_loss: 0.2301 - val_acc: 0.9183\n",
      "Epoch 293/300\n",
      "49029/49029 [==============================] - 3s 69us/step - loss: 0.2334 - acc: 0.9164 - val_loss: 0.2311 - val_acc: 0.9189\n",
      "Epoch 294/300\n",
      "49029/49029 [==============================] - 3s 69us/step - loss: 0.2338 - acc: 0.9168 - val_loss: 0.2315 - val_acc: 0.9185\n",
      "Epoch 295/300\n",
      "49029/49029 [==============================] - 3s 69us/step - loss: 0.2347 - acc: 0.9163 - val_loss: 0.2336 - val_acc: 0.9161\n",
      "Epoch 296/300\n",
      "49029/49029 [==============================] - 3s 69us/step - loss: 0.2343 - acc: 0.9166 - val_loss: 0.2382 - val_acc: 0.9152\n",
      "Epoch 297/300\n",
      "49029/49029 [==============================] - 3s 69us/step - loss: 0.2335 - acc: 0.9169 - val_loss: 0.2317 - val_acc: 0.9188\n",
      "Epoch 298/300\n",
      "49029/49029 [==============================] - 3s 69us/step - loss: 0.2338 - acc: 0.9167 - val_loss: 0.2308 - val_acc: 0.9191\n",
      "Epoch 299/300\n",
      "49029/49029 [==============================] - 3s 69us/step - loss: 0.2339 - acc: 0.9166 - val_loss: 0.2298 - val_acc: 0.9200\n",
      "Epoch 300/300\n",
      "49029/49029 [==============================] - 3s 69us/step - loss: 0.2336 - acc: 0.9174 - val_loss: 0.2302 - val_acc: 0.9192\n",
      "73178/73178 [==============================] - 1s 20us/step\n",
      "18295/18295 [==============================] - 0s 21us/step\n",
      "Training set accuracy: 0.9186914099882371\n",
      "Training set loss: 0.23039320319912968\n",
      "Test set accuracy: 0.9189396010099392\n",
      "Test set loss: 0.22892171074846268\n"
     ]
    }
   ],
   "source": [
    "from keras.models import Sequential\n",
    "from keras.layers import Dense\n",
    "\n",
    "#60,30,1 --> .9156 acc with .234 loss\n",
    "#20,10,1 --> .9122 acc, .2576 loss\n",
    "#10,5,1 --> val: .9064 acc, .279 loss\n",
    "#30,10,1 --> .9117 acc, .239 loss\n",
    "#60,10,1 --> .918 acc , .230 loss\n",
    "#70,10,1 --> .913, .238\n",
    "#50,10,1 --> .917 , .229\n",
    "#40,10,1 --> .918, .228\n",
    "model = Sequential()\n",
    "model.add(Dense(40, activation='sigmoid', input_dim = 4))\n",
    "model.add(Dense(10,activation='sigmoid'))\n",
    "model.add(Dense(1, activation='sigmoid'))\n",
    "\n",
    "\n",
    "# can try rmsprop\n",
    "model.compile(optimizer = 'adam',     \n",
    "              loss = 'binary_crossentropy',\n",
    "              metrics = ['accuracy']) \n",
    "\n",
    "# Train the model, iterating on the data in batches of 32 samples\n",
    "history = model.fit(X_train, y_train, \n",
    "                    validation_split = 0.33, \n",
    "                    epochs = 300, \n",
    "                    batch_size = 32)\n",
    "\n",
    "# Evaluate the model's performance\n",
    "train_loss, train_acc = model.evaluate(X_train, y_train)\n",
    "test_loss, test_acc = model.evaluate(X_test, y_test)\n",
    "\n",
    "\n",
    "print('Training set accuracy:', train_acc)\n",
    "print('Training set loss:', train_loss)\n",
    "\n",
    "print('Test set accuracy:', test_acc)\n",
    "print('Test set loss:', test_loss)\n",
    "\n"
   ]
  },
  {
   "cell_type": "code",
   "execution_count": 66,
   "metadata": {},
   "outputs": [
    {
     "data": {
      "image/png": "[encoded data removed]",
      "text/plain": [
       "<Figure size 432x288 with 1 Axes>"
      ]
     },
     "metadata": {
      "needs_background": "light"
     },
     "output_type": "display_data"
    }
   ],
   "source": [
    "# The history of our accuracy during training.\n",
    "plt.plot(history.history['acc'])\n",
    "plt.plot(history.history['val_acc'])\n",
    "plt.title('Model Accuracy')\n",
    "plt.ylabel('Accuracy')\n",
    "plt.xlabel('Number of epochs')\n",
    "plt.legend(['train', 'test'], loc='upper left')\n",
    "plt.show()"
   ]
  },
  {
   "cell_type": "code",
   "execution_count": 67,
   "metadata": {},
   "outputs": [
    {
     "data": {
      "image/png": "[encoded data removed]",
      "text/plain": [
       "<Figure size 432x288 with 1 Axes>"
      ]
     },
     "metadata": {
      "needs_background": "light"
     },
     "output_type": "display_data"
    }
   ],
   "source": [
    "# The history of our cross-entropy loss during training.\n",
    "plt.plot(history.history['loss'])\n",
    "plt.plot(history.history['val_loss'])\n",
    "plt.title('Model Loss')\n",
    "plt.ylabel('Loss')\n",
    "plt.xlabel('Number of epochs')\n",
    "plt.legend(['train', 'test'], loc='upper left')\n",
    "plt.show()"
   ]
  },
  {
   "cell_type": "markdown",
   "metadata": {},
   "source": [
    "# Ensemble Learning"
   ]
  },
  {
   "cell_type": "code",
   "execution_count": null,
   "metadata": {},
   "outputs": [],
   "source": []
  },
  {
   "cell_type": "code",
   "execution_count": null,
   "metadata": {},
   "outputs": [],
   "source": []
  },
  {
   "cell_type": "markdown",
   "metadata": {},
   "source": [
    "# Submitting to Kaggle with best model"
   ]
  },
  {
   "cell_type": "code",
   "execution_count": 129,
   "metadata": {},
   "outputs": [],
   "source": [
    "import pandas as pd\n",
    "true_test = pd.read_csv(\"data/test.csv\")\n",
    "\n",
    "#also remember to pickle model for kyle"
   ]
  },
  {
   "cell_type": "code",
   "execution_count": null,
   "metadata": {},
   "outputs": [],
   "source": [
    "test.info()"
   ]
  },
  {
   "cell_type": "code",
   "execution_count": 132,
   "metadata": {},
   "outputs": [],
   "source": [
    "true_test_X = true_test[['app', 'device', 'os', 'channel']]\n",
    "\n",
    "true_test_predictions = model.predict(true_test_X)"
   ]
  },
  {
   "cell_type": "code",
   "execution_count": 133,
   "metadata": {},
   "outputs": [
    {
     "ename": "ValueError",
     "evalue": "If using all scalar values, you must pass an index",
     "output_type": "error",
     "traceback": [
      "\u001b[0;31m---------------------------------------------------------------------------\u001b[0m",
      "\u001b[0;31mValueError\u001b[0m                                Traceback (most recent call last)",
      "\u001b[0;32m<ipython-input-133-a888ac5be415>\u001b[0m in \u001b[0;36m<module>\u001b[0;34m\u001b[0m\n\u001b[1;32m      1\u001b[0m submission = pd.DataFrame({\n\u001b[0;32m----> 2\u001b[0;31m         \u001b[0;34m\"click_id,is_attributed\"\u001b[0m\u001b[0;34m:\u001b[0m \u001b[0mtrue_test_predictions\u001b[0m\u001b[0;34m\u001b[0m\u001b[0;34m\u001b[0m\u001b[0m\n\u001b[0m\u001b[1;32m      3\u001b[0m     }).to_csv('prediction.csv')\n\u001b[1;32m      4\u001b[0m \u001b[0;31m# saves to prediction.csv\u001b[0m\u001b[0;34m\u001b[0m\u001b[0;34m\u001b[0m\u001b[0;34m\u001b[0m\u001b[0m\n",
      "\u001b[0;32m/usr/local/lib/python3.7/site-packages/pandas/core/frame.py\u001b[0m in \u001b[0;36m__init__\u001b[0;34m(self, data, index, columns, dtype, copy)\u001b[0m\n\u001b[1;32m    390\u001b[0m                                  dtype=dtype, copy=copy)\n\u001b[1;32m    391\u001b[0m         \u001b[0;32melif\u001b[0m \u001b[0misinstance\u001b[0m\u001b[0;34m(\u001b[0m\u001b[0mdata\u001b[0m\u001b[0;34m,\u001b[0m \u001b[0mdict\u001b[0m\u001b[0;34m)\u001b[0m\u001b[0;34m:\u001b[0m\u001b[0;34m\u001b[0m\u001b[0;34m\u001b[0m\u001b[0m\n\u001b[0;32m--> 392\u001b[0;31m             \u001b[0mmgr\u001b[0m \u001b[0;34m=\u001b[0m \u001b[0minit_dict\u001b[0m\u001b[0;34m(\u001b[0m\u001b[0mdata\u001b[0m\u001b[0;34m,\u001b[0m \u001b[0mindex\u001b[0m\u001b[0;34m,\u001b[0m \u001b[0mcolumns\u001b[0m\u001b[0;34m,\u001b[0m \u001b[0mdtype\u001b[0m\u001b[0;34m=\u001b[0m\u001b[0mdtype\u001b[0m\u001b[0;34m)\u001b[0m\u001b[0;34m\u001b[0m\u001b[0;34m\u001b[0m\u001b[0m\n\u001b[0m\u001b[1;32m    393\u001b[0m         \u001b[0;32melif\u001b[0m \u001b[0misinstance\u001b[0m\u001b[0;34m(\u001b[0m\u001b[0mdata\u001b[0m\u001b[0;34m,\u001b[0m \u001b[0mma\u001b[0m\u001b[0;34m.\u001b[0m\u001b[0mMaskedArray\u001b[0m\u001b[0;34m)\u001b[0m\u001b[0;34m:\u001b[0m\u001b[0;34m\u001b[0m\u001b[0;34m\u001b[0m\u001b[0m\n\u001b[1;32m    394\u001b[0m             \u001b[0;32mimport\u001b[0m \u001b[0mnumpy\u001b[0m\u001b[0;34m.\u001b[0m\u001b[0mma\u001b[0m\u001b[0;34m.\u001b[0m\u001b[0mmrecords\u001b[0m \u001b[0;32mas\u001b[0m \u001b[0mmrecords\u001b[0m\u001b[0;34m\u001b[0m\u001b[0;34m\u001b[0m\u001b[0m\n",
      "\u001b[0;32m/usr/local/lib/python3.7/site-packages/pandas/core/internals/construction.py\u001b[0m in \u001b[0;36minit_dict\u001b[0;34m(data, index, columns, dtype)\u001b[0m\n\u001b[1;32m    210\u001b[0m         \u001b[0marrays\u001b[0m \u001b[0;34m=\u001b[0m \u001b[0;34m[\u001b[0m\u001b[0mdata\u001b[0m\u001b[0;34m[\u001b[0m\u001b[0mk\u001b[0m\u001b[0;34m]\u001b[0m \u001b[0;32mfor\u001b[0m \u001b[0mk\u001b[0m \u001b[0;32min\u001b[0m \u001b[0mkeys\u001b[0m\u001b[0;34m]\u001b[0m\u001b[0;34m\u001b[0m\u001b[0;34m\u001b[0m\u001b[0m\n\u001b[1;32m    211\u001b[0m \u001b[0;34m\u001b[0m\u001b[0m\n\u001b[0;32m--> 212\u001b[0;31m     \u001b[0;32mreturn\u001b[0m \u001b[0marrays_to_mgr\u001b[0m\u001b[0;34m(\u001b[0m\u001b[0marrays\u001b[0m\u001b[0;34m,\u001b[0m \u001b[0mdata_names\u001b[0m\u001b[0;34m,\u001b[0m \u001b[0mindex\u001b[0m\u001b[0;34m,\u001b[0m \u001b[0mcolumns\u001b[0m\u001b[0;34m,\u001b[0m \u001b[0mdtype\u001b[0m\u001b[0;34m=\u001b[0m\u001b[0mdtype\u001b[0m\u001b[0;34m)\u001b[0m\u001b[0;34m\u001b[0m\u001b[0;34m\u001b[0m\u001b[0m\n\u001b[0m\u001b[1;32m    213\u001b[0m \u001b[0;34m\u001b[0m\u001b[0m\n\u001b[1;32m    214\u001b[0m \u001b[0;34m\u001b[0m\u001b[0m\n",
      "\u001b[0;32m/usr/local/lib/python3.7/site-packages/pandas/core/internals/construction.py\u001b[0m in \u001b[0;36marrays_to_mgr\u001b[0;34m(arrays, arr_names, index, columns, dtype)\u001b[0m\n\u001b[1;32m     49\u001b[0m     \u001b[0;31m# figure out the index, if necessary\u001b[0m\u001b[0;34m\u001b[0m\u001b[0;34m\u001b[0m\u001b[0;34m\u001b[0m\u001b[0m\n\u001b[1;32m     50\u001b[0m     \u001b[0;32mif\u001b[0m \u001b[0mindex\u001b[0m \u001b[0;32mis\u001b[0m \u001b[0;32mNone\u001b[0m\u001b[0;34m:\u001b[0m\u001b[0;34m\u001b[0m\u001b[0;34m\u001b[0m\u001b[0m\n\u001b[0;32m---> 51\u001b[0;31m         \u001b[0mindex\u001b[0m \u001b[0;34m=\u001b[0m \u001b[0mextract_index\u001b[0m\u001b[0;34m(\u001b[0m\u001b[0marrays\u001b[0m\u001b[0;34m)\u001b[0m\u001b[0;34m\u001b[0m\u001b[0;34m\u001b[0m\u001b[0m\n\u001b[0m\u001b[1;32m     52\u001b[0m     \u001b[0;32melse\u001b[0m\u001b[0;34m:\u001b[0m\u001b[0;34m\u001b[0m\u001b[0;34m\u001b[0m\u001b[0m\n\u001b[1;32m     53\u001b[0m         \u001b[0mindex\u001b[0m \u001b[0;34m=\u001b[0m \u001b[0mensure_index\u001b[0m\u001b[0;34m(\u001b[0m\u001b[0mindex\u001b[0m\u001b[0;34m)\u001b[0m\u001b[0;34m\u001b[0m\u001b[0;34m\u001b[0m\u001b[0m\n",
      "\u001b[0;32m/usr/local/lib/python3.7/site-packages/pandas/core/internals/construction.py\u001b[0m in \u001b[0;36mextract_index\u001b[0;34m(data)\u001b[0m\n\u001b[1;32m    306\u001b[0m \u001b[0;34m\u001b[0m\u001b[0m\n\u001b[1;32m    307\u001b[0m         \u001b[0;32mif\u001b[0m \u001b[0;32mnot\u001b[0m \u001b[0mindexes\u001b[0m \u001b[0;32mand\u001b[0m \u001b[0;32mnot\u001b[0m \u001b[0mraw_lengths\u001b[0m\u001b[0;34m:\u001b[0m\u001b[0;34m\u001b[0m\u001b[0;34m\u001b[0m\u001b[0m\n\u001b[0;32m--> 308\u001b[0;31m             raise ValueError('If using all scalar values, you must pass'\n\u001b[0m\u001b[1;32m    309\u001b[0m                              ' an index')\n\u001b[1;32m    310\u001b[0m \u001b[0;34m\u001b[0m\u001b[0m\n",
      "\u001b[0;31mValueError\u001b[0m: If using all scalar values, you must pass an index"
     ]
    }
   ],
   "source": [
    "submission = pd.DataFrame({\n",
    "        \"click_id,is_attributed\": true_test_predictions\n",
    "    }).to_csv('prediction.csv')\n",
    "# saves to prediction.csv\n"
   ]
  },
  {
   "cell_type": "code",
   "execution_count": null,
   "metadata": {},
   "outputs": [],
   "source": []
  }
 ],
 "metadata": {
  "kernelspec": {
   "display_name": "Python 3",
   "language": "python",
   "name": "python3"
  },
  "language_info": {
   "codemirror_mode": {
    "name": "ipython",
    "version": 3
   },
   "file_extension": ".py",
   "mimetype": "text/x-python",
   "name": "python",
   "nbconvert_exporter": "python",
   "pygments_lexer": "ipython3",
   "version": "3.6.7"
  }
 },
 "nbformat": 4,
 "nbformat_minor": 2
}
