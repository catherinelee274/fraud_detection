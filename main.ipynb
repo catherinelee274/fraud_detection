{
 "cells": [
  {
   "cell_type": "markdown",
   "metadata": {},
   "source": [
    "# Adtracking Fraud Detection"
   ]
  },
  {
   "cell_type": "markdown",
   "metadata": {},
   "source": [
    "by Kyle O'Brien, Catherine Lee, Amit Saxena "
   ]
  },
  {
   "cell_type": "markdown",
   "metadata": {},
   "source": [
    "Data is in \"data/\" and includes the training and testing csv files.\n",
    "Evaluation metrics will include looking at R^2 and a confusion matrix. Other things to try, CNN (Resnet, inceptionv3)"
   ]
  },
  {
   "cell_type": "code",
   "execution_count": 2,
   "metadata": {},
   "outputs": [
    {
     "name": "stderr",
     "output_type": "stream",
     "text": [
      "Using TensorFlow backend.\n"
     ]
    }
   ],
   "source": [
    "import numpy as np         # linear algebra\n",
    "import sklearn as sk       # machine learning\n",
    "import pandas as pd        # reading in data files, data cleaning\n",
    "import matplotlib.pyplot as plt   # for plotting\n",
    "import seaborn as sns      # visualization tool\n",
    "import tensorflow as tf\n",
    "import keras"
   ]
  },
  {
   "cell_type": "markdown",
   "metadata": {},
   "source": [
    "Train_sample: 100,000 randomly-selected rows of training data (because the full training data takes too long)"
   ]
  },
  {
   "cell_type": "code",
   "execution_count": 3,
   "metadata": {},
   "outputs": [
    {
     "data": {
      "text/html": [
       "<div>\n",
       "<style scoped>\n",
       "    .dataframe tbody tr th:only-of-type {\n",
       "        vertical-align: middle;\n",
       "    }\n",
       "\n",
       "    .dataframe tbody tr th {\n",
       "        vertical-align: top;\n",
       "    }\n",
       "\n",
       "    .dataframe thead th {\n",
       "        text-align: right;\n",
       "    }\n",
       "</style>\n",
       "<table border=\"1\" class=\"dataframe\">\n",
       "  <thead>\n",
       "    <tr style=\"text-align: right;\">\n",
       "      <th></th>\n",
       "      <th>ip</th>\n",
       "      <th>app</th>\n",
       "      <th>device</th>\n",
       "      <th>os</th>\n",
       "      <th>channel</th>\n",
       "      <th>click_time</th>\n",
       "      <th>attributed_time</th>\n",
       "      <th>is_attributed</th>\n",
       "    </tr>\n",
       "  </thead>\n",
       "  <tbody>\n",
       "    <tr>\n",
       "      <th>0</th>\n",
       "      <td>83252</td>\n",
       "      <td>3</td>\n",
       "      <td>1</td>\n",
       "      <td>16</td>\n",
       "      <td>379</td>\n",
       "      <td>2017-11-06 15:42:19</td>\n",
       "      <td>NaN</td>\n",
       "      <td>0</td>\n",
       "    </tr>\n",
       "    <tr>\n",
       "      <th>1</th>\n",
       "      <td>106590</td>\n",
       "      <td>3</td>\n",
       "      <td>1</td>\n",
       "      <td>25</td>\n",
       "      <td>379</td>\n",
       "      <td>2017-11-06 15:43:23</td>\n",
       "      <td>NaN</td>\n",
       "      <td>0</td>\n",
       "    </tr>\n",
       "    <tr>\n",
       "      <th>2</th>\n",
       "      <td>147164</td>\n",
       "      <td>14</td>\n",
       "      <td>1</td>\n",
       "      <td>28</td>\n",
       "      <td>134</td>\n",
       "      <td>2017-11-06 16:00:00</td>\n",
       "      <td>NaN</td>\n",
       "      <td>0</td>\n",
       "    </tr>\n",
       "    <tr>\n",
       "      <th>3</th>\n",
       "      <td>39782</td>\n",
       "      <td>2</td>\n",
       "      <td>1</td>\n",
       "      <td>10</td>\n",
       "      <td>205</td>\n",
       "      <td>2017-11-06 16:00:00</td>\n",
       "      <td>NaN</td>\n",
       "      <td>0</td>\n",
       "    </tr>\n",
       "    <tr>\n",
       "      <th>4</th>\n",
       "      <td>121646</td>\n",
       "      <td>23</td>\n",
       "      <td>1</td>\n",
       "      <td>13</td>\n",
       "      <td>153</td>\n",
       "      <td>2017-11-06 16:00:00</td>\n",
       "      <td>NaN</td>\n",
       "      <td>0</td>\n",
       "    </tr>\n",
       "  </tbody>\n",
       "</table>\n",
       "</div>"
      ],
      "text/plain": [
       "       ip  app  device  os  channel           click_time attributed_time  \\\n",
       "0   83252    3       1  16      379  2017-11-06 15:42:19             NaN   \n",
       "1  106590    3       1  25      379  2017-11-06 15:43:23             NaN   \n",
       "2  147164   14       1  28      134  2017-11-06 16:00:00             NaN   \n",
       "3   39782    2       1  10      205  2017-11-06 16:00:00             NaN   \n",
       "4  121646   23       1  13      153  2017-11-06 16:00:00             NaN   \n",
       "\n",
       "   is_attributed  \n",
       "0              0  \n",
       "1              0  \n",
       "2              0  \n",
       "3              0  \n",
       "4              0  "
      ]
     },
     "execution_count": 3,
     "metadata": {},
     "output_type": "execute_result"
    }
   ],
   "source": [
    "#load data in \n",
    "\n",
    "data = pd.read_csv(\"data/equalized_train.csv\")\n",
    "\n",
    "data.head()\n"
   ]
  },
  {
   "cell_type": "code",
   "execution_count": 4,
   "metadata": {
    "scrolled": true
   },
   "outputs": [
    {
     "name": "stdout",
     "output_type": "stream",
     "text": [
      "<class 'pandas.core.frame.DataFrame'>\n",
      "RangeIndex: 91473 entries, 0 to 91472\n",
      "Data columns (total 8 columns):\n",
      "ip                 91473 non-null int64\n",
      "app                91473 non-null int64\n",
      "device             91473 non-null int64\n",
      "os                 91473 non-null int64\n",
      "channel            91473 non-null int64\n",
      "click_time         91473 non-null object\n",
      "attributed_time    41473 non-null object\n",
      "is_attributed      91473 non-null int64\n",
      "dtypes: int64(6), object(2)\n",
      "memory usage: 5.6+ MB\n"
     ]
    }
   ],
   "source": [
    "data.info()\n"
   ]
  },
  {
   "cell_type": "markdown",
   "metadata": {},
   "source": [
    "Dropping attributed_time because many null values"
   ]
  },
  {
   "cell_type": "markdown",
   "metadata": {},
   "source": [
    "# Feature Engineering for Date and Time"
   ]
  },
  {
   "cell_type": "code",
   "execution_count": 5,
   "metadata": {},
   "outputs": [],
   "source": [
    "#separate click_time into multiple columns\n",
    "#data['click_time'].split(\" \")\n"
   ]
  },
  {
   "cell_type": "markdown",
   "metadata": {},
   "source": [
    "# Understanding our Dataset"
   ]
  },
  {
   "cell_type": "code",
   "execution_count": 6,
   "metadata": {},
   "outputs": [],
   "source": [
    "#data = data.drop(columns=['attributed_time'])\n",
    "#data.info()"
   ]
  },
  {
   "cell_type": "code",
   "execution_count": 7,
   "metadata": {},
   "outputs": [
    {
     "data": {
      "text/plain": [
       "count    91473.000000\n",
       "mean         0.453391\n",
       "std          0.497826\n",
       "min          0.000000\n",
       "25%          0.000000\n",
       "50%          0.000000\n",
       "75%          1.000000\n",
       "max          1.000000\n",
       "Name: is_attributed, dtype: float64"
      ]
     },
     "execution_count": 7,
     "metadata": {},
     "output_type": "execute_result"
    }
   ],
   "source": [
    "data['is_attributed'].describe()"
   ]
  },
  {
   "cell_type": "code",
   "execution_count": 8,
   "metadata": {},
   "outputs": [
    {
     "name": "stdout",
     "output_type": "stream",
     "text": [
      "is_attributed\n",
      "0    50000\n",
      "1    41473\n",
      "dtype: int64\n"
     ]
    }
   ],
   "source": [
    "#plotx = data['attributed_time']\n",
    "#ploty = data['is_attributed']\n",
    "\n",
    "#plt.scatter(plotx,ploty)\n",
    "import pandas\n",
    "class_counts = data.groupby('is_attributed').size()\n",
    "print(class_counts)"
   ]
  },
  {
   "cell_type": "markdown",
   "metadata": {},
   "source": [
    "This confirms that we have a major imbalance in our data. This is incentivising our model to guess 0 for overthing and it would still receive a 99% accuracy"
   ]
  },
  {
   "cell_type": "markdown",
   "metadata": {},
   "source": [
    "# Logistic Regression"
   ]
  },
  {
   "cell_type": "code",
   "execution_count": 9,
   "metadata": {},
   "outputs": [],
   "source": [
    "X = data[['app', 'device', 'os', 'channel']]\n",
    "y = data['is_attributed']"
   ]
  },
  {
   "cell_type": "code",
   "execution_count": 10,
   "metadata": {},
   "outputs": [],
   "source": [
    "from sklearn.model_selection import train_test_split\n",
    "X_train, X_test, y_train, y_test = train_test_split(X, y, test_size = 0.2, random_state=0)"
   ]
  },
  {
   "cell_type": "code",
   "execution_count": 11,
   "metadata": {},
   "outputs": [
    {
     "data": {
      "text/html": [
       "<div>\n",
       "<style scoped>\n",
       "    .dataframe tbody tr th:only-of-type {\n",
       "        vertical-align: middle;\n",
       "    }\n",
       "\n",
       "    .dataframe tbody tr th {\n",
       "        vertical-align: top;\n",
       "    }\n",
       "\n",
       "    .dataframe thead th {\n",
       "        text-align: right;\n",
       "    }\n",
       "</style>\n",
       "<table border=\"1\" class=\"dataframe\">\n",
       "  <thead>\n",
       "    <tr style=\"text-align: right;\">\n",
       "      <th></th>\n",
       "      <th>app</th>\n",
       "      <th>device</th>\n",
       "      <th>os</th>\n",
       "      <th>channel</th>\n",
       "    </tr>\n",
       "  </thead>\n",
       "  <tbody>\n",
       "    <tr>\n",
       "      <th>22243</th>\n",
       "      <td>2</td>\n",
       "      <td>1</td>\n",
       "      <td>20</td>\n",
       "      <td>477</td>\n",
       "    </tr>\n",
       "    <tr>\n",
       "      <th>58933</th>\n",
       "      <td>105</td>\n",
       "      <td>1</td>\n",
       "      <td>17</td>\n",
       "      <td>451</td>\n",
       "    </tr>\n",
       "    <tr>\n",
       "      <th>50574</th>\n",
       "      <td>18</td>\n",
       "      <td>3032</td>\n",
       "      <td>607</td>\n",
       "      <td>107</td>\n",
       "    </tr>\n",
       "    <tr>\n",
       "      <th>63812</th>\n",
       "      <td>11</td>\n",
       "      <td>1</td>\n",
       "      <td>13</td>\n",
       "      <td>325</td>\n",
       "    </tr>\n",
       "    <tr>\n",
       "      <th>52847</th>\n",
       "      <td>116</td>\n",
       "      <td>1</td>\n",
       "      <td>41</td>\n",
       "      <td>101</td>\n",
       "    </tr>\n",
       "  </tbody>\n",
       "</table>\n",
       "</div>"
      ],
      "text/plain": [
       "       app  device   os  channel\n",
       "22243    2       1   20      477\n",
       "58933  105       1   17      451\n",
       "50574   18    3032  607      107\n",
       "63812   11       1   13      325\n",
       "52847  116       1   41      101"
      ]
     },
     "execution_count": 11,
     "metadata": {},
     "output_type": "execute_result"
    }
   ],
   "source": [
    "X_train.head()"
   ]
  },
  {
   "cell_type": "code",
   "execution_count": 12,
   "metadata": {},
   "outputs": [
    {
     "data": {
      "text/plain": [
       "22243    0\n",
       "58933    1\n",
       "50574    0\n",
       "63812    1\n",
       "52847    1\n",
       "Name: is_attributed, dtype: int64"
      ]
     },
     "execution_count": 12,
     "metadata": {},
     "output_type": "execute_result"
    }
   ],
   "source": [
    "y_train.head()"
   ]
  },
  {
   "cell_type": "code",
   "execution_count": 13,
   "metadata": {},
   "outputs": [],
   "source": [
    "from sklearn.linear_model import LogisticRegression\n",
    "logreg = LogisticRegression()"
   ]
  },
  {
   "cell_type": "code",
   "execution_count": 14,
   "metadata": {},
   "outputs": [
    {
     "name": "stderr",
     "output_type": "stream",
     "text": [
      "/usr/local/lib/python3.7/site-packages/sklearn/linear_model/logistic.py:433: FutureWarning: Default solver will be changed to 'lbfgs' in 0.22. Specify a solver to silence this warning.\n",
      "  FutureWarning)\n"
     ]
    },
    {
     "data": {
      "text/plain": [
       "LogisticRegression(C=1.0, class_weight=None, dual=False, fit_intercept=True,\n",
       "          intercept_scaling=1, max_iter=100, multi_class='warn',\n",
       "          n_jobs=None, penalty='l2', random_state=None, solver='warn',\n",
       "          tol=0.0001, verbose=0, warm_start=False)"
      ]
     },
     "execution_count": 14,
     "metadata": {},
     "output_type": "execute_result"
    }
   ],
   "source": [
    "logreg.fit(X_train, y_train)\n"
   ]
  },
  {
   "cell_type": "code",
   "execution_count": 15,
   "metadata": {},
   "outputs": [],
   "source": [
    "predictions = logreg.predict(X_test)"
   ]
  },
  {
   "cell_type": "markdown",
   "metadata": {},
   "source": [
    "Seems a little strange that we would get such high accuracy. This might have to do with the fact that we are using R^2 to measure the goodness of our model. There might be an imbalance in the test set of which clicks are 0 or 1, so we should try precision and recall. (Longterm with full training data, try to keep an equal number of classes)"
   ]
  },
  {
   "cell_type": "code",
   "execution_count": 16,
   "metadata": {},
   "outputs": [
    {
     "name": "stdout",
     "output_type": "stream",
     "text": [
      "Logistic Regression Accuracy 0.6349822355834928\n"
     ]
    }
   ],
   "source": [
    "logreg_score = logreg.score(X_test, y_test)\n",
    "print(\"Logistic Regression Accuracy\", logreg_score)"
   ]
  },
  {
   "cell_type": "markdown",
   "metadata": {},
   "source": [
    "# Random forest"
   ]
  },
  {
   "cell_type": "code",
   "execution_count": 17,
   "metadata": {},
   "outputs": [
    {
     "name": "stderr",
     "output_type": "stream",
     "text": [
      "/usr/local/lib/python3.7/site-packages/sklearn/ensemble/forest.py:246: FutureWarning: The default value of n_estimators will change from 10 in version 0.20 to 100 in 0.22.\n",
      "  \"10 in version 0.20 to 100 in 0.22.\", FutureWarning)\n"
     ]
    },
    {
     "name": "stdout",
     "output_type": "stream",
     "text": [
      "Random Forest accuracy: 0.9352282044274391\n"
     ]
    }
   ],
   "source": [
    "from sklearn.ensemble import RandomForestClassifier\n",
    "RandomForest = RandomForestClassifier()\n",
    "RandomForest.fit(X_train,y_train)\n",
    "rf_score = RandomForest.score(X_test,y_test)\n",
    "print(\"Random Forest accuracy:\", rf_score)"
   ]
  },
  {
   "cell_type": "code",
   "execution_count": 18,
   "metadata": {},
   "outputs": [
    {
     "name": "stdout",
     "output_type": "stream",
     "text": [
      "              precision    recall  f1-score   support\n",
      "\n",
      "           0       0.92      0.97      0.94      9971\n",
      "           1       0.96      0.89      0.93      8324\n",
      "\n",
      "   micro avg       0.94      0.94      0.94     18295\n",
      "   macro avg       0.94      0.93      0.93     18295\n",
      "weighted avg       0.94      0.94      0.93     18295\n",
      "\n"
     ]
    }
   ],
   "source": [
    "# Precision Recall Score\n",
    "from sklearn.metrics import classification_report\n",
    "\n",
    "y_pred = RandomForest.predict(X_test)\n",
    "\n",
    "print(classification_report(y_test, y_pred))"
   ]
  },
  {
   "cell_type": "markdown",
   "metadata": {},
   "source": [
    "# Support Vector Machine"
   ]
  },
  {
   "cell_type": "code",
   "execution_count": 19,
   "metadata": {},
   "outputs": [],
   "source": [
    "from sklearn.svm import LinearSVC "
   ]
  },
  {
   "cell_type": "code",
   "execution_count": 20,
   "metadata": {},
   "outputs": [],
   "source": [
    "lSVC = LinearSVC()"
   ]
  },
  {
   "cell_type": "code",
   "execution_count": 21,
   "metadata": {},
   "outputs": [
    {
     "name": "stdout",
     "output_type": "stream",
     "text": [
      "SVM accuracy: 0.7056572834107679\n"
     ]
    },
    {
     "name": "stderr",
     "output_type": "stream",
     "text": [
      "/usr/local/lib/python3.7/site-packages/sklearn/svm/base.py:931: ConvergenceWarning: Liblinear failed to converge, increase the number of iterations.\n",
      "  \"the number of iterations.\", ConvergenceWarning)\n"
     ]
    }
   ],
   "source": [
    "lSVC.fit(X_train,y_train)\n",
    "svm_score = lSVC.score(X_test,y_test)\n",
    "print(\"SVM accuracy:\", svm_score)"
   ]
  },
  {
   "cell_type": "markdown",
   "metadata": {},
   "source": [
    "# Decision Tree"
   ]
  },
  {
   "cell_type": "code",
   "execution_count": 22,
   "metadata": {},
   "outputs": [
    {
     "name": "stdout",
     "output_type": "stream",
     "text": [
      "Decision Tree Accuracy: 0.93517354468434\n"
     ]
    }
   ],
   "source": [
    "from sklearn import tree\n",
    "dtc = tree.DecisionTreeClassifier()\n",
    "\n",
    "dtc = dtc.fit(X_train,y_train)\n",
    "dtc_score =  dtc.score(X_test,y_test)\n",
    "print(\"Decision Tree Accuracy:\", dtc_score)"
   ]
  },
  {
   "cell_type": "code",
   "execution_count": 23,
   "metadata": {},
   "outputs": [
    {
     "name": "stdout",
     "output_type": "stream",
     "text": [
      "              precision    recall  f1-score   support\n",
      "\n",
      "           0       0.91      0.97      0.94      9971\n",
      "           1       0.96      0.89      0.93      8324\n",
      "\n",
      "   micro avg       0.94      0.94      0.94     18295\n",
      "   macro avg       0.94      0.93      0.93     18295\n",
      "weighted avg       0.94      0.94      0.93     18295\n",
      "\n"
     ]
    }
   ],
   "source": [
    "# Precision Recall Score\n",
    "from sklearn.metrics import classification_report\n",
    "\n",
    "y_pred = dtc.predict(X_test)\n",
    "\n",
    "print(classification_report(y_test, y_pred))"
   ]
  },
  {
   "cell_type": "code",
   "execution_count": 24,
   "metadata": {},
   "outputs": [
    {
     "name": "stdout",
     "output_type": "stream",
     "text": [
      "[[9690  281]\n",
      " [ 905 7419]]\n"
     ]
    }
   ],
   "source": [
    "# Confusion Matrix\n",
    "\n",
    "#In Progress\n",
    "\n",
    "from sklearn.metrics import confusion_matrix\n",
    "\n",
    "print(confusion_matrix(y_test, y_pred))\n",
    "#plt.title(\"Confusion Matrix\")\n",
    "\n",
    "#plt.colorbar()\n",
    "#tick_marks = np.arange(2)\n"
   ]
  },
  {
   "cell_type": "markdown",
   "metadata": {},
   "source": [
    "# KNN"
   ]
  },
  {
   "cell_type": "code",
   "execution_count": 25,
   "metadata": {},
   "outputs": [],
   "source": [
    "from sklearn import neighbors\n",
    "\n",
    "knn = neighbors.KNeighborsClassifier()\n",
    "knn.fit(X_train, y_train)\n",
    "Y_pred = knn.predict(X_test)\n",
    "knn_score = knn.score(X_test, y_test)\n"
   ]
  },
  {
   "cell_type": "markdown",
   "metadata": {},
   "source": [
    "# Gaussian Naive Bayes"
   ]
  },
  {
   "cell_type": "code",
   "execution_count": 26,
   "metadata": {},
   "outputs": [],
   "source": [
    "from sklearn.naive_bayes import GaussianNB\n",
    "gaussian = GaussianNB()\n",
    "gaussian.fit(X_train, y_train)\n",
    "Y_pred = gaussian.predict(X_test)\n",
    "gaussian_score = gaussian.score(X_test, y_test) "
   ]
  },
  {
   "cell_type": "markdown",
   "metadata": {},
   "source": [
    "# SGD"
   ]
  },
  {
   "cell_type": "code",
   "execution_count": 27,
   "metadata": {},
   "outputs": [
    {
     "name": "stderr",
     "output_type": "stream",
     "text": [
      "/usr/local/lib/python3.7/site-packages/sklearn/linear_model/stochastic_gradient.py:166: FutureWarning: max_iter and tol parameters have been added in SGDClassifier in 0.19. If both are left unset, they default to max_iter=5 and tol=None. If tol is not None, max_iter defaults to max_iter=1000. From 0.21, default max_iter will be 1000, and default tol will be 1e-3.\n",
      "  FutureWarning)\n"
     ]
    }
   ],
   "source": [
    "from sklearn.linear_model import SGDClassifier\n",
    "\n",
    "sgd = SGDClassifier()\n",
    "sgd.fit(X_train, y_train)\n",
    "Y_pred = sgd.predict(X_test)\n",
    "sgd_score = sgd.score(X_test, y_test) "
   ]
  },
  {
   "cell_type": "markdown",
   "metadata": {},
   "source": [
    "# Perceptron"
   ]
  },
  {
   "cell_type": "code",
   "execution_count": 28,
   "metadata": {},
   "outputs": [
    {
     "name": "stderr",
     "output_type": "stream",
     "text": [
      "/usr/local/lib/python3.7/site-packages/sklearn/linear_model/stochastic_gradient.py:166: FutureWarning: max_iter and tol parameters have been added in Perceptron in 0.19. If both are left unset, they default to max_iter=5 and tol=None. If tol is not None, max_iter defaults to max_iter=1000. From 0.21, default max_iter will be 1000, and default tol will be 1e-3.\n",
      "  FutureWarning)\n"
     ]
    }
   ],
   "source": [
    "from sklearn.linear_model import Perceptron\n",
    "\n",
    "perceptron = Perceptron()\n",
    "perceptron.fit(X_train, y_train)\n",
    "Y_pred = perceptron.predict(X_test)\n",
    "perc_score = perceptron.score(X_test, y_test)\n"
   ]
  },
  {
   "cell_type": "markdown",
   "metadata": {},
   "source": [
    "# XGBoost"
   ]
  },
  {
   "cell_type": "code",
   "execution_count": 29,
   "metadata": {},
   "outputs": [],
   "source": [
    "import xgboost as xgb\n",
    "\n",
    "XGB = xgb.XGBClassifier()\n",
    "XGB.fit(X_train, y_train)\n",
    "Y_pred = XGB.predict(X_test)\n",
    "XGB_score = XGB.score(X_test,y_test)"
   ]
  },
  {
   "cell_type": "markdown",
   "metadata": {},
   "source": [
    "# Which model do we use?"
   ]
  },
  {
   "cell_type": "code",
   "execution_count": 30,
   "metadata": {},
   "outputs": [
    {
     "data": {
      "text/html": [
       "<div>\n",
       "<style scoped>\n",
       "    .dataframe tbody tr th:only-of-type {\n",
       "        vertical-align: middle;\n",
       "    }\n",
       "\n",
       "    .dataframe tbody tr th {\n",
       "        vertical-align: top;\n",
       "    }\n",
       "\n",
       "    .dataframe thead th {\n",
       "        text-align: right;\n",
       "    }\n",
       "</style>\n",
       "<table border=\"1\" class=\"dataframe\">\n",
       "  <thead>\n",
       "    <tr style=\"text-align: right;\">\n",
       "      <th></th>\n",
       "      <th>Model</th>\n",
       "      <th>Score</th>\n",
       "    </tr>\n",
       "  </thead>\n",
       "  <tbody>\n",
       "    <tr>\n",
       "      <th>2</th>\n",
       "      <td>Random Forest</td>\n",
       "      <td>0.935228</td>\n",
       "    </tr>\n",
       "    <tr>\n",
       "      <th>4</th>\n",
       "      <td>Decision Tree</td>\n",
       "      <td>0.935174</td>\n",
       "    </tr>\n",
       "    <tr>\n",
       "      <th>5</th>\n",
       "      <td>K Nearest Neighbors</td>\n",
       "      <td>0.921235</td>\n",
       "    </tr>\n",
       "    <tr>\n",
       "      <th>0</th>\n",
       "      <td>Support Vector Machines</td>\n",
       "      <td>0.705657</td>\n",
       "    </tr>\n",
       "    <tr>\n",
       "      <th>3</th>\n",
       "      <td>Linear SVC</td>\n",
       "      <td>0.705657</td>\n",
       "    </tr>\n",
       "    <tr>\n",
       "      <th>6</th>\n",
       "      <td>Gaussian Naive Bayes</td>\n",
       "      <td>0.688385</td>\n",
       "    </tr>\n",
       "    <tr>\n",
       "      <th>7</th>\n",
       "      <td>Stochastic Gradient Descent</td>\n",
       "      <td>0.685051</td>\n",
       "    </tr>\n",
       "    <tr>\n",
       "      <th>1</th>\n",
       "      <td>Logistic Regression</td>\n",
       "      <td>0.634982</td>\n",
       "    </tr>\n",
       "    <tr>\n",
       "      <th>8</th>\n",
       "      <td>Perceptron</td>\n",
       "      <td>0.612845</td>\n",
       "    </tr>\n",
       "  </tbody>\n",
       "</table>\n",
       "</div>"
      ],
      "text/plain": [
       "                         Model     Score\n",
       "2                Random Forest  0.935228\n",
       "4                Decision Tree  0.935174\n",
       "5          K Nearest Neighbors  0.921235\n",
       "0      Support Vector Machines  0.705657\n",
       "3                   Linear SVC  0.705657\n",
       "6         Gaussian Naive Bayes  0.688385\n",
       "7  Stochastic Gradient Descent  0.685051\n",
       "1          Logistic Regression  0.634982\n",
       "8                   Perceptron  0.612845"
      ]
     },
     "execution_count": 30,
     "metadata": {},
     "output_type": "execute_result"
    }
   ],
   "source": [
    "models = pd.DataFrame({\n",
    "    'Model': ['Support Vector Machines', 'Logistic Regression', \n",
    "              'Random Forest', 'Linear SVC', \n",
    "              'Decision Tree', 'K Nearest Neighbors', \n",
    "              'Gaussian Naive Bayes', 'Stochastic Gradient Descent', \n",
    "              'Perceptron'],\n",
    "    'Score': [svm_score, logreg_score, rf_score, svm_score, dtc_score, \n",
    "              knn_score, gaussian_score, sgd_score, perc_score]})\n",
    "models.sort_values(by='Score', ascending=False)"
   ]
  },
  {
   "cell_type": "markdown",
   "metadata": {},
   "source": [
    "# Neural Network"
   ]
  },
  {
   "cell_type": "code",
   "execution_count": 37,
   "metadata": {},
   "outputs": [
    {
     "name": "stdout",
     "output_type": "stream",
     "text": [
      "Train on 49029 samples, validate on 24149 samples\n",
      "Epoch 1/300\n",
      "49029/49029 [==============================] - 4s 91us/step - loss: 0.5191 - acc: 0.7534 - val_loss: 0.4505 - val_acc: 0.8090\n",
      "Epoch 2/300\n",
      "49029/49029 [==============================] - 4s 79us/step - loss: 0.4160 - acc: 0.8412 - val_loss: 0.3846 - val_acc: 0.8580\n",
      "Epoch 3/300\n",
      "49029/49029 [==============================] - 4s 80us/step - loss: 0.3772 - acc: 0.8650 - val_loss: 0.3601 - val_acc: 0.8699\n",
      "Epoch 4/300\n",
      "49029/49029 [==============================] - 4s 80us/step - loss: 0.3597 - acc: 0.8666 - val_loss: 0.3451 - val_acc: 0.8718\n",
      "Epoch 5/300\n",
      "49029/49029 [==============================] - 4s 73us/step - loss: 0.3475 - acc: 0.8712 - val_loss: 0.3358 - val_acc: 0.8743\n",
      "Epoch 6/300\n",
      "49029/49029 [==============================] - 4s 73us/step - loss: 0.3415 - acc: 0.8748 - val_loss: 0.3331 - val_acc: 0.8776\n",
      "Epoch 7/300\n",
      "49029/49029 [==============================] - 4s 76us/step - loss: 0.3348 - acc: 0.8778 - val_loss: 0.3236 - val_acc: 0.8821\n",
      "Epoch 8/300\n",
      "49029/49029 [==============================] - 4s 76us/step - loss: 0.3325 - acc: 0.8790 - val_loss: 0.3183 - val_acc: 0.8857\n",
      "Epoch 9/300\n",
      "49029/49029 [==============================] - 5s 93us/step - loss: 0.3286 - acc: 0.8823 - val_loss: 0.3224 - val_acc: 0.8869\n",
      "Epoch 10/300\n",
      "49029/49029 [==============================] - 4s 75us/step - loss: 0.3249 - acc: 0.8838 - val_loss: 0.3185 - val_acc: 0.8861\n",
      "Epoch 11/300\n",
      "49029/49029 [==============================] - 4s 82us/step - loss: 0.3227 - acc: 0.8845 - val_loss: 0.3207 - val_acc: 0.8830\n",
      "Epoch 12/300\n",
      "49029/49029 [==============================] - 4s 75us/step - loss: 0.3215 - acc: 0.8860 - val_loss: 0.3097 - val_acc: 0.8938\n",
      "Epoch 13/300\n",
      "49029/49029 [==============================] - 4s 75us/step - loss: 0.3172 - acc: 0.8887 - val_loss: 0.3115 - val_acc: 0.8934cc: 0\n",
      "Epoch 14/300\n",
      "49029/49029 [==============================] - 4s 74us/step - loss: 0.3135 - acc: 0.8913 - val_loss: 0.3029 - val_acc: 0.9004\n",
      "Epoch 15/300\n",
      "49029/49029 [==============================] - 4s 75us/step - loss: 0.3083 - acc: 0.8946 - val_loss: 0.2974 - val_acc: 0.9044\n",
      "Epoch 16/300\n",
      "49029/49029 [==============================] - 4s 75us/step - loss: 0.3058 - acc: 0.8977 - val_loss: 0.2962 - val_acc: 0.9010\n",
      "Epoch 17/300\n",
      "49029/49029 [==============================] - 4s 74us/step - loss: 0.3027 - acc: 0.8985 - val_loss: 0.2953 - val_acc: 0.9028\n",
      "Epoch 18/300\n",
      "49029/49029 [==============================] - 4s 75us/step - loss: 0.3008 - acc: 0.8992 - val_loss: 0.3000 - val_acc: 0.8961\n",
      "Epoch 19/300\n",
      "49029/49029 [==============================] - 4s 80us/step - loss: 0.2959 - acc: 0.9003 - val_loss: 0.2856 - val_acc: 0.9056\n",
      "Epoch 20/300\n",
      "49029/49029 [==============================] - 5s 92us/step - loss: 0.2918 - acc: 0.9021 - val_loss: 0.2858 - val_acc: 0.9046\n",
      "Epoch 21/300\n",
      "49029/49029 [==============================] - 5s 99us/step - loss: 0.2890 - acc: 0.9017 - val_loss: 0.2819 - val_acc: 0.9067\n",
      "Epoch 22/300\n",
      "49029/49029 [==============================] - 4s 88us/step - loss: 0.2868 - acc: 0.9024 - val_loss: 0.2791 - val_acc: 0.9076\n",
      "Epoch 23/300\n",
      "49029/49029 [==============================] - 4s 90us/step - loss: 0.2860 - acc: 0.9032 - val_loss: 0.2770 - val_acc: 0.9077\n",
      "Epoch 24/300\n",
      "49029/49029 [==============================] - 4s 86us/step - loss: 0.2847 - acc: 0.9035 - val_loss: 0.2812 - val_acc: 0.9074\n",
      "Epoch 25/300\n",
      "49029/49029 [==============================] - 4s 80us/step - loss: 0.2836 - acc: 0.9044 - val_loss: 0.2733 - val_acc: 0.9081\n",
      "Epoch 26/300\n",
      "49029/49029 [==============================] - 4s 87us/step - loss: 0.2829 - acc: 0.9043 - val_loss: 0.2745 - val_acc: 0.9073\n",
      "Epoch 27/300\n",
      "49029/49029 [==============================] - 4s 76us/step - loss: 0.2812 - acc: 0.9043 - val_loss: 0.2706 - val_acc: 0.9095\n",
      "Epoch 28/300\n",
      "49029/49029 [==============================] - 4s 76us/step - loss: 0.2805 - acc: 0.9056 - val_loss: 0.2728 - val_acc: 0.9078\n",
      "Epoch 29/300\n",
      "49029/49029 [==============================] - 4s 75us/step - loss: 0.2795 - acc: 0.9053 - val_loss: 0.2700 - val_acc: 0.9087\n",
      "Epoch 30/300\n",
      "49029/49029 [==============================] - 4s 76us/step - loss: 0.2781 - acc: 0.9055 - val_loss: 0.2707 - val_acc: 0.9099\n",
      "Epoch 31/300\n",
      "49029/49029 [==============================] - 4s 78us/step - loss: 0.2776 - acc: 0.9054 - val_loss: 0.2679 - val_acc: 0.9066\n",
      "Epoch 32/300\n",
      "49029/49029 [==============================] - 4s 76us/step - loss: 0.2768 - acc: 0.9054 - val_loss: 0.2690 - val_acc: 0.9062\n",
      "Epoch 33/300\n",
      "49029/49029 [==============================] - 4s 76us/step - loss: 0.2755 - acc: 0.9061 - val_loss: 0.2640 - val_acc: 0.9072\n",
      "Epoch 34/300\n",
      "49029/49029 [==============================] - 4s 76us/step - loss: 0.2738 - acc: 0.9066 - val_loss: 0.2686 - val_acc: 0.9084\n",
      "Epoch 35/300\n",
      "49029/49029 [==============================] - 4s 77us/step - loss: 0.2721 - acc: 0.9067 - val_loss: 0.2751 - val_acc: 0.9045\n",
      "Epoch 36/300\n",
      "49029/49029 [==============================] - 4s 76us/step - loss: 0.2720 - acc: 0.9056 - val_loss: 0.2681 - val_acc: 0.9115\n",
      "Epoch 37/300\n",
      "49029/49029 [==============================] - 4s 75us/step - loss: 0.2711 - acc: 0.9056 - val_loss: 0.2728 - val_acc: 0.9085\n",
      "Epoch 38/300\n",
      "49029/49029 [==============================] - 4s 78us/step - loss: 0.2706 - acc: 0.9063 - val_loss: 0.2616 - val_acc: 0.9104\n",
      "Epoch 39/300\n",
      "49029/49029 [==============================] - 4s 80us/step - loss: 0.2696 - acc: 0.9068 - val_loss: 0.2604 - val_acc: 0.9101\n",
      "Epoch 40/300\n",
      "49029/49029 [==============================] - 4s 77us/step - loss: 0.2682 - acc: 0.9064 - val_loss: 0.2604 - val_acc: 0.9111\n",
      "Epoch 41/300\n",
      "49029/49029 [==============================] - 4s 77us/step - loss: 0.2666 - acc: 0.9069 - val_loss: 0.2564 - val_acc: 0.9075\n",
      "Epoch 42/300\n",
      "49029/49029 [==============================] - 4s 76us/step - loss: 0.2678 - acc: 0.9062 - val_loss: 0.2604 - val_acc: 0.9123\n",
      "Epoch 43/300\n",
      "49029/49029 [==============================] - 4s 76us/step - loss: 0.2663 - acc: 0.9068 - val_loss: 0.2711 - val_acc: 0.9036\n",
      "Epoch 44/300\n",
      "49029/49029 [==============================] - 4s 84us/step - loss: 0.2657 - acc: 0.9067 - val_loss: 0.2717 - val_acc: 0.9090\n",
      "Epoch 45/300\n",
      "49029/49029 [==============================] - 4s 76us/step - loss: 0.2655 - acc: 0.9067 - val_loss: 0.2667 - val_acc: 0.9057\n",
      "Epoch 46/300\n",
      "49029/49029 [==============================] - 4s 77us/step - loss: 0.2677 - acc: 0.9065 - val_loss: 0.2547 - val_acc: 0.9106\n",
      "Epoch 47/300\n",
      "49029/49029 [==============================] - 4s 78us/step - loss: 0.2637 - acc: 0.9065 - val_loss: 0.2678 - val_acc: 0.9067\n",
      "Epoch 48/300\n",
      "49029/49029 [==============================] - 4s 75us/step - loss: 0.2636 - acc: 0.9070 - val_loss: 0.2560 - val_acc: 0.9121\n",
      "Epoch 49/300\n",
      "49029/49029 [==============================] - 4s 83us/step - loss: 0.2633 - acc: 0.9079 - val_loss: 0.2589 - val_acc: 0.9069\n",
      "Epoch 50/300\n",
      "49029/49029 [==============================] - 5s 98us/step - loss: 0.2621 - acc: 0.9075 - val_loss: 0.2556 - val_acc: 0.9076\n",
      "Epoch 51/300\n",
      "49029/49029 [==============================] - 5s 92us/step - loss: 0.2625 - acc: 0.9071 - val_loss: 0.2701 - val_acc: 0.8916\n",
      "Epoch 52/300\n",
      "49029/49029 [==============================] - 4s 90us/step - loss: 0.2619 - acc: 0.9078 - val_loss: 0.2545 - val_acc: 0.9111\n",
      "Epoch 53/300\n",
      "49029/49029 [==============================] - 5s 109us/step - loss: 0.2621 - acc: 0.9073 - val_loss: 0.2546 - val_acc: 0.9104\n",
      "Epoch 54/300\n",
      "49029/49029 [==============================] - 4s 89us/step - loss: 0.2615 - acc: 0.9076 - val_loss: 0.2581 - val_acc: 0.9088\n",
      "Epoch 55/300\n",
      "49029/49029 [==============================] - 5s 98us/step - loss: 0.2609 - acc: 0.9078 - val_loss: 0.2531 - val_acc: 0.9108\n",
      "Epoch 56/300\n",
      "49029/49029 [==============================] - 4s 90us/step - loss: 0.2599 - acc: 0.9076 - val_loss: 0.2613 - val_acc: 0.9105\n",
      "Epoch 57/300\n",
      "49029/49029 [==============================] - 4s 79us/step - loss: 0.2606 - acc: 0.9074 - val_loss: 0.2521 - val_acc: 0.9110\n",
      "Epoch 58/300\n",
      "49029/49029 [==============================] - 4s 77us/step - loss: 0.2595 - acc: 0.9081 - val_loss: 0.2597 - val_acc: 0.9084\n",
      "Epoch 59/300\n",
      "49029/49029 [==============================] - 4s 91us/step - loss: 0.2589 - acc: 0.9074 - val_loss: 0.2546 - val_acc: 0.9113\n",
      "Epoch 60/300\n",
      "49029/49029 [==============================] - 4s 87us/step - loss: 0.2593 - acc: 0.9084 - val_loss: 0.2636 - val_acc: 0.9019\n",
      "Epoch 61/300\n",
      "49029/49029 [==============================] - 6s 129us/step - loss: 0.2589 - acc: 0.9072 - val_loss: 0.2572 - val_acc: 0.9094\n",
      "Epoch 62/300\n",
      "49029/49029 [==============================] - 5s 107us/step - loss: 0.2577 - acc: 0.9084 - val_loss: 0.2547 - val_acc: 0.9113\n",
      "Epoch 63/300\n",
      "49029/49029 [==============================] - 6s 117us/step - loss: 0.2588 - acc: 0.9083 - val_loss: 0.2547 - val_acc: 0.9105\n",
      "Epoch 64/300\n",
      "49029/49029 [==============================] - 5s 96us/step - loss: 0.2580 - acc: 0.9076 - val_loss: 0.2572 - val_acc: 0.9086\n",
      "Epoch 65/300\n",
      "49029/49029 [==============================] - 6s 129us/step - loss: 0.2577 - acc: 0.9081 - val_loss: 0.2773 - val_acc: 0.9042\n",
      "Epoch 66/300\n",
      "49029/49029 [==============================] - 5s 107us/step - loss: 0.2574 - acc: 0.9081 - val_loss: 0.2504 - val_acc: 0.9094\n",
      "Epoch 67/300\n",
      "49029/49029 [==============================] - 4s 88us/step - loss: 0.2581 - acc: 0.9074 - val_loss: 0.2514 - val_acc: 0.9092\n",
      "Epoch 68/300\n",
      "49029/49029 [==============================] - 5s 95us/step - loss: 0.2565 - acc: 0.9083 - val_loss: 0.2501 - val_acc: 0.9082\n",
      "Epoch 69/300\n",
      "49029/49029 [==============================] - 5s 103us/step - loss: 0.2563 - acc: 0.9079 - val_loss: 0.2519 - val_acc: 0.9132\n",
      "Epoch 70/300\n",
      "49029/49029 [==============================] - 4s 85us/step - loss: 0.2566 - acc: 0.9078 - val_loss: 0.2485 - val_acc: 0.9080\n",
      "Epoch 71/300\n",
      "49029/49029 [==============================] - 4s 88us/step - loss: 0.2554 - acc: 0.9086 - val_loss: 0.2527 - val_acc: 0.9116\n",
      "Epoch 72/300\n",
      "49029/49029 [==============================] - 5s 93us/step - loss: 0.2557 - acc: 0.9086 - val_loss: 0.2528 - val_acc: 0.9110\n",
      "Epoch 73/300\n",
      "49029/49029 [==============================] - 5s 102us/step - loss: 0.2549 - acc: 0.9084 - val_loss: 0.2519 - val_acc: 0.9091\n",
      "Epoch 74/300\n",
      "49029/49029 [==============================] - 5s 100us/step - loss: 0.2556 - acc: 0.9082 - val_loss: 0.2499 - val_acc: 0.9115\n",
      "Epoch 75/300\n",
      "49029/49029 [==============================] - 5s 107us/step - loss: 0.2555 - acc: 0.9083 - val_loss: 0.2502 - val_acc: 0.9099\n",
      "Epoch 76/300\n",
      "49029/49029 [==============================] - 5s 93us/step - loss: 0.2545 - acc: 0.9088 - val_loss: 0.2487 - val_acc: 0.9113\n",
      "Epoch 77/300\n",
      "49029/49029 [==============================] - 5s 93us/step - loss: 0.2548 - acc: 0.9088 - val_loss: 0.2468 - val_acc: 0.9112\n",
      "Epoch 78/300\n",
      "49029/49029 [==============================] - 5s 101us/step - loss: 0.2542 - acc: 0.9087 - val_loss: 0.2460 - val_acc: 0.9109\n",
      "Epoch 79/300\n",
      "49029/49029 [==============================] - 4s 78us/step - loss: 0.2538 - acc: 0.9085 - val_loss: 0.2511 - val_acc: 0.9105\n",
      "Epoch 80/300\n",
      "49029/49029 [==============================] - 4s 75us/step - loss: 0.2540 - acc: 0.9091 - val_loss: 0.2626 - val_acc: 0.8913\n",
      "Epoch 81/300\n",
      "49029/49029 [==============================] - 6s 127us/step - loss: 0.2534 - acc: 0.9082 - val_loss: 0.2649 - val_acc: 0.8984\n",
      "Epoch 82/300\n",
      "49029/49029 [==============================] - 6s 130us/step - loss: 0.2538 - acc: 0.9090 - val_loss: 0.2505 - val_acc: 0.9091\n",
      "Epoch 83/300\n",
      "49029/49029 [==============================] - 5s 110us/step - loss: 0.2533 - acc: 0.9094 - val_loss: 0.2521 - val_acc: 0.9087\n",
      "Epoch 84/300\n",
      "49029/49029 [==============================] - 5s 99us/step - loss: 0.2525 - acc: 0.9094 - val_loss: 0.2500 - val_acc: 0.9084\n",
      "Epoch 85/300\n",
      "49029/49029 [==============================] - 5s 110us/step - loss: 0.2531 - acc: 0.9091 - val_loss: 0.2578 - val_acc: 0.9071\n",
      "Epoch 86/300\n",
      "49029/49029 [==============================] - 5s 100us/step - loss: 0.2526 - acc: 0.9093 - val_loss: 0.2525 - val_acc: 0.9074\n",
      "Epoch 87/300\n",
      "49029/49029 [==============================] - 4s 87us/step - loss: 0.2528 - acc: 0.9089 - val_loss: 0.2591 - val_acc: 0.9048\n",
      "Epoch 88/300\n",
      "49029/49029 [==============================] - 4s 79us/step - loss: 0.2524 - acc: 0.9098 - val_loss: 0.2471 - val_acc: 0.9136\n",
      "Epoch 89/300\n",
      "49029/49029 [==============================] - 5s 95us/step - loss: 0.2521 - acc: 0.9092 - val_loss: 0.2475 - val_acc: 0.9090\n",
      "Epoch 90/300\n",
      "49029/49029 [==============================] - 4s 90us/step - loss: 0.2519 - acc: 0.9092 - val_loss: 0.2486 - val_acc: 0.9138\n",
      "Epoch 91/300\n",
      "49029/49029 [==============================] - 6s 129us/step - loss: 0.2518 - acc: 0.9094 - val_loss: 0.2508 - val_acc: 0.9104\n",
      "Epoch 92/300\n",
      "49029/49029 [==============================] - 6s 114us/step - loss: 0.2526 - acc: 0.9088 - val_loss: 0.2465 - val_acc: 0.9108\n",
      "Epoch 93/300\n",
      "49029/49029 [==============================] - 7s 137us/step - loss: 0.2527 - acc: 0.9096 - val_loss: 0.2576 - val_acc: 0.9107\n",
      "Epoch 94/300\n",
      "49029/49029 [==============================] - 4s 86us/step - loss: 0.2513 - acc: 0.9095 - val_loss: 0.2432 - val_acc: 0.9117\n",
      "Epoch 95/300\n",
      "49029/49029 [==============================] - 6s 113us/step - loss: 0.2498 - acc: 0.9096 - val_loss: 0.2503 - val_acc: 0.9121\n",
      "Epoch 96/300\n",
      "49029/49029 [==============================] - 4s 89us/step - loss: 0.2506 - acc: 0.9105 - val_loss: 0.2437 - val_acc: 0.9129\n",
      "Epoch 97/300\n",
      "49029/49029 [==============================] - 4s 73us/step - loss: 0.2508 - acc: 0.9106 - val_loss: 0.2465 - val_acc: 0.9103\n",
      "Epoch 98/300\n",
      "49029/49029 [==============================] - 5s 92us/step - loss: 0.2514 - acc: 0.9095 - val_loss: 0.2455 - val_acc: 0.9118\n",
      "Epoch 99/300\n",
      "49029/49029 [==============================] - 5s 105us/step - loss: 0.2507 - acc: 0.9103 - val_loss: 0.2583 - val_acc: 0.9123\n",
      "Epoch 100/300\n",
      "49029/49029 [==============================] - 4s 76us/step - loss: 0.2502 - acc: 0.9103 - val_loss: 0.2443 - val_acc: 0.9113\n",
      "Epoch 101/300\n",
      "49029/49029 [==============================] - 5s 93us/step - loss: 0.2504 - acc: 0.9107 - val_loss: 0.2586 - val_acc: 0.9061\n",
      "Epoch 102/300\n",
      "49029/49029 [==============================] - 5s 95us/step - loss: 0.2501 - acc: 0.9100 - val_loss: 0.2422 - val_acc: 0.9130\n",
      "Epoch 103/300\n",
      "49029/49029 [==============================] - 6s 114us/step - loss: 0.2498 - acc: 0.9105 - val_loss: 0.2457 - val_acc: 0.9121\n",
      "Epoch 104/300\n",
      "49029/49029 [==============================] - 4s 75us/step - loss: 0.2515 - acc: 0.9093 - val_loss: 0.2437 - val_acc: 0.9104\n",
      "Epoch 105/300\n",
      "49029/49029 [==============================] - 3s 67us/step - loss: 0.2496 - acc: 0.9102 - val_loss: 0.2423 - val_acc: 0.9139\n",
      "Epoch 106/300\n",
      "49029/49029 [==============================] - 4s 86us/step - loss: 0.2501 - acc: 0.9098 - val_loss: 0.2605 - val_acc: 0.8986\n",
      "Epoch 107/300\n",
      "49029/49029 [==============================] - 5s 94us/step - loss: 0.2491 - acc: 0.9110 - val_loss: 0.2458 - val_acc: 0.9138\n",
      "Epoch 108/300\n",
      "49029/49029 [==============================] - 6s 118us/step - loss: 0.2490 - acc: 0.9108 - val_loss: 0.2540 - val_acc: 0.9108\n",
      "Epoch 109/300\n",
      "49029/49029 [==============================] - 5s 103us/step - loss: 0.2495 - acc: 0.9104 - val_loss: 0.2454 - val_acc: 0.9128\n",
      "Epoch 110/300\n",
      "49029/49029 [==============================] - 4s 82us/step - loss: 0.2487 - acc: 0.9107 - val_loss: 0.2498 - val_acc: 0.9115\n",
      "Epoch 111/300\n",
      "49029/49029 [==============================] - 5s 93us/step - loss: 0.2498 - acc: 0.9107 - val_loss: 0.2411 - val_acc: 0.9141\n",
      "Epoch 112/300\n",
      "49029/49029 [==============================] - 3s 70us/step - loss: 0.2490 - acc: 0.9104 - val_loss: 0.2431 - val_acc: 0.9123\n",
      "Epoch 113/300\n",
      "49029/49029 [==============================] - 3s 67us/step - loss: 0.2488 - acc: 0.9113 - val_loss: 0.2450 - val_acc: 0.9123\n",
      "Epoch 114/300\n",
      "49029/49029 [==============================] - 4s 81us/step - loss: 0.2497 - acc: 0.9105 - val_loss: 0.2409 - val_acc: 0.9139\n",
      "Epoch 115/300\n",
      "49029/49029 [==============================] - 4s 82us/step - loss: 0.2493 - acc: 0.9100 - val_loss: 0.2496 - val_acc: 0.9048\n",
      "Epoch 116/300\n",
      "49029/49029 [==============================] - 3s 66us/step - loss: 0.2483 - acc: 0.9105 - val_loss: 0.2476 - val_acc: 0.9114\n",
      "Epoch 117/300\n",
      "49029/49029 [==============================] - 4s 76us/step - loss: 0.2484 - acc: 0.9110 - val_loss: 0.2491 - val_acc: 0.9059\n"
     ]
    },
    {
     "name": "stdout",
     "output_type": "stream",
     "text": [
      "Epoch 118/300\n",
      "49029/49029 [==============================] - 4s 78us/step - loss: 0.2488 - acc: 0.9107 - val_loss: 0.2475 - val_acc: 0.9125\n",
      "Epoch 119/300\n",
      "49029/49029 [==============================] - 5s 92us/step - loss: 0.2483 - acc: 0.9107 - val_loss: 0.2445 - val_acc: 0.9139\n",
      "Epoch 120/300\n",
      "49029/49029 [==============================] - 5s 98us/step - loss: 0.2483 - acc: 0.9107 - val_loss: 0.2417 - val_acc: 0.9117\n",
      "Epoch 121/300\n",
      "49029/49029 [==============================] - 4s 84us/step - loss: 0.2480 - acc: 0.9114 - val_loss: 0.2478 - val_acc: 0.9109\n",
      "Epoch 122/300\n",
      "49029/49029 [==============================] - 4s 74us/step - loss: 0.2481 - acc: 0.9108 - val_loss: 0.2420 - val_acc: 0.9143\n",
      "Epoch 123/300\n",
      "49029/49029 [==============================] - 4s 91us/step - loss: 0.2471 - acc: 0.9114 - val_loss: 0.2416 - val_acc: 0.9113\n",
      "Epoch 124/300\n",
      "49029/49029 [==============================] - 5s 107us/step - loss: 0.2464 - acc: 0.9114 - val_loss: 0.2447 - val_acc: 0.9133\n",
      "Epoch 125/300\n",
      "49029/49029 [==============================] - 5s 95us/step - loss: 0.2484 - acc: 0.9107 - val_loss: 0.2410 - val_acc: 0.9136\n",
      "Epoch 126/300\n",
      "49029/49029 [==============================] - 4s 81us/step - loss: 0.2475 - acc: 0.9113 - val_loss: 0.2419 - val_acc: 0.9137\n",
      "Epoch 127/300\n",
      "49029/49029 [==============================] - 4s 81us/step - loss: 0.2475 - acc: 0.9110 - val_loss: 0.2449 - val_acc: 0.90570s - loss: 0.2479\n",
      "Epoch 128/300\n",
      "49029/49029 [==============================] - 4s 87us/step - loss: 0.2465 - acc: 0.9114 - val_loss: 0.2443 - val_acc: 0.9140\n",
      "Epoch 129/300\n",
      "49029/49029 [==============================] - 5s 93us/step - loss: 0.2471 - acc: 0.9112 - val_loss: 0.2385 - val_acc: 0.9140\n",
      "Epoch 130/300\n",
      "49029/49029 [==============================] - 5s 102us/step - loss: 0.2467 - acc: 0.9114 - val_loss: 0.2432 - val_acc: 0.9140\n",
      "Epoch 131/300\n",
      "49029/49029 [==============================] - 5s 93us/step - loss: 0.2470 - acc: 0.9116 - val_loss: 0.2419 - val_acc: 0.9135\n",
      "Epoch 132/300\n",
      "49029/49029 [==============================] - 4s 80us/step - loss: 0.2462 - acc: 0.9111 - val_loss: 0.2420 - val_acc: 0.9135\n",
      "Epoch 133/300\n",
      "49029/49029 [==============================] - 4s 87us/step - loss: 0.2466 - acc: 0.9116 - val_loss: 0.2469 - val_acc: 0.9111\n",
      "Epoch 134/300\n",
      "49029/49029 [==============================] - 5s 96us/step - loss: 0.2462 - acc: 0.9109 - val_loss: 0.2399 - val_acc: 0.9141\n",
      "Epoch 135/300\n",
      "49029/49029 [==============================] - 6s 117us/step - loss: 0.2460 - acc: 0.9111 - val_loss: 0.2397 - val_acc: 0.9140\n",
      "Epoch 136/300\n",
      "49029/49029 [==============================] - 4s 84us/step - loss: 0.2473 - acc: 0.9115 - val_loss: 0.2426 - val_acc: 0.9137\n",
      "Epoch 137/300\n",
      "49029/49029 [==============================] - 4s 81us/step - loss: 0.2464 - acc: 0.9115 - val_loss: 0.2438 - val_acc: 0.9143\n",
      "Epoch 138/300\n",
      "49029/49029 [==============================] - 5s 101us/step - loss: 0.2457 - acc: 0.9123 - val_loss: 0.2408 - val_acc: 0.9143\n",
      "Epoch 139/300\n",
      "49029/49029 [==============================] - 4s 91us/step - loss: 0.2455 - acc: 0.9116 - val_loss: 0.2483 - val_acc: 0.9128\n",
      "Epoch 140/300\n",
      "49029/49029 [==============================] - 5s 108us/step - loss: 0.2458 - acc: 0.9112 - val_loss: 0.2512 - val_acc: 0.9090\n",
      "Epoch 141/300\n",
      "49029/49029 [==============================] - 5s 108us/step - loss: 0.2459 - acc: 0.9112 - val_loss: 0.2396 - val_acc: 0.9145\n",
      "Epoch 142/300\n",
      "49029/49029 [==============================] - 5s 94us/step - loss: 0.2456 - acc: 0.9120 - val_loss: 0.2441 - val_acc: 0.9127\n",
      "Epoch 143/300\n",
      "49029/49029 [==============================] - 5s 109us/step - loss: 0.2456 - acc: 0.9117 - val_loss: 0.2404 - val_acc: 0.9145\n",
      "Epoch 144/300\n",
      "49029/49029 [==============================] - 5s 107us/step - loss: 0.2460 - acc: 0.9117 - val_loss: 0.2422 - val_acc: 0.9134\n",
      "Epoch 145/300\n",
      "49029/49029 [==============================] - 6s 114us/step - loss: 0.2458 - acc: 0.9116 - val_loss: 0.2398 - val_acc: 0.9127\n",
      "Epoch 146/300\n",
      "49029/49029 [==============================] - 5s 103us/step - loss: 0.2446 - acc: 0.9120 - val_loss: 0.2406 - val_acc: 0.9134\n",
      "Epoch 147/300\n",
      "49029/49029 [==============================] - 5s 97us/step - loss: 0.2450 - acc: 0.9121 - val_loss: 0.2426 - val_acc: 0.9141\n",
      "Epoch 148/300\n",
      "49029/49029 [==============================] - 5s 101us/step - loss: 0.2453 - acc: 0.9116 - val_loss: 0.2378 - val_acc: 0.9141\n",
      "Epoch 149/300\n",
      "49029/49029 [==============================] - 5s 104us/step - loss: 0.2450 - acc: 0.9116 - val_loss: 0.2397 - val_acc: 0.9134\n",
      "Epoch 150/300\n",
      "49029/49029 [==============================] - 4s 88us/step - loss: 0.2445 - acc: 0.9115 - val_loss: 0.2421 - val_acc: 0.9121\n",
      "Epoch 151/300\n",
      "49029/49029 [==============================] - 4s 82us/step - loss: 0.2445 - acc: 0.9122 - val_loss: 0.2419 - val_acc: 0.9128\n",
      "Epoch 152/300\n",
      "49029/49029 [==============================] - 4s 80us/step - loss: 0.2443 - acc: 0.9121 - val_loss: 0.2378 - val_acc: 0.9143\n",
      "Epoch 153/300\n",
      "49029/49029 [==============================] - 4s 84us/step - loss: 0.2441 - acc: 0.9122 - val_loss: 0.2457 - val_acc: 0.9119\n",
      "Epoch 154/300\n",
      "49029/49029 [==============================] - 4s 84us/step - loss: 0.2442 - acc: 0.9123 - val_loss: 0.2452 - val_acc: 0.9123\n",
      "Epoch 155/300\n",
      "49029/49029 [==============================] - 4s 85us/step - loss: 0.2440 - acc: 0.9124 - val_loss: 0.2401 - val_acc: 0.9125\n",
      "Epoch 156/300\n",
      "49029/49029 [==============================] - 4s 83us/step - loss: 0.2429 - acc: 0.9130 - val_loss: 0.2456 - val_acc: 0.9083\n",
      "Epoch 157/300\n",
      "49029/49029 [==============================] - 5s 99us/step - loss: 0.2435 - acc: 0.9120 - val_loss: 0.2377 - val_acc: 0.9128\n",
      "Epoch 158/300\n",
      "49029/49029 [==============================] - 5s 101us/step - loss: 0.2434 - acc: 0.9123 - val_loss: 0.2403 - val_acc: 0.9135\n",
      "Epoch 159/300\n",
      "49029/49029 [==============================] - 4s 84us/step - loss: 0.2436 - acc: 0.9127 - val_loss: 0.2388 - val_acc: 0.9129\n",
      "Epoch 160/300\n",
      "49029/49029 [==============================] - 5s 95us/step - loss: 0.2434 - acc: 0.9119 - val_loss: 0.2461 - val_acc: 0.9082\n",
      "Epoch 161/300\n",
      "49029/49029 [==============================] - 4s 88us/step - loss: 0.2434 - acc: 0.9124 - val_loss: 0.2395 - val_acc: 0.9147\n",
      "Epoch 162/300\n",
      "49029/49029 [==============================] - 5s 108us/step - loss: 0.2440 - acc: 0.9124 - val_loss: 0.2431 - val_acc: 0.9127\n",
      "Epoch 163/300\n",
      "49029/49029 [==============================] - 6s 126us/step - loss: 0.2433 - acc: 0.9124 - val_loss: 0.2440 - val_acc: 0.9137\n",
      "Epoch 164/300\n",
      "49029/49029 [==============================] - 7s 134us/step - loss: 0.2429 - acc: 0.9127 - val_loss: 0.2525 - val_acc: 0.9094\n",
      "Epoch 165/300\n",
      "49029/49029 [==============================] - 6s 118us/step - loss: 0.2431 - acc: 0.9125 - val_loss: 0.2400 - val_acc: 0.9141\n",
      "Epoch 166/300\n",
      "49029/49029 [==============================] - 4s 77us/step - loss: 0.2426 - acc: 0.9130 - val_loss: 0.2452 - val_acc: 0.9094\n",
      "Epoch 167/300\n",
      "49029/49029 [==============================] - 5s 105us/step - loss: 0.2430 - acc: 0.9129 - val_loss: 0.2477 - val_acc: 0.9144\n",
      "Epoch 168/300\n",
      "49029/49029 [==============================] - 3s 67us/step - loss: 0.2432 - acc: 0.9128 - val_loss: 0.2403 - val_acc: 0.9154\n",
      "Epoch 169/300\n",
      "49029/49029 [==============================] - 3s 65us/step - loss: 0.2435 - acc: 0.9126 - val_loss: 0.2469 - val_acc: 0.9118\n",
      "Epoch 170/300\n",
      "49029/49029 [==============================] - 3s 63us/step - loss: 0.2437 - acc: 0.9121 - val_loss: 0.2394 - val_acc: 0.9144\n",
      "Epoch 171/300\n",
      "49029/49029 [==============================] - 3s 62us/step - loss: 0.2424 - acc: 0.9125 - val_loss: 0.2392 - val_acc: 0.9127\n",
      "Epoch 172/300\n",
      "49029/49029 [==============================] - 4s 72us/step - loss: 0.2419 - acc: 0.9129 - val_loss: 0.2453 - val_acc: 0.9133\n",
      "Epoch 173/300\n",
      "49029/49029 [==============================] - 3s 65us/step - loss: 0.2431 - acc: 0.9127 - val_loss: 0.2378 - val_acc: 0.9147\n",
      "Epoch 174/300\n",
      "49029/49029 [==============================] - 3s 63us/step - loss: 0.2418 - acc: 0.9131 - val_loss: 0.2361 - val_acc: 0.9144\n",
      "Epoch 175/300\n",
      "49029/49029 [==============================] - 3s 62us/step - loss: 0.2415 - acc: 0.9130 - val_loss: 0.2402 - val_acc: 0.9138\n",
      "Epoch 176/300\n",
      "49029/49029 [==============================] - 3s 65us/step - loss: 0.2417 - acc: 0.9133 - val_loss: 0.2382 - val_acc: 0.9137\n",
      "Epoch 177/300\n",
      "49029/49029 [==============================] - 3s 61us/step - loss: 0.2423 - acc: 0.9131 - val_loss: 0.2412 - val_acc: 0.9103\n",
      "Epoch 178/300\n",
      "49029/49029 [==============================] - 3s 61us/step - loss: 0.2419 - acc: 0.9125 - val_loss: 0.2407 - val_acc: 0.9124\n",
      "Epoch 179/300\n",
      "49029/49029 [==============================] - 3s 66us/step - loss: 0.2412 - acc: 0.9134 - val_loss: 0.2404 - val_acc: 0.9099\n",
      "Epoch 180/300\n",
      "49029/49029 [==============================] - 3s 64us/step - loss: 0.2412 - acc: 0.9131 - val_loss: 0.2439 - val_acc: 0.9140\n",
      "Epoch 181/300\n",
      "49029/49029 [==============================] - 3s 66us/step - loss: 0.2419 - acc: 0.9131 - val_loss: 0.2449 - val_acc: 0.9147\n",
      "Epoch 182/300\n",
      "49029/49029 [==============================] - 3s 65us/step - loss: 0.2413 - acc: 0.9131 - val_loss: 0.2431 - val_acc: 0.9149\n",
      "Epoch 183/300\n",
      "49029/49029 [==============================] - 3s 62us/step - loss: 0.2416 - acc: 0.9124 - val_loss: 0.2370 - val_acc: 0.9150\n",
      "Epoch 184/300\n",
      "49029/49029 [==============================] - 3s 65us/step - loss: 0.2414 - acc: 0.9131 - val_loss: 0.2357 - val_acc: 0.9124\n",
      "Epoch 185/300\n",
      "49029/49029 [==============================] - 4s 86us/step - loss: 0.2410 - acc: 0.9134 - val_loss: 0.2369 - val_acc: 0.9148\n",
      "Epoch 186/300\n",
      "49029/49029 [==============================] - 4s 80us/step - loss: 0.2418 - acc: 0.9127 - val_loss: 0.2377 - val_acc: 0.9140\n",
      "Epoch 187/300\n",
      "49029/49029 [==============================] - 5s 97us/step - loss: 0.2414 - acc: 0.9131 - val_loss: 0.2373 - val_acc: 0.9128\n",
      "Epoch 188/300\n",
      "49029/49029 [==============================] - 4s 82us/step - loss: 0.2409 - acc: 0.9126 - val_loss: 0.2362 - val_acc: 0.9130\n",
      "Epoch 189/300\n",
      "49029/49029 [==============================] - 4s 88us/step - loss: 0.2410 - acc: 0.9131 - val_loss: 0.2373 - val_acc: 0.9143\n",
      "Epoch 190/300\n",
      "49029/49029 [==============================] - 4s 85us/step - loss: 0.2410 - acc: 0.9134 - val_loss: 0.2358 - val_acc: 0.9137\n",
      "Epoch 191/300\n",
      "49029/49029 [==============================] - 4s 86us/step - loss: 0.2409 - acc: 0.9129 - val_loss: 0.2451 - val_acc: 0.9138\n",
      "Epoch 192/300\n",
      "49029/49029 [==============================] - 4s 74us/step - loss: 0.2409 - acc: 0.9132 - val_loss: 0.2400 - val_acc: 0.9140\n",
      "Epoch 193/300\n",
      "49029/49029 [==============================] - 5s 99us/step - loss: 0.2400 - acc: 0.9129 - val_loss: 0.2353 - val_acc: 0.9152\n",
      "Epoch 194/300\n",
      "49029/49029 [==============================] - 4s 84us/step - loss: 0.2394 - acc: 0.9136 - val_loss: 0.2403 - val_acc: 0.9135\n",
      "Epoch 195/300\n",
      "49029/49029 [==============================] - 4s 86us/step - loss: 0.2401 - acc: 0.9134 - val_loss: 0.2366 - val_acc: 0.9135\n",
      "Epoch 196/300\n",
      "49029/49029 [==============================] - 4s 81us/step - loss: 0.2403 - acc: 0.9130 - val_loss: 0.2391 - val_acc: 0.9153\n",
      "Epoch 197/300\n",
      "49029/49029 [==============================] - 4s 91us/step - loss: 0.2395 - acc: 0.9134 - val_loss: 0.2363 - val_acc: 0.9149\n",
      "Epoch 198/300\n",
      "49029/49029 [==============================] - 5s 102us/step - loss: 0.2399 - acc: 0.9132 - val_loss: 0.2372 - val_acc: 0.9140\n",
      "Epoch 199/300\n",
      "49029/49029 [==============================] - 4s 90us/step - loss: 0.2398 - acc: 0.9135 - val_loss: 0.2384 - val_acc: 0.9136\n",
      "Epoch 200/300\n",
      "49029/49029 [==============================] - 4s 82us/step - loss: 0.2404 - acc: 0.9137 - val_loss: 0.2369 - val_acc: 0.9137\n",
      "Epoch 201/300\n",
      "49029/49029 [==============================] - 6s 114us/step - loss: 0.2400 - acc: 0.9134 - val_loss: 0.2379 - val_acc: 0.9144\n",
      "Epoch 202/300\n",
      "49029/49029 [==============================] - 4s 77us/step - loss: 0.2399 - acc: 0.9133 - val_loss: 0.2358 - val_acc: 0.9137\n",
      "Epoch 203/300\n",
      "49029/49029 [==============================] - 6s 120us/step - loss: 0.2403 - acc: 0.9129 - val_loss: 0.2362 - val_acc: 0.9160\n",
      "Epoch 204/300\n",
      "49029/49029 [==============================] - 15s 315us/step - loss: 0.2397 - acc: 0.9126 - val_loss: 0.2382 - val_acc: 0.9142\n",
      "Epoch 205/300\n",
      "49029/49029 [==============================] - 10s 205us/step - loss: 0.2392 - acc: 0.9129 - val_loss: 0.2350 - val_acc: 0.9148\n",
      "Epoch 206/300\n",
      "49029/49029 [==============================] - 5s 104us/step - loss: 0.2385 - acc: 0.9131 - val_loss: 0.2455 - val_acc: 0.9100\n",
      "Epoch 207/300\n",
      "49029/49029 [==============================] - 4s 89us/step - loss: 0.2390 - acc: 0.9130 - val_loss: 0.2393 - val_acc: 0.9115\n",
      "Epoch 208/300\n",
      "49029/49029 [==============================] - 5s 98us/step - loss: 0.2398 - acc: 0.9129 - val_loss: 0.2451 - val_acc: 0.9118\n",
      "Epoch 209/300\n",
      "49029/49029 [==============================] - 5s 95us/step - loss: 0.2391 - acc: 0.9136 - val_loss: 0.2445 - val_acc: 0.9125\n",
      "Epoch 210/300\n",
      "49029/49029 [==============================] - 4s 84us/step - loss: 0.2393 - acc: 0.9129 - val_loss: 0.2356 - val_acc: 0.9148\n",
      "Epoch 211/300\n",
      "49029/49029 [==============================] - 4s 84us/step - loss: 0.2383 - acc: 0.9135 - val_loss: 0.2347 - val_acc: 0.9140\n",
      "Epoch 212/300\n",
      "49029/49029 [==============================] - 5s 100us/step - loss: 0.2383 - acc: 0.9137 - val_loss: 0.2368 - val_acc: 0.9150\n",
      "Epoch 213/300\n",
      "49029/49029 [==============================] - 5s 103us/step - loss: 0.2382 - acc: 0.9134 - val_loss: 0.2398 - val_acc: 0.9150\n",
      "Epoch 214/300\n",
      "49029/49029 [==============================] - 4s 83us/step - loss: 0.2390 - acc: 0.9134 - val_loss: 0.2480 - val_acc: 0.9082\n",
      "Epoch 215/300\n",
      "49029/49029 [==============================] - 4s 85us/step - loss: 0.2378 - acc: 0.9133 - val_loss: 0.2394 - val_acc: 0.9150\n",
      "Epoch 216/300\n",
      "49029/49029 [==============================] - 4s 89us/step - loss: 0.2381 - acc: 0.9134 - val_loss: 0.2357 - val_acc: 0.9143\n",
      "Epoch 217/300\n",
      "49029/49029 [==============================] - 4s 72us/step - loss: 0.2391 - acc: 0.9136 - val_loss: 0.2386 - val_acc: 0.9161\n",
      "Epoch 218/300\n",
      "49029/49029 [==============================] - 3s 66us/step - loss: 0.2385 - acc: 0.9129 - val_loss: 0.2402 - val_acc: 0.9115\n",
      "Epoch 219/300\n",
      "49029/49029 [==============================] - 5s 102us/step - loss: 0.2381 - acc: 0.9133 - val_loss: 0.2404 - val_acc: 0.9140\n",
      "Epoch 220/300\n",
      "49029/49029 [==============================] - 5s 106us/step - loss: 0.2392 - acc: 0.9135 - val_loss: 0.2343 - val_acc: 0.9152\n",
      "Epoch 221/300\n",
      "49029/49029 [==============================] - 4s 77us/step - loss: 0.2378 - acc: 0.9132 - val_loss: 0.2349 - val_acc: 0.9151\n",
      "Epoch 222/300\n",
      "49029/49029 [==============================] - 4s 76us/step - loss: 0.2371 - acc: 0.9137 - val_loss: 0.2359 - val_acc: 0.9094\n",
      "Epoch 223/300\n",
      "49029/49029 [==============================] - 4s 76us/step - loss: 0.2386 - acc: 0.9129 - val_loss: 0.2372 - val_acc: 0.9125\n",
      "Epoch 224/300\n",
      "49029/49029 [==============================] - 4s 78us/step - loss: 0.2374 - acc: 0.9141 - val_loss: 0.2383 - val_acc: 0.9131\n",
      "Epoch 225/300\n",
      "49029/49029 [==============================] - 3s 70us/step - loss: 0.2378 - acc: 0.9136 - val_loss: 0.2398 - val_acc: 0.9135\n",
      "Epoch 226/300\n",
      "49029/49029 [==============================] - 3s 64us/step - loss: 0.2370 - acc: 0.9138 - val_loss: 0.2370 - val_acc: 0.9149\n",
      "Epoch 227/300\n",
      "49029/49029 [==============================] - 3s 62us/step - loss: 0.2377 - acc: 0.9133 - val_loss: 0.2349 - val_acc: 0.9149\n",
      "Epoch 228/300\n",
      "49029/49029 [==============================] - 3s 68us/step - loss: 0.2378 - acc: 0.9138 - val_loss: 0.2366 - val_acc: 0.9152\n",
      "Epoch 229/300\n",
      "49029/49029 [==============================] - 3s 63us/step - loss: 0.2375 - acc: 0.9132 - val_loss: 0.2439 - val_acc: 0.9127\n",
      "Epoch 230/300\n",
      "49029/49029 [==============================] - 3s 63us/step - loss: 0.2379 - acc: 0.9130 - val_loss: 0.2346 - val_acc: 0.9150\n",
      "Epoch 231/300\n",
      "49029/49029 [==============================] - 3s 62us/step - loss: 0.2366 - acc: 0.9137 - val_loss: 0.2367 - val_acc: 0.9136\n",
      "Epoch 232/300\n",
      "49029/49029 [==============================] - 3s 63us/step - loss: 0.2379 - acc: 0.9136 - val_loss: 0.2354 - val_acc: 0.9154\n",
      "Epoch 233/300\n",
      "49029/49029 [==============================] - 3s 64us/step - loss: 0.2369 - acc: 0.9137 - val_loss: 0.2404 - val_acc: 0.9135\n",
      "Epoch 234/300\n"
     ]
    },
    {
     "name": "stdout",
     "output_type": "stream",
     "text": [
      "49029/49029 [==============================] - 3s 64us/step - loss: 0.2372 - acc: 0.9133 - val_loss: 0.2360 - val_acc: 0.9174\n",
      "Epoch 235/300\n",
      "49029/49029 [==============================] - 3s 65us/step - loss: 0.2367 - acc: 0.9132 - val_loss: 0.2365 - val_acc: 0.9147\n",
      "Epoch 236/300\n",
      "49029/49029 [==============================] - 3s 63us/step - loss: 0.2377 - acc: 0.9134 - val_loss: 0.2338 - val_acc: 0.9147\n",
      "Epoch 237/300\n",
      "49029/49029 [==============================] - 3s 63us/step - loss: 0.2369 - acc: 0.9141 - val_loss: 0.2351 - val_acc: 0.9146\n",
      "Epoch 238/300\n",
      "49029/49029 [==============================] - 3s 64us/step - loss: 0.2367 - acc: 0.9138 - val_loss: 0.2413 - val_acc: 0.9110\n",
      "Epoch 239/300\n",
      "49029/49029 [==============================] - 3s 64us/step - loss: 0.2369 - acc: 0.9128 - val_loss: 0.2327 - val_acc: 0.9155\n",
      "Epoch 240/300\n",
      "49029/49029 [==============================] - 3s 64us/step - loss: 0.2361 - acc: 0.9138 - val_loss: 0.2359 - val_acc: 0.9152\n",
      "Epoch 241/300\n",
      "49029/49029 [==============================] - 4s 88us/step - loss: 0.2367 - acc: 0.9138 - val_loss: 0.2385 - val_acc: 0.9157\n",
      "Epoch 242/300\n",
      "49029/49029 [==============================] - 4s 84us/step - loss: 0.2359 - acc: 0.9145 - val_loss: 0.2340 - val_acc: 0.9133\n",
      "Epoch 243/300\n",
      "49029/49029 [==============================] - 4s 73us/step - loss: 0.2367 - acc: 0.9144 - val_loss: 0.2343 - val_acc: 0.9152\n",
      "Epoch 244/300\n",
      "49029/49029 [==============================] - 4s 71us/step - loss: 0.2368 - acc: 0.9131 - val_loss: 0.2328 - val_acc: 0.9138\n",
      "Epoch 245/300\n",
      "49029/49029 [==============================] - 3s 70us/step - loss: 0.2362 - acc: 0.9132 - val_loss: 0.2334 - val_acc: 0.9137\n",
      "Epoch 246/300\n",
      "49029/49029 [==============================] - 4s 72us/step - loss: 0.2366 - acc: 0.9135 - val_loss: 0.2359 - val_acc: 0.9163\n",
      "Epoch 247/300\n",
      "49029/49029 [==============================] - 4s 83us/step - loss: 0.2366 - acc: 0.9132 - val_loss: 0.2540 - val_acc: 0.9109\n",
      "Epoch 248/300\n",
      "49029/49029 [==============================] - 6s 116us/step - loss: 0.2369 - acc: 0.9132 - val_loss: 0.2392 - val_acc: 0.9156\n",
      "Epoch 249/300\n",
      "49029/49029 [==============================] - 5s 93us/step - loss: 0.2364 - acc: 0.9137 - val_loss: 0.2338 - val_acc: 0.9163\n",
      "Epoch 250/300\n",
      "49029/49029 [==============================] - 4s 89us/step - loss: 0.2364 - acc: 0.9137 - val_loss: 0.2320 - val_acc: 0.9168\n",
      "Epoch 251/300\n",
      "49029/49029 [==============================] - 4s 89us/step - loss: 0.2355 - acc: 0.9137 - val_loss: 0.2419 - val_acc: 0.9123\n",
      "Epoch 252/300\n",
      "49029/49029 [==============================] - 4s 89us/step - loss: 0.2355 - acc: 0.9143 - val_loss: 0.2364 - val_acc: 0.9145\n",
      "Epoch 253/300\n",
      "49029/49029 [==============================] - 4s 89us/step - loss: 0.2363 - acc: 0.9138 - val_loss: 0.2344 - val_acc: 0.9150\n",
      "Epoch 254/300\n",
      "49029/49029 [==============================] - 4s 90us/step - loss: 0.2362 - acc: 0.9139 - val_loss: 0.2336 - val_acc: 0.9165\n",
      "Epoch 255/300\n",
      "49029/49029 [==============================] - 4s 82us/step - loss: 0.2356 - acc: 0.9142 - val_loss: 0.2405 - val_acc: 0.9143\n",
      "Epoch 256/300\n",
      "49029/49029 [==============================] - 4s 83us/step - loss: 0.2359 - acc: 0.9145 - val_loss: 0.2352 - val_acc: 0.9171\n",
      "Epoch 257/300\n",
      "49029/49029 [==============================] - 4s 89us/step - loss: 0.2357 - acc: 0.9144 - val_loss: 0.2335 - val_acc: 0.9150\n",
      "Epoch 258/300\n",
      "49029/49029 [==============================] - 4s 84us/step - loss: 0.2354 - acc: 0.9146 - val_loss: 0.2366 - val_acc: 0.9174\n",
      "Epoch 259/300\n",
      "49029/49029 [==============================] - 4s 76us/step - loss: 0.2361 - acc: 0.9139 - val_loss: 0.2378 - val_acc: 0.9155\n",
      "Epoch 260/300\n",
      "49029/49029 [==============================] - 4s 79us/step - loss: 0.2351 - acc: 0.9149 - val_loss: 0.2353 - val_acc: 0.9175\n",
      "Epoch 261/300\n",
      "49029/49029 [==============================] - 4s 79us/step - loss: 0.2363 - acc: 0.9138 - val_loss: 0.2357 - val_acc: 0.9158\n",
      "Epoch 262/300\n",
      "49029/49029 [==============================] - 4s 77us/step - loss: 0.2358 - acc: 0.9137 - val_loss: 0.2341 - val_acc: 0.9158\n",
      "Epoch 263/300\n",
      "49029/49029 [==============================] - 4s 78us/step - loss: 0.2358 - acc: 0.9150 - val_loss: 0.2355 - val_acc: 0.9157\n",
      "Epoch 264/300\n",
      "49029/49029 [==============================] - 4s 77us/step - loss: 0.2348 - acc: 0.9145 - val_loss: 0.2482 - val_acc: 0.9073\n",
      "Epoch 265/300\n",
      "49029/49029 [==============================] - 4s 79us/step - loss: 0.2351 - acc: 0.9140 - val_loss: 0.2315 - val_acc: 0.9160\n",
      "Epoch 266/300\n",
      "49029/49029 [==============================] - 4s 77us/step - loss: 0.2348 - acc: 0.9143 - val_loss: 0.2340 - val_acc: 0.9134\n",
      "Epoch 267/300\n",
      "49029/49029 [==============================] - 4s 77us/step - loss: 0.2347 - acc: 0.9143 - val_loss: 0.2378 - val_acc: 0.9116\n",
      "Epoch 268/300\n",
      "49029/49029 [==============================] - 4s 77us/step - loss: 0.2355 - acc: 0.9141 - val_loss: 0.2347 - val_acc: 0.9155\n",
      "Epoch 269/300\n",
      "49029/49029 [==============================] - 4s 79us/step - loss: 0.2357 - acc: 0.9143 - val_loss: 0.2454 - val_acc: 0.9132\n",
      "Epoch 270/300\n",
      "49029/49029 [==============================] - 4s 78us/step - loss: 0.2348 - acc: 0.9138 - val_loss: 0.2397 - val_acc: 0.9147\n",
      "Epoch 271/300\n",
      "49029/49029 [==============================] - 4s 78us/step - loss: 0.2347 - acc: 0.9141 - val_loss: 0.2345 - val_acc: 0.9150\n",
      "Epoch 272/300\n",
      "49029/49029 [==============================] - 4s 76us/step - loss: 0.2352 - acc: 0.9142 - val_loss: 0.2445 - val_acc: 0.9071\n",
      "Epoch 273/300\n",
      "49029/49029 [==============================] - 4s 80us/step - loss: 0.2351 - acc: 0.9140 - val_loss: 0.2391 - val_acc: 0.9131\n",
      "Epoch 274/300\n",
      "49029/49029 [==============================] - 4s 82us/step - loss: 0.2345 - acc: 0.9144 - val_loss: 0.2364 - val_acc: 0.9127\n",
      "Epoch 275/300\n",
      "49029/49029 [==============================] - 4s 77us/step - loss: 0.2348 - acc: 0.9143 - val_loss: 0.2327 - val_acc: 0.9192\n",
      "Epoch 276/300\n",
      "49029/49029 [==============================] - 4s 80us/step - loss: 0.2354 - acc: 0.9137 - val_loss: 0.2410 - val_acc: 0.9115\n",
      "Epoch 277/300\n",
      "49029/49029 [==============================] - 6s 116us/step - loss: 0.2348 - acc: 0.9139 - val_loss: 0.2371 - val_acc: 0.9162\n",
      "Epoch 278/300\n",
      "49029/49029 [==============================] - 5s 94us/step - loss: 0.2348 - acc: 0.9147 - val_loss: 0.2505 - val_acc: 0.9130\n",
      "Epoch 279/300\n",
      "49029/49029 [==============================] - 4s 83us/step - loss: 0.2349 - acc: 0.9141 - val_loss: 0.2372 - val_acc: 0.9150\n",
      "Epoch 280/300\n",
      "49029/49029 [==============================] - 4s 83us/step - loss: 0.2348 - acc: 0.9139 - val_loss: 0.2390 - val_acc: 0.9120\n",
      "Epoch 281/300\n",
      "49029/49029 [==============================] - 5s 92us/step - loss: 0.2343 - acc: 0.9137 - val_loss: 0.2396 - val_acc: 0.9135\n",
      "Epoch 282/300\n",
      "49029/49029 [==============================] - 4s 86us/step - loss: 0.2338 - acc: 0.9143 - val_loss: 0.2346 - val_acc: 0.9174\n",
      "Epoch 283/300\n",
      "49029/49029 [==============================] - 4s 84us/step - loss: 0.2345 - acc: 0.9150 - val_loss: 0.2384 - val_acc: 0.9181\n",
      "Epoch 284/300\n",
      "49029/49029 [==============================] - 4s 91us/step - loss: 0.2344 - acc: 0.9138 - val_loss: 0.2315 - val_acc: 0.9153\n",
      "Epoch 285/300\n",
      "49029/49029 [==============================] - 4s 91us/step - loss: 0.2341 - acc: 0.9151 - val_loss: 0.2341 - val_acc: 0.9147\n",
      "Epoch 286/300\n",
      "49029/49029 [==============================] - 4s 82us/step - loss: 0.2341 - acc: 0.9147 - val_loss: 0.2337 - val_acc: 0.9152\n",
      "Epoch 287/300\n",
      "49029/49029 [==============================] - 5s 93us/step - loss: 0.2346 - acc: 0.9138 - val_loss: 0.2373 - val_acc: 0.9136\n",
      "Epoch 288/300\n",
      "49029/49029 [==============================] - 5s 100us/step - loss: 0.2350 - acc: 0.9149 - val_loss: 0.2333 - val_acc: 0.9159\n",
      "Epoch 289/300\n",
      "49029/49029 [==============================] - 4s 84us/step - loss: 0.2340 - acc: 0.9148 - val_loss: 0.2318 - val_acc: 0.9163\n",
      "Epoch 290/300\n",
      "49029/49029 [==============================] - 4s 90us/step - loss: 0.2352 - acc: 0.9141 - val_loss: 0.2334 - val_acc: 0.9171\n",
      "Epoch 291/300\n",
      "49029/49029 [==============================] - 4s 81us/step - loss: 0.2341 - acc: 0.9143 - val_loss: 0.2305 - val_acc: 0.9166\n",
      "Epoch 292/300\n",
      "49029/49029 [==============================] - 3s 71us/step - loss: 0.2338 - acc: 0.9140 - val_loss: 0.2407 - val_acc: 0.9138\n",
      "Epoch 293/300\n",
      "49029/49029 [==============================] - 4s 73us/step - loss: 0.2341 - acc: 0.9143 - val_loss: 0.2370 - val_acc: 0.9136\n",
      "Epoch 294/300\n",
      "49029/49029 [==============================] - 4s 80us/step - loss: 0.2342 - acc: 0.9145 - val_loss: 0.2366 - val_acc: 0.9156\n",
      "Epoch 295/300\n",
      "49029/49029 [==============================] - 4s 74us/step - loss: 0.2342 - acc: 0.9153 - val_loss: 0.2392 - val_acc: 0.9127\n",
      "Epoch 296/300\n",
      "49029/49029 [==============================] - 4s 72us/step - loss: 0.2343 - acc: 0.9141 - val_loss: 0.2448 - val_acc: 0.9101\n",
      "Epoch 297/300\n",
      "49029/49029 [==============================] - 4s 72us/step - loss: 0.2337 - acc: 0.9147 - val_loss: 0.2357 - val_acc: 0.9163\n",
      "Epoch 298/300\n",
      "49029/49029 [==============================] - 4s 77us/step - loss: 0.2334 - acc: 0.9149 - val_loss: 0.2351 - val_acc: 0.9140\n",
      "Epoch 299/300\n",
      "49029/49029 [==============================] - 4s 73us/step - loss: 0.2335 - acc: 0.9144 - val_loss: 0.2325 - val_acc: 0.9141\n",
      "Epoch 300/300\n",
      "49029/49029 [==============================] - 4s 74us/step - loss: 0.2340 - acc: 0.9145 - val_loss: 0.2370 - val_acc: 0.9108\n",
      "73178/73178 [==============================] - 2s 28us/step\n",
      "18295/18295 [==============================] - 1s 33us/step\n",
      "Training set accuracy: 0.9120637350039521\n",
      "Training set loss: 0.23598015509280473\n",
      "Test set accuracy: 0.9120524733794391\n",
      "Test set loss: 0.23658748286837078\n"
     ]
    }
   ],
   "source": [
    "from keras.models import Sequential\n",
    "from keras.layers import Dense\n",
    "\n",
    "model = Sequential()\n",
    "model.add(Dense(60, activation='sigmoid', input_dim = 4))\n",
    "model.add(Dense(30,activation='sigmoid'))\n",
    "model.add(Dense(1, activation='sigmoid'))\n",
    "\n",
    "\n",
    "# can try rmsprop\n",
    "model.compile(optimizer = 'adam',     \n",
    "              loss = 'binary_crossentropy',\n",
    "              metrics = ['accuracy']) \n",
    "\n",
    "# Train the model, iterating on the data in batches of 32 samples\n",
    "history = model.fit(X_train, y_train, \n",
    "                    validation_split = 0.33, \n",
    "                    epochs = 300, \n",
    "                    batch_size = 32)\n",
    "\n",
    "# Evaluate the model's performance\n",
    "train_loss, train_acc = model.evaluate(X_train, y_train)\n",
    "test_loss, test_acc = model.evaluate(X_test, y_test)\n",
    "\n",
    "\n",
    "print('Training set accuracy:', train_acc)\n",
    "print('Training set loss:', train_loss)\n",
    "\n",
    "print('Test set accuracy:', test_acc)\n",
    "print('Test set loss:', test_loss)\n",
    "\n"
   ]
  },
  {
   "cell_type": "code",
   "execution_count": 66,
   "metadata": {},
   "outputs": [
    {
     "data": {
      "image/png": "[encoded data removed]",
      "text/plain": [
       "<Figure size 432x288 with 1 Axes>"
      ]
     },
     "metadata": {
      "needs_background": "light"
     },
     "output_type": "display_data"
    }
   ],
   "source": [
    "# The history of our accuracy during training.\n",
    "plt.plot(history.history['acc'])\n",
    "plt.plot(history.history['val_acc'])\n",
    "plt.title('Model Accuracy')\n",
    "plt.ylabel('Accuracy')\n",
    "plt.xlabel('Number of epochs')\n",
    "plt.legend(['train', 'test'], loc='upper left')\n",
    "plt.show()"
   ]
  },
  {
   "cell_type": "code",
   "execution_count": 67,
   "metadata": {},
   "outputs": [
    {
     "data": {
      "image/png": "[encoded data removed]",
      "text/plain": [
       "<Figure size 432x288 with 1 Axes>"
      ]
     },
     "metadata": {
      "needs_background": "light"
     },
     "output_type": "display_data"
    }
   ],
   "source": [
    "# The history of our cross-entropy loss during training.\n",
    "plt.plot(history.history['loss'])\n",
    "plt.plot(history.history['val_loss'])\n",
    "plt.title('Model Loss')\n",
    "plt.ylabel('Loss')\n",
    "plt.xlabel('Number of epochs')\n",
    "plt.legend(['train', 'test'], loc='upper left')\n",
    "plt.show()"
   ]
  },
  {
   "cell_type": "markdown",
   "metadata": {},
   "source": [
    "# Ensemble Learning"
   ]
  },
  {
   "cell_type": "code",
   "execution_count": null,
   "metadata": {},
   "outputs": [],
   "source": []
  },
  {
   "cell_type": "code",
   "execution_count": null,
   "metadata": {},
   "outputs": [],
   "source": []
  },
  {
   "cell_type": "markdown",
   "metadata": {},
   "source": [
    "# Results on Test.csv"
   ]
  },
  {
   "cell_type": "code",
   "execution_count": null,
   "metadata": {},
   "outputs": [],
   "source": [
    "import pandas as pd\n",
    "true_test = pd.read_csv(\"data/test.csv\")\n",
    "\n",
    "#also remember to pickle model for kyle"
   ]
  },
  {
   "cell_type": "code",
   "execution_count": null,
   "metadata": {},
   "outputs": [],
   "source": [
    "test.info()"
   ]
  },
  {
   "cell_type": "code",
   "execution_count": null,
   "metadata": {},
   "outputs": [],
   "source": [
    "# Using Decision Tree\n",
    "\n",
    "from sklearn import tree\n",
    "dtc = tree.DecisionTreeClassifier()\n",
    "dtc = dtc.fit(X_train,y_train)\n",
    "print(\"Decision Tree Accuracy:\", dtc_score)\n",
    "\n",
    "true_test_X = true_test[['app', 'device', 'os', 'channel']]\n",
    "\n",
    "true_test_predictions = dtc.predict(true_test_X)"
   ]
  },
  {
   "cell_type": "code",
   "execution_count": null,
   "metadata": {},
   "outputs": [],
   "source": [
    "submission = pd.DataFrame({\n",
    "        \"ID\": true_test[\"click_id\"],\n",
    "        \"is_attributed\": true_test_predictions\n",
    "    })\n",
    "# submission.to_csv('../output/submission.csv', index=False)"
   ]
  }
 ],
 "metadata": {
  "kernelspec": {
   "display_name": "Python 3",
   "language": "python",
   "name": "python3"
  },
  "language_info": {
   "codemirror_mode": {
    "name": "ipython",
    "version": 3
   },
   "file_extension": ".py",
   "mimetype": "text/x-python",
   "name": "python",
   "nbconvert_exporter": "python",
   "pygments_lexer": "ipython3",
   "version": "3.7.2"
  }
 },
 "nbformat": 4,
 "nbformat_minor": 2
}
